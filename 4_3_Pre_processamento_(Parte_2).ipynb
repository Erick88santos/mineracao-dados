{
  "nbformat": 4,
  "nbformat_minor": 0,
  "metadata": {
    "colab": {
      "name": "4.3 Pre-processamento (Parte 2)",
      "private_outputs": true,
      "provenance": [],
      "collapsed_sections": [],
      "authorship_tag": "ABX9TyPemSfgr7HmzVBpnzpcdnGW",
      "include_colab_link": true
    },
    "kernelspec": {
      "name": "python3",
      "display_name": "Python 3"
    },
    "language_info": {
      "name": "python"
    }
  },
  "cells": [
    {
      "cell_type": "markdown",
      "metadata": {
        "id": "view-in-github",
        "colab_type": "text"
      },
      "source": [
        "<a href=\"https://colab.research.google.com/github/rodrigoclira/mineracao-dados/blob/main/4_3_Pre_processamento_(Parte_2).ipynb\" target=\"_parent\"><img src=\"https://colab.research.google.com/assets/colab-badge.svg\" alt=\"Open In Colab\"/></a>"
      ]
    },
    {
      "cell_type": "markdown",
      "metadata": {
        "id": "ISJ3HOWk4VzZ"
      },
      "source": [
        "#Pré-processamento (Parte 2)"
      ]
    },
    {
      "cell_type": "markdown",
      "metadata": {
        "id": "ZlptMKkN8ClB"
      },
      "source": [
        "https://archive.ics.uci.edu/ml/datasets/breast+cancer+wisconsin+%28diagnostic%29"
      ]
    },
    {
      "cell_type": "code",
      "metadata": {
        "id": "cWaTtpVjyZso"
      },
      "source": [
        "import pandas as pd\n",
        "import numpy as np\n",
        "import seaborn as sns \n",
        "import matplotlib.pyplot as plt\n",
        "sns.set_style(\"whitegrid\")"
      ],
      "execution_count": null,
      "outputs": []
    },
    {
      "cell_type": "code",
      "metadata": {
        "id": "EpEEkokQznH5"
      },
      "source": [
        "dados = pd.read_csv('https://raw.githubusercontent.com/rodrigoclira/mineracao-dados/main/datasets/breast-cancer/breast_cancer_missing.csv')"
      ],
      "execution_count": null,
      "outputs": []
    },
    {
      "cell_type": "code",
      "metadata": {
        "id": "Sr3OIx0h0G6g"
      },
      "source": [
        "dados.head()"
      ],
      "execution_count": null,
      "outputs": []
    },
    {
      "cell_type": "code",
      "metadata": {
        "id": "4Nx1IBhe8ERn"
      },
      "source": [
        "dados.describe()"
      ],
      "execution_count": null,
      "outputs": []
    },
    {
      "cell_type": "code",
      "metadata": {
        "id": "5jamZv-w8IgA"
      },
      "source": [
        "dados.shape"
      ],
      "execution_count": null,
      "outputs": []
    },
    {
      "cell_type": "code",
      "metadata": {
        "id": "30JIyKWU_6dZ"
      },
      "source": [
        "dados.isnull().sum()"
      ],
      "execution_count": null,
      "outputs": []
    },
    {
      "cell_type": "markdown",
      "metadata": {
        "id": "Zi5Yao5e8bYs"
      },
      "source": [
        "## Eliminação manual de atributos"
      ]
    },
    {
      "cell_type": "code",
      "metadata": {
        "id": "YyYaCJ3q8Vss"
      },
      "source": [
        "# removendo a coluna sample_id, a qual nao eh necessaria\n",
        "# para realizar o diagnostico\n",
        "del dados['sample_id']"
      ],
      "execution_count": null,
      "outputs": []
    },
    {
      "cell_type": "markdown",
      "metadata": {
        "id": "Zfs7YQTx8eYV"
      },
      "source": [
        "## Dados Ausentes"
      ]
    },
    {
      "cell_type": "code",
      "metadata": {
        "id": "oDAGV8MS8mCp"
      },
      "source": [
        "#Cada valor ausente eh indicado por um 'Not a Number' (numpy.nan)  gerando \n",
        "#uma amostra aleatoria simples de 100 elementos da base breast cancer, com \n",
        "#reposicao (o objeto pode aparecer mais de uma vez)*texto em itálico*\n",
        "dados.sample(100, replace=True)\n",
        "\n",
        "# calculando as medias dos atributos\n",
        "# 'medias' resulta em uma variavel do tipo 'Series',\n",
        "# o qual consiste em uma implementacao da Pandas\n",
        "# de um numpy.array com cada elemento contendo\n",
        "# um rotulo (ou nome)\n",
        "medias = dados.mean()\n",
        "\n",
        "# por fim, a insercao de valores sera realizada pela\n",
        "# funcao fillna, onde o parametro inplace=True indica\n",
        "# para os valores serem inseridos no próprio DataFrame\n",
        "# (caso seja falso, uma copia do DataFrame original sera\n",
        "# retornada contendo os valores preenchidos)\n",
        "dados.fillna(medias, inplace=True)"
      ],
      "execution_count": null,
      "outputs": []
    },
    {
      "cell_type": "markdown",
      "metadata": {
        "id": "bGSwrEh69CEi"
      },
      "source": [
        "## Dados Redudantes"
      ]
    },
    {
      "cell_type": "code",
      "metadata": {
        "id": "nbbP-Xnb-U4s"
      },
      "source": [
        "# carregando uma versao do conjunto de dados contendo\n",
        "# objetos redundantes (repetidos)\n",
        "dados_red =  pd.read_csv('https://raw.githubusercontent.com/rodrigoclira/mineracao-dados/main/datasets/breast-cancer/breast_cancer_red.csv')"
      ],
      "execution_count": null,
      "outputs": []
    },
    {
      "cell_type": "code",
      "metadata": {
        "id": "6WDK_BTpBfew"
      },
      "source": [
        "dados_red"
      ],
      "execution_count": null,
      "outputs": []
    },
    {
      "cell_type": "code",
      "metadata": {
        "id": "uVdQ9K3tBj-L"
      },
      "source": [
        "duplicate_rows = dados_red[dados_red.duplicated()]\n",
        "duplicate_rows"
      ],
      "execution_count": null,
      "outputs": []
    },
    {
      "cell_type": "markdown",
      "metadata": {
        "id": "GvxIcld3_JI6"
      },
      "source": [
        "https://scikit-learn.org/stable/modules/generated/sklearn.model_selection.train_test_split.html"
      ]
    }
  ]
}