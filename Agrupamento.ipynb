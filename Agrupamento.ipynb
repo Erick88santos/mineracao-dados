{
  "cells": [
    {
      "cell_type": "markdown",
      "metadata": {
        "id": "view-in-github",
        "colab_type": "text"
      },
      "source": [
        "<a href=\"https://colab.research.google.com/github/rodrigoclira/mineracao-dados/blob/main/Agrupamento.ipynb\" target=\"_parent\"><img src=\"https://colab.research.google.com/assets/colab-badge.svg\" alt=\"Open In Colab\"/></a>"
      ]
    },
    {
      "cell_type": "markdown",
      "source": [
        "# Clustering (Agrupamento)\n",
        " \n",
        "O clustering (agrupamento) é uma técnica de machine learning não supervisionada, usada para dividir um grupo em conjuntos. É não supervisionada porque não fornecemos nenhum rótulo (label) ao modelo; ele simplesmente inspeciona os atributos e determina quais amostras são semelhantes e pertencem a um cluster. Neste capítulo, veremos os métodos K-means (K-médias) e o clustering hierárquico. Também exploraremos o conjunto de dados do Titanic novamente usando várias técnicas."
      ],
      "metadata": {
        "id": "nONlu8h_Hyd5"
      }
    },
    {
      "cell_type": "code",
      "execution_count": 2,
      "metadata": {
        "id": "_mgU_FuNHS_4"
      },
      "outputs": [],
      "source": [
        "import matplotlib.pyplot as plt\n",
        "import numpy as np\n",
        "import pandas as pd \n",
        "import seaborn as sns\n",
        "from sklearn.experimental import (\n",
        "    enable_iterative_imputer,\n",
        ")\n",
        "from sklearn import (\n",
        "    ensemble,\n",
        "    impute,\n",
        "    model_selection,    \n",
        "    preprocessing,\n",
        "    tree,\n",
        ")\n",
        "from sklearn.ensemble import (\n",
        "    RandomForestClassifier,\n",
        ")\n",
        "from yellowbrick.model_selection import (\n",
        "    ValidationCurve,\n",
        ")\n",
        "\n",
        "url = 'https://github.com/rodrigoclira/mineracao-dados/blob/main/datasets/titanic3.xls?raw=true'\n",
        "\n",
        "df = pd.read_excel(url)\n",
        "def tweak_titanic(df):\n",
        "    df = df.drop(\n",
        "        columns=[\n",
        "            \"name\",\n",
        "            \"ticket\",\n",
        "            \"home.dest\",\n",
        "            \"boat\",\n",
        "            \"body\",\n",
        "            \"cabin\",\n",
        "        ]\n",
        "    ).pipe(pd.get_dummies, drop_first=True)\n",
        "    return df\n",
        "\n",
        "def get_train_test_X_y(\n",
        "    df, y_col, size=0.3, std_cols=None\n",
        "):\n",
        "    y = df[y_col]\n",
        "    X = df.drop(columns=y_col)\n",
        "    X_train, X_test, y_train, y_test = model_selection.train_test_split(\n",
        "        X, y, test_size=size, random_state=42\n",
        "    )\n",
        "    cols = X.columns\n",
        "    num_cols = [\n",
        "        \"pclass\",\n",
        "        \"age\",\n",
        "        \"sibsp\",\n",
        "        \"parch\",\n",
        "        \"fare\",\n",
        "    ]\n",
        "    fi = impute.IterativeImputer()\n",
        "\n",
        "    fitted = fi.fit_transform(X_train[num_cols])\n",
        "    X_train = X_train.assign(**{c:fitted[:,i] for i, c in enumerate(num_cols)})\n",
        "    test_fit = fi.transform(X_test[num_cols])\n",
        "    X_test = X_test.assign(**{c:test_fit[:,i] for i, c in enumerate(num_cols)})\n",
        "    if std_cols:\n",
        "        std = preprocessing.StandardScaler()\n",
        "        fitted = std.fit_transform(X_train[std_cols])\n",
        "        X_train = X_train.assign(**{c:fitted[:,i] for i, c in enumerate(std_cols)})\n",
        "        test_fit = std.transform(X_test[std_cols])\n",
        "        X_test = X_test.assign(**{c:test_fit[:,i] for i, c in enumerate(std_cols)})\n",
        "\n",
        "    return X_train, X_test, y_train, y_test\n",
        "\n",
        "ti_df = tweak_titanic(df)\n",
        "std_cols = \"pclass,age,sibsp,fare\".split(\",\")\n",
        "X_train, X_test, y_train, y_test = get_train_test_X_y(\n",
        "    ti_df, \"survived\", std_cols=std_cols\n",
        ")\n",
        "\n",
        "\n",
        "X = pd.concat([X_train, X_test])\n",
        "y = pd.concat([y_train, y_test])"
      ]
    },
    {
      "cell_type": "code",
      "execution_count": 3,
      "metadata": {
        "lines_to_next_cell": 2,
        "id": "80vVrVGFHTAC"
      },
      "outputs": [],
      "source": [
        "ti_df = tweak_titanic(df)\n",
        "std_cols = \"pclass,age,sibsp,fare\".split(\",\")\n",
        "X_train, X_test, y_train, y_test = get_train_test_X_y(\n",
        "    ti_df, \"survived\", std_cols=std_cols\n",
        ")\n",
        "X = pd.concat([X_train, X_test])\n",
        "y = pd.concat([y_train, y_test])"
      ]
    },
    {
      "cell_type": "markdown",
      "source": [
        "## KMeans\n",
        "\n",
        "O algoritmo k-means (k-médias) exige que o usuário selecione o número de clusters, isto é, “k”. Então, ele escolhe aleatoriamente k centroides e atribui cada amostra a um cluster com base na métrica de distância a partir do centroide. Após a atribuição, os centroides são recalculados com base no centro de todas as amostras atribuídas a um rótulo. Em seguida, a atribuição das amostras aos clusters se repete com base nos novos centroides. Após algumas iterações, deve haver uma convergência. Como o clustering utiliza métricas de distância para determinar quais amostras são semelhantes, o comportamento poderá mudar dependendo da escala dos dados. Podemos padronizar os dados e colocar todos os atributos na mesma escala. Algumas pessoas sugeriram que um especialista no assunto poderia aconselhar contra uma padronização caso a escala sinalize que alguns atributos tenham mais importância. Em nosso exemplo, padronizaremos os dados. Criaremos clusters para os passageiros do Titanic em nosso caso. Começaremos com dois clusters para ver se o clustering é capaz de separar os sobreviventes (não faremos o vazamento dos dados de sobrevivência no\n",
        "clustering, e usaremos apenas X, e não y).\n",
        "\n",
        "Algoritmos não supervisionados têm um método .fit e um método .predict.\n",
        "Passamos apenas X para .fit:"
      ],
      "metadata": {
        "id": "9AaJ4UdFH-Y6"
      }
    },
    {
      "cell_type": "code",
      "execution_count": 4,
      "metadata": {
        "lines_to_next_cell": 2,
        "colab": {
          "base_uri": "https://localhost:8080/"
        },
        "id": "9jLgKx01HTAF",
        "outputId": "7c93da82-b120-4d45-e6b9-1131121058fd"
      },
      "outputs": [
        {
          "output_type": "execute_result",
          "data": {
            "text/plain": [
              "KMeans(n_clusters=2, random_state=42)"
            ]
          },
          "metadata": {},
          "execution_count": 4
        }
      ],
      "source": [
        "from sklearn.cluster import KMeans\n",
        "X_std = preprocessing.StandardScaler().fit_transform(\n",
        "    X\n",
        ")\n",
        "km = KMeans(2, random_state=42)\n",
        "km.fit(X_std)"
      ]
    },
    {
      "cell_type": "markdown",
      "source": [
        "Depois que o modelo é treinado, podemos chamar o método .predict para atribuir novas amostras a um cluster:"
      ],
      "metadata": {
        "id": "T5-psPa5IM7o"
      }
    },
    {
      "cell_type": "code",
      "execution_count": 5,
      "metadata": {
        "lines_to_next_cell": 2,
        "colab": {
          "base_uri": "https://localhost:8080/"
        },
        "id": "g5f-LfiuHTAH",
        "outputId": "2c0af840-06fa-4836-fd3a-4035ce39f7cc"
      },
      "outputs": [
        {
          "output_type": "stream",
          "name": "stderr",
          "text": [
            "/usr/local/lib/python3.7/dist-packages/sklearn/base.py:439: UserWarning: X has feature names, but KMeans was fitted without feature names\n",
            "  f\"X has feature names, but {self.__class__.__name__} was fitted without\"\n"
          ]
        },
        {
          "output_type": "execute_result",
          "data": {
            "text/plain": [
              "array([1, 1, 1, ..., 1, 1, 1], dtype=int32)"
            ]
          },
          "metadata": {},
          "execution_count": 5
        }
      ],
      "source": [
        "X_km = km.predict(X)\n",
        "X_km"
      ]
    },
    {
      "cell_type": "markdown",
      "source": [
        "Parâmetros da instância:\n",
        "* n_clusters=8\n",
        "Número de clusters a serem criados.\n",
        "\n",
        "* init='kmeans++'\n",
        "Método de inicialização.\n",
        "\n",
        "* n_init=10\n",
        "Número de vezes que o algoritmo deve executar com diferentes centroides.\n",
        "A melhor pontuação vencerá.\n",
        "\n",
        "* max_iter=300\n",
        "Número de iterações para uma execução.\n",
        "\n",
        "* tol=0.0001\n",
        "Tolerância até a convergência.\n",
        "* precompute_distances='auto'\n",
        "Pré-calcular distâncias (exige mais memória, porém é mais rápido). auto fará\n",
        "o cálculo prévio se n_samples * n_clusters for menor ou igual a 12 milhões.\n",
        "\n",
        "*verbose=0\n",
        "Verbosidade.\n",
        "\n",
        "* random_state=None\n",
        "Semente (seed) aleatória.\n",
        "\n",
        "* copy_x=True\n",
        "Copia dados antes de processar.\n",
        "\n",
        "* n_jobs=1\n",
        "Número de CPUs a serem usadas.\n",
        "\n",
        "* algorithm='auto'\n",
        "Algoritmo K-means. 'full' funciona com dados esparsos, mas 'elkan' é mais\n",
        "eficaz. 'auto' usa 'elkan' com dados densos.\n",
        "\n",
        "Atributos:\n",
        "* cluster_centers_\n",
        "Coordenadas dos centros.\n",
        "\n",
        "* labels_\n",
        "Rótulos para as amostras.\n",
        "\n",
        "* inertia_\n",
        "Soma dos quadrados das distâncias até o centroide do cluster.\n",
        "\n",
        "* n_iter_\n",
        "Número de iterações.\n",
        "\n",
        "Se você não souber com antecedência quantos clusters serão necessários,\n",
        "poderá executar o algoritmo com diversos tamanhos e avaliar várias métricas.\n",
        "Pode ser complicado.\n",
        "Você pode implementar o próprio gráfico elbow (gráfico de cotovelo) usando\n",
        "o cálculo de .inertia_. Procure o ponto em que a curva dobra, pois essa será,\n",
        "possivelmente, uma boa opção para o número de clusters. Em nosso caso, a\n",
        "curva é suave, mas, depois de oito, não parece haver muita melhoria, como exibido na figura abaixo. "
      ],
      "metadata": {
        "id": "FYwCXu-bISa7"
      }
    },
    {
      "cell_type": "markdown",
      "source": [
        "Para gráficos sem um cotovelo, temos algumas opções. Podemos usar outras métricas, algumas das quais serão apresentadas a seguir. Também podemos inspecionar visualmente o clustering e ver se os clusters são visíveis. Podemos adicionar atributos aos dados e ver se isso ajuda no clustering. Eis o código para um gráfico de cotovelo:"
      ],
      "metadata": {
        "id": "oqJO28vLI9-c"
      }
    },
    {
      "cell_type": "code",
      "execution_count": 6,
      "metadata": {
        "lines_to_next_cell": 2,
        "colab": {
          "base_uri": "https://localhost:8080/",
          "height": 296
        },
        "id": "Oe7WNjcjHTAJ",
        "outputId": "28f5c99a-ae71-4475-da2c-12d14a1b35f3"
      },
      "outputs": [
        {
          "output_type": "execute_result",
          "data": {
            "text/plain": [
              "Text(0, 0.5, 'Inertia')"
            ]
          },
          "metadata": {},
          "execution_count": 6
        },
        {
          "output_type": "display_data",
          "data": {
            "image/png": "[encoded data removed]",
            "text/plain": [
              "<Figure size 432x288 with 1 Axes>"
            ]
          },
          "metadata": {
            "needs_background": "light"
          }
        }
      ],
      "source": [
        "inertias = []\n",
        "sizes = range(2, 12)\n",
        "for k in sizes:\n",
        "    k2 = KMeans(random_state=42, n_clusters=k)\n",
        "    k2.fit(X)\n",
        "    inertias.append(k2.inertia_)\n",
        "fig, ax = plt.subplots(figsize=(6, 4))\n",
        "pd.Series(inertias, index=sizes).plot(ax=ax)\n",
        "ax.set_xlabel(\"K\")\n",
        "ax.set_ylabel(\"Inertia\")\n",
        "#fig.savefig(\"images/mlpr_1801.png\", dpi=300)"
      ]
    },
    {
      "cell_type": "markdown",
      "source": [
        "O scikit-learn tem outas métricas de clustering quando os verdadeiros rótulos\n",
        "não são conhecidos. Podemos calcular esses valores e colocá-los em um gráfico também. O coeficiente de silhueta (silhouette coefficient) é um valor entre -1 e 1. Quanto maior o valor, melhor será. O valor 1 indica clusters mais claros, enquanto 0 implica clusters que se sobrepõem. A partir dessa medida, dois clusters nos dão a melhor pontuação. O Índice de Calinski-Harabasz é a razão entre a dispersão interclusters e a dispersão intracluster. Uma pontuação maior será melhor. Dois clusters dão a melhor pontuação para essa métrica.\n",
        "\n",
        "O Índice de Davis-Bouldin é a semelhança média entre cada cluster e o cluster mais próximo. As pontuações variam de 0 ou mais. O valor 0 indica um clustering melhor. A seguir, colocaremos em um gráfico as informações de inércia, o coeficiente de silhueta, o Índice de Calinski-Harabasz e o Índice de Davies-Bouldin para diversos tamanhos de clusters, a fim de ver se há um tamanho evidente de clusters para os dados (veja a Figura abaixo). Parece que a maior parte dessas métricas concorda que deve haver dois clusters: "
      ],
      "metadata": {
        "id": "26faPlRUJ9Uu"
      }
    },
    {
      "cell_type": "code",
      "execution_count": 7,
      "metadata": {
        "lines_to_next_cell": 2,
        "colab": {
          "base_uri": "https://localhost:8080/",
          "height": 402
        },
        "id": "_2mtZMnsHTAK",
        "outputId": "3075d83f-08f1-4956-af26-40441cad943e"
      },
      "outputs": [
        {
          "output_type": "stream",
          "name": "stderr",
          "text": [
            "/usr/local/lib/python3.7/dist-packages/pandas/plotting/_matplotlib/__init__.py:61: UserWarning: To output multiple subplots, the figure containing the passed axes is being cleared\n",
            "  plot_obj.generate()\n"
          ]
        },
        {
          "output_type": "execute_result",
          "data": {
            "text/plain": [
              "array([[<matplotlib.axes._subplots.AxesSubplot object at 0x7f8f6ded0150>,\n",
              "        <matplotlib.axes._subplots.AxesSubplot object at 0x7f8f60ff6b90>],\n",
              "       [<matplotlib.axes._subplots.AxesSubplot object at 0x7f8f60f44690>,\n",
              "        <matplotlib.axes._subplots.AxesSubplot object at 0x7f8f60ef8c90>]],\n",
              "      dtype=object)"
            ]
          },
          "metadata": {},
          "execution_count": 7
        },
        {
          "output_type": "display_data",
          "data": {
            "image/png": "[encoded data removed]",
            "text/plain": [
              "<Figure size 432x288 with 4 Axes>"
            ]
          },
          "metadata": {
            "needs_background": "light"
          }
        }
      ],
      "source": [
        "from sklearn import metrics\n",
        "inertias = []\n",
        "sils = []\n",
        "chs = []\n",
        "dbs = []\n",
        "sizes = range(2, 12)\n",
        "for k in sizes:\n",
        "    k2 = KMeans(random_state=42, n_clusters=k)\n",
        "    k2.fit(X_std)\n",
        "    inertias.append(k2.inertia_)\n",
        "    sils.append(\n",
        "        metrics.silhouette_score(X, k2.labels_)\n",
        "    )\n",
        "    chs.append(\n",
        "        metrics.calinski_harabasz_score(\n",
        "            X, k2.labels_\n",
        "        )\n",
        "    )\n",
        "    dbs.append(\n",
        "        metrics.davies_bouldin_score(\n",
        "            X, k2.labels_\n",
        "        )\n",
        "    )\n",
        "fig, ax = plt.subplots(figsize=(6, 4))\n",
        "(\n",
        "    pd.DataFrame(\n",
        "        {\n",
        "            \"inertia\": inertias,\n",
        "            \"silhouette\": sils,\n",
        "            \"calinski\": chs,\n",
        "            \"davis\": dbs,\n",
        "            \"k\": sizes,\n",
        "        }\n",
        "    )\n",
        "    .set_index(\"k\")\n",
        "    .plot(ax=ax, subplots=True, layout=(2, 2))\n",
        ")\n",
        "#fig.savefig(\"images/mlpr_1802.png\", dpi=300)"
      ]
    },
    {
      "cell_type": "markdown",
      "source": [
        "Outra técnica para determinar clusters é visualizar as pontuações de silhueta\n",
        "para cada cluster. O Yellowbrick tem um visualizador para isso (veja a figura abaixo). A linha vermelha pontilhada vertical nesse gráfico é a pontuação média. Um modo de interpretar isso é garantir que cada cluster se destaque acima da média, e as pontuações do cluster pareçam razoáveis. Não se esqueça de usar os mesmos limites x (ax.set_xlim). A partir desses gráficos, eu optaria por dois clusters:"
      ],
      "metadata": {
        "id": "waUHFqv2KXNT"
      }
    },
    {
      "cell_type": "code",
      "execution_count": 8,
      "metadata": {
        "lines_to_next_cell": 2,
        "colab": {
          "base_uri": "https://localhost:8080/",
          "height": 585
        },
        "id": "Tmc8R6TGHTAL",
        "outputId": "700ac29b-b8a6-4019-8f1c-079f6c9bdb19"
      },
      "outputs": [
        {
          "output_type": "display_data",
          "data": {
            "image/png": "[encoded data removed]",
            "text/plain": [
              "<Figure size 864x576 with 4 Axes>"
            ]
          },
          "metadata": {
            "needs_background": "light"
          }
        }
      ],
      "source": [
        "from yellowbrick.cluster.silhouette import (\n",
        "    SilhouetteVisualizer,\n",
        ")\n",
        "fig, axes = plt.subplots(2, 2, figsize=(12, 8))\n",
        "axes = axes.reshape(4)\n",
        "for i, k in enumerate(range(2, 6)):\n",
        "    ax = axes[i]\n",
        "    sil = SilhouetteVisualizer(\n",
        "        KMeans(n_clusters=k, random_state=42),\n",
        "        ax=ax,\n",
        "    )\n",
        "    sil.fit(X_std)\n",
        "    sil.finalize()\n",
        "    ax.set_xlim(-0.2, 0.8)\n",
        "plt.tight_layout()\n",
        "#fig.savefig(\"images/mlpr_1803.png\", dpi=300)"
      ]
    },
    {
      "cell_type": "markdown",
      "source": [
        "## Clustering (hierárquico) aglomerativo\n",
        "\n",
        "Outra metodologia é o clustering aglomerativo (agglomerative clustering). Comece com cada amostra em seu próprio cluster. Em seguida, combine os clusters “mais próximos”. Repita até terminar, enquanto mantém o controle dos tamanhos mais próximos. Quando terminar, você terá um dendrograma, isto é, uma árvore que controla quando os clusters foram criados e qual é a métrica das distâncias. Podemos usar a biblioteca scipy para visualizar o dendrograma.\n",
        "\n",
        "A scipy pode ser usada para criar um dendrograma (veja a figura abaixo).\n",
        "Como podemos ver, se você tiver muitas amostras, será difícil ler os nós do\n",
        "tipo folha:"
      ],
      "metadata": {
        "id": "5a2RaGTIKgiM"
      }
    },
    {
      "cell_type": "code",
      "execution_count": 9,
      "metadata": {
        "lines_to_next_cell": 2,
        "colab": {
          "base_uri": "https://localhost:8080/",
          "height": 268
        },
        "id": "NZlv5DJeHTAM",
        "outputId": "cda88686-4f08-4669-8c66-dc14d0e2aa25"
      },
      "outputs": [
        {
          "output_type": "display_data",
          "data": {
            "image/png": "[encoded data removed]",
            "text/plain": [
              "<Figure size 432x288 with 1 Axes>"
            ]
          },
          "metadata": {
            "needs_background": "light"
          }
        }
      ],
      "source": [
        "from scipy.cluster import hierarchy\n",
        "fig, ax = plt.subplots(figsize=(6, 4))\n",
        "dend = hierarchy.dendrogram(\n",
        "    hierarchy.linkage(X_std, method=\"ward\")\n",
        ")\n",
        "#fig.savefig(\"images/mlpr_1804.png\", dpi=300)"
      ]
    },
    {
      "cell_type": "markdown",
      "source": [
        "Depois que tiver o dendrograma, você terá todos os clusters (de um até a quantidade de amostras). As alturas representam o nível de semelhança dos clusters quando são unidos. Para descobrir quantos clusters há nos dados, você poderia “passar” uma linha horizontal no ponto em que ela cruzaria as linhas mais altas. Nesse caso, ao traçar essa linha, você teria três clusters. O gráfico anterior apresenta um pouco de ruído, pois contém todas as amostras. Você também pode usar o parâmetro truncate_mode para combinar as folhas em um único nó (veja a figura abaixo):"
      ],
      "metadata": {
        "id": "velG1v68KsUT"
      }
    },
    {
      "cell_type": "code",
      "execution_count": 10,
      "metadata": {
        "lines_to_next_cell": 2,
        "colab": {
          "base_uri": "https://localhost:8080/",
          "height": 269
        },
        "id": "MV4AsrXPHTAN",
        "outputId": "5a50d02d-2f70-4a49-e6fc-04aa1834f868"
      },
      "outputs": [
        {
          "output_type": "display_data",
          "data": {
            "image/png": "[encoded data removed]",
            "text/plain": [
              "<Figure size 432x288 with 1 Axes>"
            ]
          },
          "metadata": {
            "needs_background": "light"
          }
        }
      ],
      "source": [
        "from scipy.cluster import hierarchy\n",
        "fig, ax = plt.subplots(figsize=(6, 4))\n",
        "dend = hierarchy.dendrogram(\n",
        "    hierarchy.linkage(X_std, method=\"ward\"),\n",
        "    truncate_mode=\"lastp\",\n",
        "    p=20,\n",
        "    show_contracted=True,\n",
        ")\n",
        "#fig.savefig(\"images/mlpr_1805.png\", dpi=300)"
      ]
    },
    {
      "cell_type": "markdown",
      "source": [
        "Depois que soubermos quantos clusters serão necessários, poderemos usar o\n",
        "scikit-learn para criar um modelo:"
      ],
      "metadata": {
        "id": "d4IG3k7XK133"
      }
    },
    {
      "cell_type": "code",
      "execution_count": null,
      "metadata": {
        "lines_to_next_cell": 2,
        "id": "vA5Q-yioHTAO",
        "outputId": "c52db144-144d-4d7e-c965-99eb688c8870"
      },
      "outputs": [
        {
          "data": {
            "text/plain": [
              "AgglomerativeClustering(affinity='euclidean', compute_full_tree='auto',\n",
              "                        connectivity=None, distance_threshold=None,\n",
              "                        linkage='ward', memory=None, n_clusters=4,\n",
              "                        pooling_func='deprecated')"
            ]
          },
          "execution_count": 11,
          "metadata": {},
          "output_type": "execute_result"
        }
      ],
      "source": [
        "from sklearn.cluster import (\n",
        "    AgglomerativeClustering,\n",
        ")\n",
        "ag = AgglomerativeClustering(\n",
        "    n_clusters=4,\n",
        "    affinity=\"euclidean\",\n",
        "    linkage=\"ward\",\n",
        ")\n",
        "ag.fit(X)"
      ]
    },
    {
      "cell_type": "markdown",
      "source": [
        "## Entendendo os clusters\n",
        "\n",
        "Ao usar o K-means no conjunto de dados do Titanic, criaremos dois clusters.\n",
        "Podemos usar a funcionalidade de agrupamento do pandas para analisar as  diferenças entre os clusters. O código a seguir analisa a média e a variância\n",
        "para cada atributo. Parece que o valor médio de pclass varia bastante. Estou inserindo de volta os dados de sobrevivência para ver se o clustering estava relacionado com eles:"
      ],
      "metadata": {
        "id": "GgNY5kPgK7Ao"
      }
    },
    {
      "cell_type": "code",
      "execution_count": 11,
      "metadata": {
        "colab": {
          "base_uri": "https://localhost:8080/",
          "height": 614
        },
        "id": "JcsDm7jFHTAP",
        "outputId": "1ac48bd3-ee01-4211-e09f-e4b4b6889c51"
      },
      "outputs": [
        {
          "output_type": "execute_result",
          "data": {
            "text/html": [
              "\n",
              "  <div id=\"df-c2a1998f-eb1d-4145-b88b-4368efb6008c\">\n",
              "    <div class=\"colab-df-container\">\n",
              "      <div>\n",
              "<style scoped>\n",
              "    .dataframe tbody tr th:only-of-type {\n",
              "        vertical-align: middle;\n",
              "    }\n",
              "\n",
              "    .dataframe tbody tr th {\n",
              "        vertical-align: top;\n",
              "    }\n",
              "\n",
              "    .dataframe thead th {\n",
              "        text-align: right;\n",
              "    }\n",
              "</style>\n",
              "<table border=\"1\" class=\"dataframe\">\n",
              "  <thead>\n",
              "    <tr style=\"text-align: right;\">\n",
              "      <th></th>\n",
              "      <th>cluster</th>\n",
              "      <th>0</th>\n",
              "      <th>1</th>\n",
              "    </tr>\n",
              "  </thead>\n",
              "  <tbody>\n",
              "    <tr>\n",
              "      <th rowspan=\"2\" valign=\"top\">pclass</th>\n",
              "      <th>mean</th>\n",
              "      <td>-1.420910</td>\n",
              "      <td>0.527478</td>\n",
              "    </tr>\n",
              "    <tr>\n",
              "      <th>var</th>\n",
              "      <td>0.138897</td>\n",
              "      <td>0.265532</td>\n",
              "    </tr>\n",
              "    <tr>\n",
              "      <th rowspan=\"2\" valign=\"top\">age</th>\n",
              "      <th>mean</th>\n",
              "      <td>0.922530</td>\n",
              "      <td>-0.281925</td>\n",
              "    </tr>\n",
              "    <tr>\n",
              "      <th>var</th>\n",
              "      <td>1.145415</td>\n",
              "      <td>0.651165</td>\n",
              "    </tr>\n",
              "    <tr>\n",
              "      <th rowspan=\"2\" valign=\"top\">sibsp</th>\n",
              "      <th>mean</th>\n",
              "      <td>-0.108926</td>\n",
              "      <td>-0.009948</td>\n",
              "    </tr>\n",
              "    <tr>\n",
              "      <th>var</th>\n",
              "      <td>0.303463</td>\n",
              "      <td>1.164827</td>\n",
              "    </tr>\n",
              "    <tr>\n",
              "      <th rowspan=\"2\" valign=\"top\">parch</th>\n",
              "      <th>mean</th>\n",
              "      <td>0.377410</td>\n",
              "      <td>0.387949</td>\n",
              "    </tr>\n",
              "    <tr>\n",
              "      <th>var</th>\n",
              "      <td>0.539488</td>\n",
              "      <td>0.830288</td>\n",
              "    </tr>\n",
              "    <tr>\n",
              "      <th rowspan=\"2\" valign=\"top\">fare</th>\n",
              "      <th>mean</th>\n",
              "      <td>0.882876</td>\n",
              "      <td>-0.349293</td>\n",
              "    </tr>\n",
              "    <tr>\n",
              "      <th>var</th>\n",
              "      <td>2.223786</td>\n",
              "      <td>0.056372</td>\n",
              "    </tr>\n",
              "    <tr>\n",
              "      <th rowspan=\"2\" valign=\"top\">sex_male</th>\n",
              "      <th>mean</th>\n",
              "      <td>0.553719</td>\n",
              "      <td>0.678647</td>\n",
              "    </tr>\n",
              "    <tr>\n",
              "      <th>var</th>\n",
              "      <td>0.247797</td>\n",
              "      <td>0.218316</td>\n",
              "    </tr>\n",
              "    <tr>\n",
              "      <th rowspan=\"2\" valign=\"top\">embarked_Q</th>\n",
              "      <th>mean</th>\n",
              "      <td>0.016529</td>\n",
              "      <td>0.123679</td>\n",
              "    </tr>\n",
              "    <tr>\n",
              "      <th>var</th>\n",
              "      <td>0.016301</td>\n",
              "      <td>0.108497</td>\n",
              "    </tr>\n",
              "    <tr>\n",
              "      <th rowspan=\"2\" valign=\"top\">embarked_S</th>\n",
              "      <th>mean</th>\n",
              "      <td>0.586777</td>\n",
              "      <td>0.741015</td>\n",
              "    </tr>\n",
              "    <tr>\n",
              "      <th>var</th>\n",
              "      <td>0.243140</td>\n",
              "      <td>0.192115</td>\n",
              "    </tr>\n",
              "    <tr>\n",
              "      <th rowspan=\"2\" valign=\"top\">survived</th>\n",
              "      <th>mean</th>\n",
              "      <td>0.595041</td>\n",
              "      <td>0.300211</td>\n",
              "    </tr>\n",
              "    <tr>\n",
              "      <th>var</th>\n",
              "      <td>0.241633</td>\n",
              "      <td>0.210307</td>\n",
              "    </tr>\n",
              "  </tbody>\n",
              "</table>\n",
              "</div>\n",
              "      <button class=\"colab-df-convert\" onclick=\"convertToInteractive('df-c2a1998f-eb1d-4145-b88b-4368efb6008c')\"\n",
              "              title=\"Convert this dataframe to an interactive table.\"\n",
              "              style=\"display:none;\">\n",
              "        \n",
              "  <svg xmlns=\"http://www.w3.org/2000/svg\" height=\"24px\"viewBox=\"0 0 24 24\"\n",
              "       width=\"24px\">\n",
              "    <path d=\"M0 0h24v24H0V0z\" fill=\"none\"/>\n",
              "    <path d=\"M18.56 5.44l.94 2.06.94-2.06 2.06-.94-2.06-.94-.94-2.06-.94 2.06-2.06.94zm-11 1L8.5 8.5l.94-2.06 2.06-.94-2.06-.94L8.5 2.5l-.94 2.06-2.06.94zm10 10l.94 2.06.94-2.06 2.06-.94-2.06-.94-.94-2.06-.94 2.06-2.06.94z\"/><path d=\"M17.41 7.96l-1.37-1.37c-.4-.4-.92-.59-1.43-.59-.52 0-1.04.2-1.43.59L10.3 9.45l-7.72 7.72c-.78.78-.78 2.05 0 2.83L4 21.41c.39.39.9.59 1.41.59.51 0 1.02-.2 1.41-.59l7.78-7.78 2.81-2.81c.8-.78.8-2.07 0-2.86zM5.41 20L4 18.59l7.72-7.72 1.47 1.35L5.41 20z\"/>\n",
              "  </svg>\n",
              "      </button>\n",
              "      \n",
              "  <style>\n",
              "    .colab-df-container {\n",
              "      display:flex;\n",
              "      flex-wrap:wrap;\n",
              "      gap: 12px;\n",
              "    }\n",
              "\n",
              "    .colab-df-convert {\n",
              "      background-color: #E8F0FE;\n",
              "      border: none;\n",
              "      border-radius: 50%;\n",
              "      cursor: pointer;\n",
              "      display: none;\n",
              "      fill: #1967D2;\n",
              "      height: 32px;\n",
              "      padding: 0 0 0 0;\n",
              "      width: 32px;\n",
              "    }\n",
              "\n",
              "    .colab-df-convert:hover {\n",
              "      background-color: #E2EBFA;\n",
              "      box-shadow: 0px 1px 2px rgba(60, 64, 67, 0.3), 0px 1px 3px 1px rgba(60, 64, 67, 0.15);\n",
              "      fill: #174EA6;\n",
              "    }\n",
              "\n",
              "    [theme=dark] .colab-df-convert {\n",
              "      background-color: #3B4455;\n",
              "      fill: #D2E3FC;\n",
              "    }\n",
              "\n",
              "    [theme=dark] .colab-df-convert:hover {\n",
              "      background-color: #434B5C;\n",
              "      box-shadow: 0px 1px 3px 1px rgba(0, 0, 0, 0.15);\n",
              "      filter: drop-shadow(0px 1px 2px rgba(0, 0, 0, 0.3));\n",
              "      fill: #FFFFFF;\n",
              "    }\n",
              "  </style>\n",
              "\n",
              "      <script>\n",
              "        const buttonEl =\n",
              "          document.querySelector('#df-c2a1998f-eb1d-4145-b88b-4368efb6008c button.colab-df-convert');\n",
              "        buttonEl.style.display =\n",
              "          google.colab.kernel.accessAllowed ? 'block' : 'none';\n",
              "\n",
              "        async function convertToInteractive(key) {\n",
              "          const element = document.querySelector('#df-c2a1998f-eb1d-4145-b88b-4368efb6008c');\n",
              "          const dataTable =\n",
              "            await google.colab.kernel.invokeFunction('convertToInteractive',\n",
              "                                                     [key], {});\n",
              "          if (!dataTable) return;\n",
              "\n",
              "          const docLinkHtml = 'Like what you see? Visit the ' +\n",
              "            '<a target=\"_blank\" href=https://colab.research.google.com/notebooks/data_table.ipynb>data table notebook</a>'\n",
              "            + ' to learn more about interactive tables.';\n",
              "          element.innerHTML = '';\n",
              "          dataTable['output_type'] = 'display_data';\n",
              "          await google.colab.output.renderOutput(dataTable, element);\n",
              "          const docLink = document.createElement('div');\n",
              "          docLink.innerHTML = docLinkHtml;\n",
              "          element.appendChild(docLink);\n",
              "        }\n",
              "      </script>\n",
              "    </div>\n",
              "  </div>\n",
              "  "
            ],
            "text/plain": [
              "cluster                 0         1\n",
              "pclass     mean -1.420910  0.527478\n",
              "           var   0.138897  0.265532\n",
              "age        mean  0.922530 -0.281925\n",
              "           var   1.145415  0.651165\n",
              "sibsp      mean -0.108926 -0.009948\n",
              "           var   0.303463  1.164827\n",
              "parch      mean  0.377410  0.387949\n",
              "           var   0.539488  0.830288\n",
              "fare       mean  0.882876 -0.349293\n",
              "           var   2.223786  0.056372\n",
              "sex_male   mean  0.553719  0.678647\n",
              "           var   0.247797  0.218316\n",
              "embarked_Q mean  0.016529  0.123679\n",
              "           var   0.016301  0.108497\n",
              "embarked_S mean  0.586777  0.741015\n",
              "           var   0.243140  0.192115\n",
              "survived   mean  0.595041  0.300211\n",
              "           var   0.241633  0.210307"
            ]
          },
          "metadata": {},
          "execution_count": 11
        }
      ],
      "source": [
        "km = KMeans(n_clusters=2)\n",
        "km.fit(X_std)\n",
        "labels = km.predict(X_std)\n",
        "(\n",
        "    X.assign(cluster=labels, survived=y)\n",
        "    .groupby(\"cluster\")\n",
        "    .agg([\"mean\", \"var\"])\n",
        "    .T\n",
        ")"
      ]
    },
    {
      "cell_type": "markdown",
      "source": [
        "Na figura abaixo, apresentamos um gráfico de barras das médias de cada\n",
        "cluster:"
      ],
      "metadata": {
        "id": "VKFCg1_QLPqq"
      }
    },
    {
      "cell_type": "code",
      "execution_count": 12,
      "metadata": {
        "lines_to_next_cell": 2,
        "colab": {
          "base_uri": "https://localhost:8080/",
          "height": 331
        },
        "id": "m6QYUj4sHTAS",
        "outputId": "2c30a428-7fef-4cb7-cd74-2e033aaf1bdf"
      },
      "outputs": [
        {
          "output_type": "execute_result",
          "data": {
            "text/plain": [
              "<matplotlib.axes._subplots.AxesSubplot at 0x7f8f5c2df150>"
            ]
          },
          "metadata": {},
          "execution_count": 12
        },
        {
          "output_type": "display_data",
          "data": {
            "image/png": "[encoded data removed]",
            "text/plain": [
              "<Figure size 432x288 with 1 Axes>"
            ]
          },
          "metadata": {
            "needs_background": "light"
          }
        }
      ],
      "source": [
        "fig, ax = plt.subplots(figsize=(6, 4))\n",
        "(\n",
        "    X.assign(cluster=labels, survived=y)\n",
        "    .groupby(\"cluster\")\n",
        "    .mean()\n",
        "    .T.plot.bar(ax=ax)\n",
        ")\n",
        "# fig.savefig(\n",
        "#     \"images/mlpr_1806.png\",\n",
        "#     dpi=300,\n",
        "#     bbox_inches=\"tight\",\n",
        "# )"
      ]
    },
    {
      "cell_type": "markdown",
      "source": [
        "Também gosto de colocar os componentes da PCA em um gráfico, porém coloridos de acordo com o rótulo do cluster (veja a figura abaixo). Nesse caso, usamos o Seaborn para isso. Também é interessante modificar os valores de hue para explorar os atributos que são distintos para os clusters."
      ],
      "metadata": {
        "id": "eVNksCm5LU-e"
      }
    },
    {
      "cell_type": "code",
      "execution_count": 13,
      "metadata": {
        "lines_to_next_cell": 2,
        "colab": {
          "base_uri": "https://localhost:8080/",
          "height": 351
        },
        "id": "ijm0hKt0HTAU",
        "outputId": "df23e1c6-ce76-4caa-ba60-66fc0a762c11"
      },
      "outputs": [
        {
          "output_type": "stream",
          "name": "stderr",
          "text": [
            "/usr/local/lib/python3.7/dist-packages/seaborn/_decorators.py:43: FutureWarning: Pass the following variables as keyword args: x, y. From version 0.12, the only valid positional argument will be `data`, and passing other arguments without an explicit keyword will result in an error or misinterpretation.\n",
            "  FutureWarning\n"
          ]
        },
        {
          "output_type": "execute_result",
          "data": {
            "text/plain": [
              "<matplotlib.axes._subplots.AxesSubplot at 0x7f8f5c1b5790>"
            ]
          },
          "metadata": {},
          "execution_count": 13
        },
        {
          "output_type": "display_data",
          "data": {
            "image/png": "[encoded data removed]",
            "text/plain": [
              "<Figure size 432x288 with 1 Axes>"
            ]
          },
          "metadata": {
            "needs_background": "light"
          }
        }
      ],
      "source": [
        "from sklearn.decomposition import PCA\n",
        "from sklearn.preprocessing import (\n",
        "    StandardScaler,\n",
        ")\n",
        "\n",
        "fig, ax = plt.subplots(figsize=(6, 4))\n",
        "pca = PCA(random_state=42)\n",
        "X_pca = pca.fit_transform(\n",
        "    StandardScaler().fit_transform(X)\n",
        ")\n",
        "sns.scatterplot(\n",
        "    \"PC1\",\n",
        "    \"PC2\",\n",
        "    data=X.assign(\n",
        "        PC1=X_pca[:, 0],\n",
        "        PC2=X_pca[:, 1],\n",
        "        cluster=labels,\n",
        "    ),\n",
        "    hue=\"cluster\",\n",
        "    alpha=0.5,\n",
        "    ax=ax,\n",
        ")\n",
        "# fig.savefig(\n",
        "#     \"images/mlpr_1807.png\",\n",
        "#     dpi=300,\n",
        "#     bbox_inches=\"tight\",\n",
        "# )"
      ]
    },
    {
      "cell_type": "markdown",
      "source": [
        "Se quisermos analisar um único atributo, podemos usar o método .describe do\n",
        "pandas:"
      ],
      "metadata": {
        "id": "1zR4R6lxLbIG"
      }
    },
    {
      "cell_type": "code",
      "execution_count": 14,
      "metadata": {
        "lines_to_next_cell": 2,
        "colab": {
          "base_uri": "https://localhost:8080/",
          "height": 300
        },
        "id": "W-2ZV5w7HTAV",
        "outputId": "661c28ad-d1e2-4e17-d7be-a8c2d6275bd3"
      },
      "outputs": [
        {
          "output_type": "execute_result",
          "data": {
            "text/html": [
              "\n",
              "  <div id=\"df-6aeb68cb-d3e1-47ac-99d2-418510468997\">\n",
              "    <div class=\"colab-df-container\">\n",
              "      <div>\n",
              "<style scoped>\n",
              "    .dataframe tbody tr th:only-of-type {\n",
              "        vertical-align: middle;\n",
              "    }\n",
              "\n",
              "    .dataframe tbody tr th {\n",
              "        vertical-align: top;\n",
              "    }\n",
              "\n",
              "    .dataframe thead th {\n",
              "        text-align: right;\n",
              "    }\n",
              "</style>\n",
              "<table border=\"1\" class=\"dataframe\">\n",
              "  <thead>\n",
              "    <tr style=\"text-align: right;\">\n",
              "      <th>cluster</th>\n",
              "      <th>0</th>\n",
              "      <th>1</th>\n",
              "    </tr>\n",
              "  </thead>\n",
              "  <tbody>\n",
              "    <tr>\n",
              "      <th>count</th>\n",
              "      <td>363.000000</td>\n",
              "      <td>946.000000</td>\n",
              "    </tr>\n",
              "    <tr>\n",
              "      <th>mean</th>\n",
              "      <td>0.922530</td>\n",
              "      <td>-0.281925</td>\n",
              "    </tr>\n",
              "    <tr>\n",
              "      <th>std</th>\n",
              "      <td>1.070241</td>\n",
              "      <td>0.806948</td>\n",
              "    </tr>\n",
              "    <tr>\n",
              "      <th>min</th>\n",
              "      <td>-2.162722</td>\n",
              "      <td>-2.221251</td>\n",
              "    </tr>\n",
              "    <tr>\n",
              "      <th>25%</th>\n",
              "      <td>0.184938</td>\n",
              "      <td>-0.628414</td>\n",
              "    </tr>\n",
              "    <tr>\n",
              "      <th>50%</th>\n",
              "      <td>0.809247</td>\n",
              "      <td>-0.175242</td>\n",
              "    </tr>\n",
              "    <tr>\n",
              "      <th>75%</th>\n",
              "      <td>1.667672</td>\n",
              "      <td>0.106899</td>\n",
              "    </tr>\n",
              "    <tr>\n",
              "      <th>max</th>\n",
              "      <td>4.008830</td>\n",
              "      <td>3.540599</td>\n",
              "    </tr>\n",
              "  </tbody>\n",
              "</table>\n",
              "</div>\n",
              "      <button class=\"colab-df-convert\" onclick=\"convertToInteractive('df-6aeb68cb-d3e1-47ac-99d2-418510468997')\"\n",
              "              title=\"Convert this dataframe to an interactive table.\"\n",
              "              style=\"display:none;\">\n",
              "        \n",
              "  <svg xmlns=\"http://www.w3.org/2000/svg\" height=\"24px\"viewBox=\"0 0 24 24\"\n",
              "       width=\"24px\">\n",
              "    <path d=\"M0 0h24v24H0V0z\" fill=\"none\"/>\n",
              "    <path d=\"M18.56 5.44l.94 2.06.94-2.06 2.06-.94-2.06-.94-.94-2.06-.94 2.06-2.06.94zm-11 1L8.5 8.5l.94-2.06 2.06-.94-2.06-.94L8.5 2.5l-.94 2.06-2.06.94zm10 10l.94 2.06.94-2.06 2.06-.94-2.06-.94-.94-2.06-.94 2.06-2.06.94z\"/><path d=\"M17.41 7.96l-1.37-1.37c-.4-.4-.92-.59-1.43-.59-.52 0-1.04.2-1.43.59L10.3 9.45l-7.72 7.72c-.78.78-.78 2.05 0 2.83L4 21.41c.39.39.9.59 1.41.59.51 0 1.02-.2 1.41-.59l7.78-7.78 2.81-2.81c.8-.78.8-2.07 0-2.86zM5.41 20L4 18.59l7.72-7.72 1.47 1.35L5.41 20z\"/>\n",
              "  </svg>\n",
              "      </button>\n",
              "      \n",
              "  <style>\n",
              "    .colab-df-container {\n",
              "      display:flex;\n",
              "      flex-wrap:wrap;\n",
              "      gap: 12px;\n",
              "    }\n",
              "\n",
              "    .colab-df-convert {\n",
              "      background-color: #E8F0FE;\n",
              "      border: none;\n",
              "      border-radius: 50%;\n",
              "      cursor: pointer;\n",
              "      display: none;\n",
              "      fill: #1967D2;\n",
              "      height: 32px;\n",
              "      padding: 0 0 0 0;\n",
              "      width: 32px;\n",
              "    }\n",
              "\n",
              "    .colab-df-convert:hover {\n",
              "      background-color: #E2EBFA;\n",
              "      box-shadow: 0px 1px 2px rgba(60, 64, 67, 0.3), 0px 1px 3px 1px rgba(60, 64, 67, 0.15);\n",
              "      fill: #174EA6;\n",
              "    }\n",
              "\n",
              "    [theme=dark] .colab-df-convert {\n",
              "      background-color: #3B4455;\n",
              "      fill: #D2E3FC;\n",
              "    }\n",
              "\n",
              "    [theme=dark] .colab-df-convert:hover {\n",
              "      background-color: #434B5C;\n",
              "      box-shadow: 0px 1px 3px 1px rgba(0, 0, 0, 0.15);\n",
              "      filter: drop-shadow(0px 1px 2px rgba(0, 0, 0, 0.3));\n",
              "      fill: #FFFFFF;\n",
              "    }\n",
              "  </style>\n",
              "\n",
              "      <script>\n",
              "        const buttonEl =\n",
              "          document.querySelector('#df-6aeb68cb-d3e1-47ac-99d2-418510468997 button.colab-df-convert');\n",
              "        buttonEl.style.display =\n",
              "          google.colab.kernel.accessAllowed ? 'block' : 'none';\n",
              "\n",
              "        async function convertToInteractive(key) {\n",
              "          const element = document.querySelector('#df-6aeb68cb-d3e1-47ac-99d2-418510468997');\n",
              "          const dataTable =\n",
              "            await google.colab.kernel.invokeFunction('convertToInteractive',\n",
              "                                                     [key], {});\n",
              "          if (!dataTable) return;\n",
              "\n",
              "          const docLinkHtml = 'Like what you see? Visit the ' +\n",
              "            '<a target=\"_blank\" href=https://colab.research.google.com/notebooks/data_table.ipynb>data table notebook</a>'\n",
              "            + ' to learn more about interactive tables.';\n",
              "          element.innerHTML = '';\n",
              "          dataTable['output_type'] = 'display_data';\n",
              "          await google.colab.output.renderOutput(dataTable, element);\n",
              "          const docLink = document.createElement('div');\n",
              "          docLink.innerHTML = docLinkHtml;\n",
              "          element.appendChild(docLink);\n",
              "        }\n",
              "      </script>\n",
              "    </div>\n",
              "  </div>\n",
              "  "
            ],
            "text/plain": [
              "cluster           0           1\n",
              "count    363.000000  946.000000\n",
              "mean       0.922530   -0.281925\n",
              "std        1.070241    0.806948\n",
              "min       -2.162722   -2.221251\n",
              "25%        0.184938   -0.628414\n",
              "50%        0.809247   -0.175242\n",
              "75%        1.667672    0.106899\n",
              "max        4.008830    3.540599"
            ]
          },
          "metadata": {},
          "execution_count": 14
        }
      ],
      "source": [
        "(\n",
        "    X.assign(cluster=labels)\n",
        "    .groupby(\"cluster\")\n",
        "    .age.describe()\n",
        "    .T\n",
        ")"
      ]
    },
    {
      "cell_type": "markdown",
      "source": [
        "Também podemos criar um modelo substituto (surrogate model) para\n",
        "explicar os clusters. Nesse caso, usaremos uma árvore de decisão para\n",
        "explicá-los. Ele também mostra que pclass"
      ],
      "metadata": {
        "id": "HMnDb3nHLd9S"
      }
    },
    {
      "cell_type": "code",
      "execution_count": 15,
      "metadata": {
        "lines_to_next_cell": 2,
        "colab": {
          "base_uri": "https://localhost:8080/"
        },
        "id": "0ganZNeLHTAV",
        "outputId": "13a96db9-b253-40c4-933a-d0e6f64ddc11"
      },
      "outputs": [
        {
          "output_type": "stream",
          "name": "stdout",
          "text": [
            "pclass         0.902\n",
            "age            0.077\n",
            "sex_male       0.013\n",
            "embarked_S     0.003\n",
            "fare           0.003\n",
            "parch          0.003\n",
            "sibsp          0.000\n",
            "embarked_Q     0.000\n"
          ]
        }
      ],
      "source": [
        "dt = tree.DecisionTreeClassifier()\n",
        "dt.fit(X, labels)\n",
        "for col, val in sorted(\n",
        "    zip(X.columns, dt.feature_importances_),\n",
        "    key=lambda col_val: col_val[1],\n",
        "    reverse=True,\n",
        "):\n",
        "    print(f\"{col:10}{val:10.3f}\")"
      ]
    },
    {
      "cell_type": "markdown",
      "source": [
        "Podemos também visualizar as decisões na figura abaixo. Ela mostra que\n",
        "pclass é o primeiro atributo que o modelo substituto observa para tomar uma\n",
        "decisão:"
      ],
      "metadata": {
        "id": "b2c8TMzaLh88"
      }
    },
    {
      "cell_type": "code",
      "execution_count": null,
      "metadata": {
        "lines_to_next_cell": 2,
        "id": "XMWr2J6HHTAW"
      },
      "outputs": [],
      "source": [
        "from io import StringIO\n",
        "import pydotplus\n",
        "dot_data = StringIO()\n",
        "tree.export_graphviz(\n",
        "    dt,\n",
        "    out_file=dot_data,\n",
        "    feature_names=X.columns,\n",
        "    class_names=[\"0\", \"1\"],\n",
        "    max_depth=2,\n",
        "    filled=True,\n",
        ")\n",
        "g = pydotplus.graph_from_dot_data(\n",
        "    dot_data.getvalue()\n",
        ")\n",
        "#g.write_png(\"images/mlpr_1808.png\")"
      ]
    }
  ],
  "metadata": {
    "jupytext": {
      "formats": "ipynb,py:light"
    },
    "kernelspec": {
      "display_name": "Python 3",
      "language": "python",
      "name": "python3"
    },
    "language_info": {
      "codemirror_mode": {
        "name": "ipython",
        "version": 3
      },
      "file_extension": ".py",
      "mimetype": "text/x-python",
      "name": "python",
      "nbconvert_exporter": "python",
      "pygments_lexer": "ipython3",
      "version": "3.6.4"
    },
    "colab": {
      "name": "Agrupamento.ipynb",
      "provenance": [],
      "collapsed_sections": [],
      "include_colab_link": true
    }
  },
  "nbformat": 4,
  "nbformat_minor": 0
}