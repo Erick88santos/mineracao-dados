{
  "nbformat": 4,
  "nbformat_minor": 0,
  "metadata": {
    "colab": {
      "name": "2.3 - Análise Exploratória (Parte 1).ipynb",
      "private_outputs": true,
      "provenance": [],
      "authorship_tag": "ABX9TyPpRMGq47nZt9t01yQ9nMhJ",
      "include_colab_link": true
    },
    "kernelspec": {
      "name": "python3",
      "display_name": "Python 3"
    },
    "language_info": {
      "name": "python"
    }
  },
  "cells": [
    {
      "cell_type": "markdown",
      "metadata": {
        "id": "view-in-github",
        "colab_type": "text"
      },
      "source": [
        "<a href=\"https://colab.research.google.com/github/rodrigoclira/mineracao-dados/blob/main/2_3_An%C3%A1lise_Explorat%C3%B3ria_(Parte_1).ipynb\" target=\"_parent\"><img src=\"https://colab.research.google.com/assets/colab-badge.svg\" alt=\"Open In Colab\"/></a>"
      ]
    },
    {
      "cell_type": "code",
      "metadata": {
        "id": "yB9RajzBF46y"
      },
      "source": [
        "!pip install pandas-profiling==2.7.1\n",
        "!pip install xlrd==1.2.0\n",
        "!pip install pandas==1.2"
      ],
      "execution_count": null,
      "outputs": []
    },
    {
      "cell_type": "code",
      "metadata": {
        "id": "9ahdNRojEb1B"
      },
      "source": [
        "import pandas as pd\n",
        "import matplotlib.pyplot as plt\n",
        "import numpy as np\n",
        "import pandas_profiling"
      ],
      "execution_count": null,
      "outputs": []
    },
    {
      "cell_type": "markdown",
      "metadata": {
        "id": "eevBy0UuwAJW"
      },
      "source": [
        "https://biostat.app.vumc.org/wiki/pub/Main/DataSets/Ctitanic3.html"
      ]
    },
    {
      "cell_type": "code",
      "metadata": {
        "id": "DKLcsT5CEJ--"
      },
      "source": [
        "url = \"https://biostat.app.vumc.org/wiki/pub/Main/DataSets/titanic3.xls\"\n",
        "df = pd.read_excel(url)"
      ],
      "execution_count": null,
      "outputs": []
    },
    {
      "cell_type": "code",
      "metadata": {
        "id": "Pp78MmoxE5SD"
      },
      "source": [
        "profile = pandas_profiling.ProfileReport(df) "
      ],
      "execution_count": null,
      "outputs": []
    },
    {
      "cell_type": "code",
      "metadata": {
        "id": "PGsMWaX8GQKc"
      },
      "source": [
        "profile"
      ],
      "execution_count": null,
      "outputs": []
    }
  ]
}