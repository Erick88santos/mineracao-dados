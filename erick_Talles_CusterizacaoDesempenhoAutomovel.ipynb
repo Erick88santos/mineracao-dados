{
  "nbformat": 4,
  "nbformat_minor": 0,
  "metadata": {
    "colab": {
      "name": "erick_Talles_CusterizacaoDesempenhoAutomovel.ipynb",
      "provenance": [],
      "collapsed_sections": [],
      "include_colab_link": true
    },
    "kernelspec": {
      "name": "python3",
      "display_name": "Python 3"
    },
    "language_info": {
      "name": "python"
    }
  },
  "cells": [
    {
      "cell_type": "markdown",
      "metadata": {
        "id": "view-in-github",
        "colab_type": "text"
      },
      "source": [
        "<a href=\"https://colab.research.google.com/github/Erick88santos/mineracao-dados/blob/main/erick_Talles_CusterizacaoDesempenhoAutomovel.ipynb\" target=\"_parent\"><img src=\"https://colab.research.google.com/assets/colab-badge.svg\" alt=\"Open In Colab\"/></a>"
      ]
    },
    {
      "cell_type": "markdown",
      "source": [
        "#**Dataset**\n",
        "\n",
        "##Atividade de Mineração de dados\n",
        "\n",
        "#####**Alunos:** \n",
        "Erick P de A Alves dos Santos\n",
        "\n",
        "Talles Aragão\n",
        "\n",
        "\n",
        "Informações [ Automotivo de Ward de 1985](https://archive.ics.uci.edu/ml/datasets/automobile).\n"
      ],
      "metadata": {
        "id": "urbXZGOmaSEd"
      }
    },
    {
      "cell_type": "markdown",
      "source": [
        "\n",
        "##**Fonte:**\n",
        "Criador/Doador:\n",
        "\n",
        "Jeffrey C. Schlimmer ( Jeffrey.Schlimmer '@' a.gp.cs.cmu.edu )\n",
        "\n",
        "Fontes:\n",
        "\n",
        "1) 1985 Model Import Car and Truck Specifications, 1985 Ward's Automotive Yearbook.\n",
        "2) Personal Auto Manuals, Insurance Services Office, 160 Water Street, Nova York, NY 10038\n",
        "3) Insurance Collision Report, Insurance Institute for Highway Safety, Watergate 600, Washington, DC 20037\n",
        "\n",
        "\n",
        "\n",
        "\n",
        "\n",
        "\n",
        "#**Informações do conjunto de dados:**\n",
        "Esse conjunto de dados consiste em três tipos de entidades: (a) a especificação de um automóvel em termos de várias características, (b) sua classificação de risco de seguro atribuída, (c) suas perdas normalizadas em uso em comparação com outros carros. A segunda classificação corresponde ao grau em que o automóvel é mais arriscado do que seu preço indica. Os carros recebem inicialmente um símbolo de fator de risco associado ao seu preço. Então, se for mais arriscado (ou menos), esse símbolo é ajustado movendo-o para cima (ou para baixo) na escala. Os atuários chamam esse processo de \"simbolização\". Um valor de +3 indica que o automóvel é arriscado, -3 que provavelmente é bastante seguro.\n",
        "\n",
        "O terceiro fator é o pagamento de perda média relativa por ano de veículo segurado. Este valor é normalizado para todos os automóveis dentro de uma determinada classificação de tamanho (pequenos de duas portas, carrinhas, desportivos/especialidades, etc...), e representa a perda média por automóvel por ano.\n",
        "\n",
        "Nota: Vários dos atributos no banco de dados podem ser usados ​​como um atributo de \"classe\".\n",
        "\n",
        "\n",
        "\n",
        "#**Informações do atributo:**\n",
        "\n",
        "Atributo: Faixa de Atributos\n",
        "\n",
        "1. simbologia: -3, -2, -1, 0, 1, 2, 3.\n",
        "2. Perdas normalizadas: contínuas de 65 a 256.\n",
        "3. Marca:\n",
        "alfa-romero, audi, bmw, chevrolet , dodge, honda,\n",
        "isuzu, jaguar, mazda, mercedes-benz, mercúrio,\n",
        "mitsubishi, nissan, peugot, plymouth, porsche,\n",
        "renault, saab, subaru, toyota, volkswagen, volvo\n",
        "\n",
        "4. tipo de combustível: diesel, gás.\n",
        "5. aspiração: std, turbo.\n",
        "6. número de portas: quatro, duas.\n",
        "7. carroceria: capota rígida, perua, sedã, hatchback, conversível.\n",
        "8. rodas motrizes: 4wd, fwd, rwd.\n",
        "9. localização do motor: dianteira, traseira.\n",
        "10. distância entre eixos: contínua de 86,6 a 120,9.\n",
        "11. comprimento: contínuo de 141,1 a 208,1.\n",
        "12. largura: contínua de 60,3 a 72,3.\n",
        "13. altura: contínua de 47,8 a 59,8.\n",
        "14. potência de frenagem: de 1488 a 4066.\n",
        "15. tipo de motor: dohc, dohcv, l, ohc, ohcf, ohcv, rotor.\n",
        "16. número de cilindros: oito, cinco, quatro, seis, três, doze, dois.\n",
        "17. tamanho do motor: contínuo de 61 a 326.\n",
        "18. sistema de combustível: 1bbl, 2bbl, 4bbl, idi, mfi, mpfi, spdi, spfi.\n",
        "19. furo: contínuo de 2,54 a 3,94.\n",
        "20. curso: contínuo de 2,07 a 4,17.\n",
        "21. taxa de compressão: contínua de 7 a 23.\n",
        "22. cavalos de potência: contínua de 48 a 288.\n",
        "23. pico-rpm: contínua de 4150 a 6600.\n",
        "24. cidade-mpg: contínua de 13 a 49.\n",
        "25. rodovia- mpg: contínuo de 16 a 54.\n",
        "26. preço: contínuo de 5118 a 45400.\n",
        "\n"
      ],
      "metadata": {
        "id": "PZXIwOhNkah8"
      }
    },
    {
      "cell_type": "code",
      "source": [
        "import pandas as pd\n",
        "from sklearn import metrics\n",
        "from sklearn.cluster import KMeans\n",
        "import matplotlib.pyplot as plt\n",
        "import numpy as np\n",
        "from yellowbrick.cluster.silhouette import SilhouetteVisualizer\n",
        "from sklearn.metrics import adjusted_rand_score\n",
        "\n",
        "%matplotlib inline\n",
        "\n",
        "from google.colab import data_table\n"
      ],
      "metadata": {
        "id": "6l77ihJzf3aa"
      },
      "execution_count": null,
      "outputs": []
    },
    {
      "cell_type": "code",
      "execution_count": null,
      "metadata": {
        "id": "4CKTYeVfaPfE",
        "colab": {
          "base_uri": "https://localhost:8080/",
          "height": 558
        },
        "outputId": "fdc2e5f6-cead-4e41-8ddb-f762461d624d"
      },
      "outputs": [
        {
          "output_type": "stream",
          "name": "stdout",
          "text": [
            "Warning: Total number of columns (26) exceeds max_columns (20). Falling back to pandas display.\n"
          ]
        },
        {
          "output_type": "execute_result",
          "data": {
            "text/plain": [
              "     3    ?  alfa-romero     gas    std   two  convertible  rwd  front  88.60  \\\n",
              "0    3    ?  alfa-romero     gas    std   two  convertible  rwd  front   88.6   \n",
              "1    1    ?  alfa-romero     gas    std   two    hatchback  rwd  front   94.5   \n",
              "2    2  164         audi     gas    std  four        sedan  fwd  front   99.8   \n",
              "3    2  164         audi     gas    std  four        sedan  4wd  front   99.4   \n",
              "4    2    ?         audi     gas    std   two        sedan  fwd  front   99.8   \n",
              "..  ..  ...          ...     ...    ...   ...          ...  ...    ...    ...   \n",
              "199 -1   95        volvo     gas    std  four        sedan  rwd  front  109.1   \n",
              "200 -1   95        volvo     gas  turbo  four        sedan  rwd  front  109.1   \n",
              "201 -1   95        volvo     gas    std  four        sedan  rwd  front  109.1   \n",
              "202 -1   95        volvo  diesel  turbo  four        sedan  rwd  front  109.1   \n",
              "203 -1   95        volvo     gas  turbo  four        sedan  rwd  front  109.1   \n",
              "\n",
              "     ...  130  mpfi  3.47  2.68  9.00  111  5000  21  27  13495  \n",
              "0    ...  130  mpfi  3.47  2.68   9.0  111  5000  21  27  16500  \n",
              "1    ...  152  mpfi  2.68  3.47   9.0  154  5000  19  26  16500  \n",
              "2    ...  109  mpfi  3.19  3.40  10.0  102  5500  24  30  13950  \n",
              "3    ...  136  mpfi  3.19  3.40   8.0  115  5500  18  22  17450  \n",
              "4    ...  136  mpfi  3.19  3.40   8.5  110  5500  19  25  15250  \n",
              "..   ...  ...   ...   ...   ...   ...  ...   ...  ..  ..    ...  \n",
              "199  ...  141  mpfi  3.78  3.15   9.5  114  5400  23  28  16845  \n",
              "200  ...  141  mpfi  3.78  3.15   8.7  160  5300  19  25  19045  \n",
              "201  ...  173  mpfi  3.58  2.87   8.8  134  5500  18  23  21485  \n",
              "202  ...  145   idi  3.01  3.40  23.0  106  4800  26  27  22470  \n",
              "203  ...  141  mpfi  3.78  3.15   9.5  114  5400  19  25  22625  \n",
              "\n",
              "[204 rows x 26 columns]"
            ],
            "text/html": [
              "\n",
              "  <div id=\"df-b0aa79ba-88a6-4aed-a856-5d793dac5494\">\n",
              "    <div class=\"colab-df-container\">\n",
              "      <div>\n",
              "<style scoped>\n",
              "    .dataframe tbody tr th:only-of-type {\n",
              "        vertical-align: middle;\n",
              "    }\n",
              "\n",
              "    .dataframe tbody tr th {\n",
              "        vertical-align: top;\n",
              "    }\n",
              "\n",
              "    .dataframe thead th {\n",
              "        text-align: right;\n",
              "    }\n",
              "</style>\n",
              "<table border=\"1\" class=\"dataframe\">\n",
              "  <thead>\n",
              "    <tr style=\"text-align: right;\">\n",
              "      <th></th>\n",
              "      <th>3</th>\n",
              "      <th>?</th>\n",
              "      <th>alfa-romero</th>\n",
              "      <th>gas</th>\n",
              "      <th>std</th>\n",
              "      <th>two</th>\n",
              "      <th>convertible</th>\n",
              "      <th>rwd</th>\n",
              "      <th>front</th>\n",
              "      <th>88.60</th>\n",
              "      <th>...</th>\n",
              "      <th>130</th>\n",
              "      <th>mpfi</th>\n",
              "      <th>3.47</th>\n",
              "      <th>2.68</th>\n",
              "      <th>9.00</th>\n",
              "      <th>111</th>\n",
              "      <th>5000</th>\n",
              "      <th>21</th>\n",
              "      <th>27</th>\n",
              "      <th>13495</th>\n",
              "    </tr>\n",
              "  </thead>\n",
              "  <tbody>\n",
              "    <tr>\n",
              "      <th>0</th>\n",
              "      <td>3</td>\n",
              "      <td>?</td>\n",
              "      <td>alfa-romero</td>\n",
              "      <td>gas</td>\n",
              "      <td>std</td>\n",
              "      <td>two</td>\n",
              "      <td>convertible</td>\n",
              "      <td>rwd</td>\n",
              "      <td>front</td>\n",
              "      <td>88.6</td>\n",
              "      <td>...</td>\n",
              "      <td>130</td>\n",
              "      <td>mpfi</td>\n",
              "      <td>3.47</td>\n",
              "      <td>2.68</td>\n",
              "      <td>9.0</td>\n",
              "      <td>111</td>\n",
              "      <td>5000</td>\n",
              "      <td>21</td>\n",
              "      <td>27</td>\n",
              "      <td>16500</td>\n",
              "    </tr>\n",
              "    <tr>\n",
              "      <th>1</th>\n",
              "      <td>1</td>\n",
              "      <td>?</td>\n",
              "      <td>alfa-romero</td>\n",
              "      <td>gas</td>\n",
              "      <td>std</td>\n",
              "      <td>two</td>\n",
              "      <td>hatchback</td>\n",
              "      <td>rwd</td>\n",
              "      <td>front</td>\n",
              "      <td>94.5</td>\n",
              "      <td>...</td>\n",
              "      <td>152</td>\n",
              "      <td>mpfi</td>\n",
              "      <td>2.68</td>\n",
              "      <td>3.47</td>\n",
              "      <td>9.0</td>\n",
              "      <td>154</td>\n",
              "      <td>5000</td>\n",
              "      <td>19</td>\n",
              "      <td>26</td>\n",
              "      <td>16500</td>\n",
              "    </tr>\n",
              "    <tr>\n",
              "      <th>2</th>\n",
              "      <td>2</td>\n",
              "      <td>164</td>\n",
              "      <td>audi</td>\n",
              "      <td>gas</td>\n",
              "      <td>std</td>\n",
              "      <td>four</td>\n",
              "      <td>sedan</td>\n",
              "      <td>fwd</td>\n",
              "      <td>front</td>\n",
              "      <td>99.8</td>\n",
              "      <td>...</td>\n",
              "      <td>109</td>\n",
              "      <td>mpfi</td>\n",
              "      <td>3.19</td>\n",
              "      <td>3.40</td>\n",
              "      <td>10.0</td>\n",
              "      <td>102</td>\n",
              "      <td>5500</td>\n",
              "      <td>24</td>\n",
              "      <td>30</td>\n",
              "      <td>13950</td>\n",
              "    </tr>\n",
              "    <tr>\n",
              "      <th>3</th>\n",
              "      <td>2</td>\n",
              "      <td>164</td>\n",
              "      <td>audi</td>\n",
              "      <td>gas</td>\n",
              "      <td>std</td>\n",
              "      <td>four</td>\n",
              "      <td>sedan</td>\n",
              "      <td>4wd</td>\n",
              "      <td>front</td>\n",
              "      <td>99.4</td>\n",
              "      <td>...</td>\n",
              "      <td>136</td>\n",
              "      <td>mpfi</td>\n",
              "      <td>3.19</td>\n",
              "      <td>3.40</td>\n",
              "      <td>8.0</td>\n",
              "      <td>115</td>\n",
              "      <td>5500</td>\n",
              "      <td>18</td>\n",
              "      <td>22</td>\n",
              "      <td>17450</td>\n",
              "    </tr>\n",
              "    <tr>\n",
              "      <th>4</th>\n",
              "      <td>2</td>\n",
              "      <td>?</td>\n",
              "      <td>audi</td>\n",
              "      <td>gas</td>\n",
              "      <td>std</td>\n",
              "      <td>two</td>\n",
              "      <td>sedan</td>\n",
              "      <td>fwd</td>\n",
              "      <td>front</td>\n",
              "      <td>99.8</td>\n",
              "      <td>...</td>\n",
              "      <td>136</td>\n",
              "      <td>mpfi</td>\n",
              "      <td>3.19</td>\n",
              "      <td>3.40</td>\n",
              "      <td>8.5</td>\n",
              "      <td>110</td>\n",
              "      <td>5500</td>\n",
              "      <td>19</td>\n",
              "      <td>25</td>\n",
              "      <td>15250</td>\n",
              "    </tr>\n",
              "    <tr>\n",
              "      <th>...</th>\n",
              "      <td>...</td>\n",
              "      <td>...</td>\n",
              "      <td>...</td>\n",
              "      <td>...</td>\n",
              "      <td>...</td>\n",
              "      <td>...</td>\n",
              "      <td>...</td>\n",
              "      <td>...</td>\n",
              "      <td>...</td>\n",
              "      <td>...</td>\n",
              "      <td>...</td>\n",
              "      <td>...</td>\n",
              "      <td>...</td>\n",
              "      <td>...</td>\n",
              "      <td>...</td>\n",
              "      <td>...</td>\n",
              "      <td>...</td>\n",
              "      <td>...</td>\n",
              "      <td>...</td>\n",
              "      <td>...</td>\n",
              "      <td>...</td>\n",
              "    </tr>\n",
              "    <tr>\n",
              "      <th>199</th>\n",
              "      <td>-1</td>\n",
              "      <td>95</td>\n",
              "      <td>volvo</td>\n",
              "      <td>gas</td>\n",
              "      <td>std</td>\n",
              "      <td>four</td>\n",
              "      <td>sedan</td>\n",
              "      <td>rwd</td>\n",
              "      <td>front</td>\n",
              "      <td>109.1</td>\n",
              "      <td>...</td>\n",
              "      <td>141</td>\n",
              "      <td>mpfi</td>\n",
              "      <td>3.78</td>\n",
              "      <td>3.15</td>\n",
              "      <td>9.5</td>\n",
              "      <td>114</td>\n",
              "      <td>5400</td>\n",
              "      <td>23</td>\n",
              "      <td>28</td>\n",
              "      <td>16845</td>\n",
              "    </tr>\n",
              "    <tr>\n",
              "      <th>200</th>\n",
              "      <td>-1</td>\n",
              "      <td>95</td>\n",
              "      <td>volvo</td>\n",
              "      <td>gas</td>\n",
              "      <td>turbo</td>\n",
              "      <td>four</td>\n",
              "      <td>sedan</td>\n",
              "      <td>rwd</td>\n",
              "      <td>front</td>\n",
              "      <td>109.1</td>\n",
              "      <td>...</td>\n",
              "      <td>141</td>\n",
              "      <td>mpfi</td>\n",
              "      <td>3.78</td>\n",
              "      <td>3.15</td>\n",
              "      <td>8.7</td>\n",
              "      <td>160</td>\n",
              "      <td>5300</td>\n",
              "      <td>19</td>\n",
              "      <td>25</td>\n",
              "      <td>19045</td>\n",
              "    </tr>\n",
              "    <tr>\n",
              "      <th>201</th>\n",
              "      <td>-1</td>\n",
              "      <td>95</td>\n",
              "      <td>volvo</td>\n",
              "      <td>gas</td>\n",
              "      <td>std</td>\n",
              "      <td>four</td>\n",
              "      <td>sedan</td>\n",
              "      <td>rwd</td>\n",
              "      <td>front</td>\n",
              "      <td>109.1</td>\n",
              "      <td>...</td>\n",
              "      <td>173</td>\n",
              "      <td>mpfi</td>\n",
              "      <td>3.58</td>\n",
              "      <td>2.87</td>\n",
              "      <td>8.8</td>\n",
              "      <td>134</td>\n",
              "      <td>5500</td>\n",
              "      <td>18</td>\n",
              "      <td>23</td>\n",
              "      <td>21485</td>\n",
              "    </tr>\n",
              "    <tr>\n",
              "      <th>202</th>\n",
              "      <td>-1</td>\n",
              "      <td>95</td>\n",
              "      <td>volvo</td>\n",
              "      <td>diesel</td>\n",
              "      <td>turbo</td>\n",
              "      <td>four</td>\n",
              "      <td>sedan</td>\n",
              "      <td>rwd</td>\n",
              "      <td>front</td>\n",
              "      <td>109.1</td>\n",
              "      <td>...</td>\n",
              "      <td>145</td>\n",
              "      <td>idi</td>\n",
              "      <td>3.01</td>\n",
              "      <td>3.40</td>\n",
              "      <td>23.0</td>\n",
              "      <td>106</td>\n",
              "      <td>4800</td>\n",
              "      <td>26</td>\n",
              "      <td>27</td>\n",
              "      <td>22470</td>\n",
              "    </tr>\n",
              "    <tr>\n",
              "      <th>203</th>\n",
              "      <td>-1</td>\n",
              "      <td>95</td>\n",
              "      <td>volvo</td>\n",
              "      <td>gas</td>\n",
              "      <td>turbo</td>\n",
              "      <td>four</td>\n",
              "      <td>sedan</td>\n",
              "      <td>rwd</td>\n",
              "      <td>front</td>\n",
              "      <td>109.1</td>\n",
              "      <td>...</td>\n",
              "      <td>141</td>\n",
              "      <td>mpfi</td>\n",
              "      <td>3.78</td>\n",
              "      <td>3.15</td>\n",
              "      <td>9.5</td>\n",
              "      <td>114</td>\n",
              "      <td>5400</td>\n",
              "      <td>19</td>\n",
              "      <td>25</td>\n",
              "      <td>22625</td>\n",
              "    </tr>\n",
              "  </tbody>\n",
              "</table>\n",
              "<p>204 rows × 26 columns</p>\n",
              "</div>\n",
              "      <button class=\"colab-df-convert\" onclick=\"convertToInteractive('df-b0aa79ba-88a6-4aed-a856-5d793dac5494')\"\n",
              "              title=\"Convert this dataframe to an interactive table.\"\n",
              "              style=\"display:none;\">\n",
              "        \n",
              "  <svg xmlns=\"http://www.w3.org/2000/svg\" height=\"24px\"viewBox=\"0 0 24 24\"\n",
              "       width=\"24px\">\n",
              "    <path d=\"M0 0h24v24H0V0z\" fill=\"none\"/>\n",
              "    <path d=\"M18.56 5.44l.94 2.06.94-2.06 2.06-.94-2.06-.94-.94-2.06-.94 2.06-2.06.94zm-11 1L8.5 8.5l.94-2.06 2.06-.94-2.06-.94L8.5 2.5l-.94 2.06-2.06.94zm10 10l.94 2.06.94-2.06 2.06-.94-2.06-.94-.94-2.06-.94 2.06-2.06.94z\"/><path d=\"M17.41 7.96l-1.37-1.37c-.4-.4-.92-.59-1.43-.59-.52 0-1.04.2-1.43.59L10.3 9.45l-7.72 7.72c-.78.78-.78 2.05 0 2.83L4 21.41c.39.39.9.59 1.41.59.51 0 1.02-.2 1.41-.59l7.78-7.78 2.81-2.81c.8-.78.8-2.07 0-2.86zM5.41 20L4 18.59l7.72-7.72 1.47 1.35L5.41 20z\"/>\n",
              "  </svg>\n",
              "      </button>\n",
              "      \n",
              "  <style>\n",
              "    .colab-df-container {\n",
              "      display:flex;\n",
              "      flex-wrap:wrap;\n",
              "      gap: 12px;\n",
              "    }\n",
              "\n",
              "    .colab-df-convert {\n",
              "      background-color: #E8F0FE;\n",
              "      border: none;\n",
              "      border-radius: 50%;\n",
              "      cursor: pointer;\n",
              "      display: none;\n",
              "      fill: #1967D2;\n",
              "      height: 32px;\n",
              "      padding: 0 0 0 0;\n",
              "      width: 32px;\n",
              "    }\n",
              "\n",
              "    .colab-df-convert:hover {\n",
              "      background-color: #E2EBFA;\n",
              "      box-shadow: 0px 1px 2px rgba(60, 64, 67, 0.3), 0px 1px 3px 1px rgba(60, 64, 67, 0.15);\n",
              "      fill: #174EA6;\n",
              "    }\n",
              "\n",
              "    [theme=dark] .colab-df-convert {\n",
              "      background-color: #3B4455;\n",
              "      fill: #D2E3FC;\n",
              "    }\n",
              "\n",
              "    [theme=dark] .colab-df-convert:hover {\n",
              "      background-color: #434B5C;\n",
              "      box-shadow: 0px 1px 3px 1px rgba(0, 0, 0, 0.15);\n",
              "      filter: drop-shadow(0px 1px 2px rgba(0, 0, 0, 0.3));\n",
              "      fill: #FFFFFF;\n",
              "    }\n",
              "  </style>\n",
              "\n",
              "      <script>\n",
              "        const buttonEl =\n",
              "          document.querySelector('#df-b0aa79ba-88a6-4aed-a856-5d793dac5494 button.colab-df-convert');\n",
              "        buttonEl.style.display =\n",
              "          google.colab.kernel.accessAllowed ? 'block' : 'none';\n",
              "\n",
              "        async function convertToInteractive(key) {\n",
              "          const element = document.querySelector('#df-b0aa79ba-88a6-4aed-a856-5d793dac5494');\n",
              "          const dataTable =\n",
              "            await google.colab.kernel.invokeFunction('convertToInteractive',\n",
              "                                                     [key], {});\n",
              "          if (!dataTable) return;\n",
              "\n",
              "          const docLinkHtml = 'Like what you see? Visit the ' +\n",
              "            '<a target=\"_blank\" href=https://colab.research.google.com/notebooks/data_table.ipynb>data table notebook</a>'\n",
              "            + ' to learn more about interactive tables.';\n",
              "          element.innerHTML = '';\n",
              "          dataTable['output_type'] = 'display_data';\n",
              "          await google.colab.output.renderOutput(dataTable, element);\n",
              "          const docLink = document.createElement('div');\n",
              "          docLink.innerHTML = docLinkHtml;\n",
              "          element.appendChild(docLink);\n",
              "        }\n",
              "      </script>\n",
              "    </div>\n",
              "  </div>\n",
              "  "
            ]
          },
          "metadata": {},
          "execution_count": 113
        }
      ],
      "source": [
        "df = pd.read_csv('https://archive.ics.uci.edu/ml/machine-learning-databases/autos/imports-85.data')\n",
        "\n",
        "df"
      ]
    },
    {
      "cell_type": "markdown",
      "source": [
        "#**Pré-Processamento**"
      ],
      "metadata": {
        "id": "wwzDK8dxSDL1"
      }
    },
    {
      "cell_type": "code",
      "source": [
        "data_table.enable_dataframe_formatter()\n",
        "df"
      ],
      "metadata": {
        "colab": {
          "base_uri": "https://localhost:8080/",
          "height": 724
        },
        "id": "RBSjS4cGT_cr",
        "outputId": "b7a0b587-2699-4dae-e488-278eb5cd6c32"
      },
      "execution_count": null,
      "outputs": [
        {
          "output_type": "stream",
          "name": "stdout",
          "text": [
            "Warning: Total number of columns (26) exceeds max_columns (20). Falling back to pandas display.\n"
          ]
        },
        {
          "output_type": "execute_result",
          "data": {
            "text/plain": [
              "     3    ?  alfa-romero     gas    std   two  convertible  rwd  front  88.60  \\\n",
              "0    3    ?  alfa-romero     gas    std   two  convertible  rwd  front   88.6   \n",
              "1    1    ?  alfa-romero     gas    std   two    hatchback  rwd  front   94.5   \n",
              "2    2  164         audi     gas    std  four        sedan  fwd  front   99.8   \n",
              "3    2  164         audi     gas    std  four        sedan  4wd  front   99.4   \n",
              "4    2    ?         audi     gas    std   two        sedan  fwd  front   99.8   \n",
              "..  ..  ...          ...     ...    ...   ...          ...  ...    ...    ...   \n",
              "199 -1   95        volvo     gas    std  four        sedan  rwd  front  109.1   \n",
              "200 -1   95        volvo     gas  turbo  four        sedan  rwd  front  109.1   \n",
              "201 -1   95        volvo     gas    std  four        sedan  rwd  front  109.1   \n",
              "202 -1   95        volvo  diesel  turbo  four        sedan  rwd  front  109.1   \n",
              "203 -1   95        volvo     gas  turbo  four        sedan  rwd  front  109.1   \n",
              "\n",
              "     ...  130  mpfi  3.47  2.68  9.00  111  5000  21  27  13495  \n",
              "0    ...  130  mpfi  3.47  2.68   9.0  111  5000  21  27  16500  \n",
              "1    ...  152  mpfi  2.68  3.47   9.0  154  5000  19  26  16500  \n",
              "2    ...  109  mpfi  3.19  3.40  10.0  102  5500  24  30  13950  \n",
              "3    ...  136  mpfi  3.19  3.40   8.0  115  5500  18  22  17450  \n",
              "4    ...  136  mpfi  3.19  3.40   8.5  110  5500  19  25  15250  \n",
              "..   ...  ...   ...   ...   ...   ...  ...   ...  ..  ..    ...  \n",
              "199  ...  141  mpfi  3.78  3.15   9.5  114  5400  23  28  16845  \n",
              "200  ...  141  mpfi  3.78  3.15   8.7  160  5300  19  25  19045  \n",
              "201  ...  173  mpfi  3.58  2.87   8.8  134  5500  18  23  21485  \n",
              "202  ...  145   idi  3.01  3.40  23.0  106  4800  26  27  22470  \n",
              "203  ...  141  mpfi  3.78  3.15   9.5  114  5400  19  25  22625  \n",
              "\n",
              "[204 rows x 26 columns]"
            ],
            "text/html": [
              "\n",
              "  <div id=\"df-b863ffc0-3121-4ee2-8171-f84e9132cc1e\">\n",
              "    <div class=\"colab-df-container\">\n",
              "      <div>\n",
              "<style scoped>\n",
              "    .dataframe tbody tr th:only-of-type {\n",
              "        vertical-align: middle;\n",
              "    }\n",
              "\n",
              "    .dataframe tbody tr th {\n",
              "        vertical-align: top;\n",
              "    }\n",
              "\n",
              "    .dataframe thead th {\n",
              "        text-align: right;\n",
              "    }\n",
              "</style>\n",
              "<table border=\"1\" class=\"dataframe\">\n",
              "  <thead>\n",
              "    <tr style=\"text-align: right;\">\n",
              "      <th></th>\n",
              "      <th>3</th>\n",
              "      <th>?</th>\n",
              "      <th>alfa-romero</th>\n",
              "      <th>gas</th>\n",
              "      <th>std</th>\n",
              "      <th>two</th>\n",
              "      <th>convertible</th>\n",
              "      <th>rwd</th>\n",
              "      <th>front</th>\n",
              "      <th>88.60</th>\n",
              "      <th>...</th>\n",
              "      <th>130</th>\n",
              "      <th>mpfi</th>\n",
              "      <th>3.47</th>\n",
              "      <th>2.68</th>\n",
              "      <th>9.00</th>\n",
              "      <th>111</th>\n",
              "      <th>5000</th>\n",
              "      <th>21</th>\n",
              "      <th>27</th>\n",
              "      <th>13495</th>\n",
              "    </tr>\n",
              "  </thead>\n",
              "  <tbody>\n",
              "    <tr>\n",
              "      <th>0</th>\n",
              "      <td>3</td>\n",
              "      <td>?</td>\n",
              "      <td>alfa-romero</td>\n",
              "      <td>gas</td>\n",
              "      <td>std</td>\n",
              "      <td>two</td>\n",
              "      <td>convertible</td>\n",
              "      <td>rwd</td>\n",
              "      <td>front</td>\n",
              "      <td>88.6</td>\n",
              "      <td>...</td>\n",
              "      <td>130</td>\n",
              "      <td>mpfi</td>\n",
              "      <td>3.47</td>\n",
              "      <td>2.68</td>\n",
              "      <td>9.0</td>\n",
              "      <td>111</td>\n",
              "      <td>5000</td>\n",
              "      <td>21</td>\n",
              "      <td>27</td>\n",
              "      <td>16500</td>\n",
              "    </tr>\n",
              "    <tr>\n",
              "      <th>1</th>\n",
              "      <td>1</td>\n",
              "      <td>?</td>\n",
              "      <td>alfa-romero</td>\n",
              "      <td>gas</td>\n",
              "      <td>std</td>\n",
              "      <td>two</td>\n",
              "      <td>hatchback</td>\n",
              "      <td>rwd</td>\n",
              "      <td>front</td>\n",
              "      <td>94.5</td>\n",
              "      <td>...</td>\n",
              "      <td>152</td>\n",
              "      <td>mpfi</td>\n",
              "      <td>2.68</td>\n",
              "      <td>3.47</td>\n",
              "      <td>9.0</td>\n",
              "      <td>154</td>\n",
              "      <td>5000</td>\n",
              "      <td>19</td>\n",
              "      <td>26</td>\n",
              "      <td>16500</td>\n",
              "    </tr>\n",
              "    <tr>\n",
              "      <th>2</th>\n",
              "      <td>2</td>\n",
              "      <td>164</td>\n",
              "      <td>audi</td>\n",
              "      <td>gas</td>\n",
              "      <td>std</td>\n",
              "      <td>four</td>\n",
              "      <td>sedan</td>\n",
              "      <td>fwd</td>\n",
              "      <td>front</td>\n",
              "      <td>99.8</td>\n",
              "      <td>...</td>\n",
              "      <td>109</td>\n",
              "      <td>mpfi</td>\n",
              "      <td>3.19</td>\n",
              "      <td>3.40</td>\n",
              "      <td>10.0</td>\n",
              "      <td>102</td>\n",
              "      <td>5500</td>\n",
              "      <td>24</td>\n",
              "      <td>30</td>\n",
              "      <td>13950</td>\n",
              "    </tr>\n",
              "    <tr>\n",
              "      <th>3</th>\n",
              "      <td>2</td>\n",
              "      <td>164</td>\n",
              "      <td>audi</td>\n",
              "      <td>gas</td>\n",
              "      <td>std</td>\n",
              "      <td>four</td>\n",
              "      <td>sedan</td>\n",
              "      <td>4wd</td>\n",
              "      <td>front</td>\n",
              "      <td>99.4</td>\n",
              "      <td>...</td>\n",
              "      <td>136</td>\n",
              "      <td>mpfi</td>\n",
              "      <td>3.19</td>\n",
              "      <td>3.40</td>\n",
              "      <td>8.0</td>\n",
              "      <td>115</td>\n",
              "      <td>5500</td>\n",
              "      <td>18</td>\n",
              "      <td>22</td>\n",
              "      <td>17450</td>\n",
              "    </tr>\n",
              "    <tr>\n",
              "      <th>4</th>\n",
              "      <td>2</td>\n",
              "      <td>?</td>\n",
              "      <td>audi</td>\n",
              "      <td>gas</td>\n",
              "      <td>std</td>\n",
              "      <td>two</td>\n",
              "      <td>sedan</td>\n",
              "      <td>fwd</td>\n",
              "      <td>front</td>\n",
              "      <td>99.8</td>\n",
              "      <td>...</td>\n",
              "      <td>136</td>\n",
              "      <td>mpfi</td>\n",
              "      <td>3.19</td>\n",
              "      <td>3.40</td>\n",
              "      <td>8.5</td>\n",
              "      <td>110</td>\n",
              "      <td>5500</td>\n",
              "      <td>19</td>\n",
              "      <td>25</td>\n",
              "      <td>15250</td>\n",
              "    </tr>\n",
              "    <tr>\n",
              "      <th>...</th>\n",
              "      <td>...</td>\n",
              "      <td>...</td>\n",
              "      <td>...</td>\n",
              "      <td>...</td>\n",
              "      <td>...</td>\n",
              "      <td>...</td>\n",
              "      <td>...</td>\n",
              "      <td>...</td>\n",
              "      <td>...</td>\n",
              "      <td>...</td>\n",
              "      <td>...</td>\n",
              "      <td>...</td>\n",
              "      <td>...</td>\n",
              "      <td>...</td>\n",
              "      <td>...</td>\n",
              "      <td>...</td>\n",
              "      <td>...</td>\n",
              "      <td>...</td>\n",
              "      <td>...</td>\n",
              "      <td>...</td>\n",
              "      <td>...</td>\n",
              "    </tr>\n",
              "    <tr>\n",
              "      <th>199</th>\n",
              "      <td>-1</td>\n",
              "      <td>95</td>\n",
              "      <td>volvo</td>\n",
              "      <td>gas</td>\n",
              "      <td>std</td>\n",
              "      <td>four</td>\n",
              "      <td>sedan</td>\n",
              "      <td>rwd</td>\n",
              "      <td>front</td>\n",
              "      <td>109.1</td>\n",
              "      <td>...</td>\n",
              "      <td>141</td>\n",
              "      <td>mpfi</td>\n",
              "      <td>3.78</td>\n",
              "      <td>3.15</td>\n",
              "      <td>9.5</td>\n",
              "      <td>114</td>\n",
              "      <td>5400</td>\n",
              "      <td>23</td>\n",
              "      <td>28</td>\n",
              "      <td>16845</td>\n",
              "    </tr>\n",
              "    <tr>\n",
              "      <th>200</th>\n",
              "      <td>-1</td>\n",
              "      <td>95</td>\n",
              "      <td>volvo</td>\n",
              "      <td>gas</td>\n",
              "      <td>turbo</td>\n",
              "      <td>four</td>\n",
              "      <td>sedan</td>\n",
              "      <td>rwd</td>\n",
              "      <td>front</td>\n",
              "      <td>109.1</td>\n",
              "      <td>...</td>\n",
              "      <td>141</td>\n",
              "      <td>mpfi</td>\n",
              "      <td>3.78</td>\n",
              "      <td>3.15</td>\n",
              "      <td>8.7</td>\n",
              "      <td>160</td>\n",
              "      <td>5300</td>\n",
              "      <td>19</td>\n",
              "      <td>25</td>\n",
              "      <td>19045</td>\n",
              "    </tr>\n",
              "    <tr>\n",
              "      <th>201</th>\n",
              "      <td>-1</td>\n",
              "      <td>95</td>\n",
              "      <td>volvo</td>\n",
              "      <td>gas</td>\n",
              "      <td>std</td>\n",
              "      <td>four</td>\n",
              "      <td>sedan</td>\n",
              "      <td>rwd</td>\n",
              "      <td>front</td>\n",
              "      <td>109.1</td>\n",
              "      <td>...</td>\n",
              "      <td>173</td>\n",
              "      <td>mpfi</td>\n",
              "      <td>3.58</td>\n",
              "      <td>2.87</td>\n",
              "      <td>8.8</td>\n",
              "      <td>134</td>\n",
              "      <td>5500</td>\n",
              "      <td>18</td>\n",
              "      <td>23</td>\n",
              "      <td>21485</td>\n",
              "    </tr>\n",
              "    <tr>\n",
              "      <th>202</th>\n",
              "      <td>-1</td>\n",
              "      <td>95</td>\n",
              "      <td>volvo</td>\n",
              "      <td>diesel</td>\n",
              "      <td>turbo</td>\n",
              "      <td>four</td>\n",
              "      <td>sedan</td>\n",
              "      <td>rwd</td>\n",
              "      <td>front</td>\n",
              "      <td>109.1</td>\n",
              "      <td>...</td>\n",
              "      <td>145</td>\n",
              "      <td>idi</td>\n",
              "      <td>3.01</td>\n",
              "      <td>3.40</td>\n",
              "      <td>23.0</td>\n",
              "      <td>106</td>\n",
              "      <td>4800</td>\n",
              "      <td>26</td>\n",
              "      <td>27</td>\n",
              "      <td>22470</td>\n",
              "    </tr>\n",
              "    <tr>\n",
              "      <th>203</th>\n",
              "      <td>-1</td>\n",
              "      <td>95</td>\n",
              "      <td>volvo</td>\n",
              "      <td>gas</td>\n",
              "      <td>turbo</td>\n",
              "      <td>four</td>\n",
              "      <td>sedan</td>\n",
              "      <td>rwd</td>\n",
              "      <td>front</td>\n",
              "      <td>109.1</td>\n",
              "      <td>...</td>\n",
              "      <td>141</td>\n",
              "      <td>mpfi</td>\n",
              "      <td>3.78</td>\n",
              "      <td>3.15</td>\n",
              "      <td>9.5</td>\n",
              "      <td>114</td>\n",
              "      <td>5400</td>\n",
              "      <td>19</td>\n",
              "      <td>25</td>\n",
              "      <td>22625</td>\n",
              "    </tr>\n",
              "  </tbody>\n",
              "</table>\n",
              "<p>204 rows × 26 columns</p>\n",
              "</div>\n",
              "      <button class=\"colab-df-convert\" onclick=\"convertToInteractive('df-b863ffc0-3121-4ee2-8171-f84e9132cc1e')\"\n",
              "              title=\"Convert this dataframe to an interactive table.\"\n",
              "              style=\"display:none;\">\n",
              "        \n",
              "  <svg xmlns=\"http://www.w3.org/2000/svg\" height=\"24px\"viewBox=\"0 0 24 24\"\n",
              "       width=\"24px\">\n",
              "    <path d=\"M0 0h24v24H0V0z\" fill=\"none\"/>\n",
              "    <path d=\"M18.56 5.44l.94 2.06.94-2.06 2.06-.94-2.06-.94-.94-2.06-.94 2.06-2.06.94zm-11 1L8.5 8.5l.94-2.06 2.06-.94-2.06-.94L8.5 2.5l-.94 2.06-2.06.94zm10 10l.94 2.06.94-2.06 2.06-.94-2.06-.94-.94-2.06-.94 2.06-2.06.94z\"/><path d=\"M17.41 7.96l-1.37-1.37c-.4-.4-.92-.59-1.43-.59-.52 0-1.04.2-1.43.59L10.3 9.45l-7.72 7.72c-.78.78-.78 2.05 0 2.83L4 21.41c.39.39.9.59 1.41.59.51 0 1.02-.2 1.41-.59l7.78-7.78 2.81-2.81c.8-.78.8-2.07 0-2.86zM5.41 20L4 18.59l7.72-7.72 1.47 1.35L5.41 20z\"/>\n",
              "  </svg>\n",
              "      </button>\n",
              "      \n",
              "  <style>\n",
              "    .colab-df-container {\n",
              "      display:flex;\n",
              "      flex-wrap:wrap;\n",
              "      gap: 12px;\n",
              "    }\n",
              "\n",
              "    .colab-df-convert {\n",
              "      background-color: #E8F0FE;\n",
              "      border: none;\n",
              "      border-radius: 50%;\n",
              "      cursor: pointer;\n",
              "      display: none;\n",
              "      fill: #1967D2;\n",
              "      height: 32px;\n",
              "      padding: 0 0 0 0;\n",
              "      width: 32px;\n",
              "    }\n",
              "\n",
              "    .colab-df-convert:hover {\n",
              "      background-color: #E2EBFA;\n",
              "      box-shadow: 0px 1px 2px rgba(60, 64, 67, 0.3), 0px 1px 3px 1px rgba(60, 64, 67, 0.15);\n",
              "      fill: #174EA6;\n",
              "    }\n",
              "\n",
              "    [theme=dark] .colab-df-convert {\n",
              "      background-color: #3B4455;\n",
              "      fill: #D2E3FC;\n",
              "    }\n",
              "\n",
              "    [theme=dark] .colab-df-convert:hover {\n",
              "      background-color: #434B5C;\n",
              "      box-shadow: 0px 1px 3px 1px rgba(0, 0, 0, 0.15);\n",
              "      filter: drop-shadow(0px 1px 2px rgba(0, 0, 0, 0.3));\n",
              "      fill: #FFFFFF;\n",
              "    }\n",
              "  </style>\n",
              "\n",
              "      <script>\n",
              "        const buttonEl =\n",
              "          document.querySelector('#df-b863ffc0-3121-4ee2-8171-f84e9132cc1e button.colab-df-convert');\n",
              "        buttonEl.style.display =\n",
              "          google.colab.kernel.accessAllowed ? 'block' : 'none';\n",
              "\n",
              "        async function convertToInteractive(key) {\n",
              "          const element = document.querySelector('#df-b863ffc0-3121-4ee2-8171-f84e9132cc1e');\n",
              "          const dataTable =\n",
              "            await google.colab.kernel.invokeFunction('convertToInteractive',\n",
              "                                                     [key], {});\n",
              "          if (!dataTable) return;\n",
              "\n",
              "          const docLinkHtml = 'Like what you see? Visit the ' +\n",
              "            '<a target=\"_blank\" href=https://colab.research.google.com/notebooks/data_table.ipynb>data table notebook</a>'\n",
              "            + ' to learn more about interactive tables.';\n",
              "          element.innerHTML = '';\n",
              "          dataTable['output_type'] = 'display_data';\n",
              "          await google.colab.output.renderOutput(dataTable, element);\n",
              "          const docLink = document.createElement('div');\n",
              "          docLink.innerHTML = docLinkHtml;\n",
              "          element.appendChild(docLink);\n",
              "        }\n",
              "      </script>\n",
              "    </div>\n",
              "  </div>\n",
              "  "
            ]
          },
          "metadata": {},
          "execution_count": 114
        },
        {
          "output_type": "stream",
          "name": "stdout",
          "text": [
            "Warning: Total number of columns (26) exceeds max_columns (20) limiting to first (20) columns.\n"
          ]
        }
      ]
    },
    {
      "cell_type": "code",
      "source": [
        "df = df.drop(columns=['?','alfa-romero','rwd','21','two','5000','convertible','rwd','front','88.60','168.80','64.10','48.80','3','dohc','four','mpfi','3.47','2.68','9.00','111','21','27','13495','std','gas'],  axis = 1)\n",
        "df"
      ],
      "metadata": {
        "colab": {
          "base_uri": "https://localhost:8080/",
          "height": 636
        },
        "id": "o563eSBEWbqc",
        "outputId": "89cacf2c-9b98-4447-8d07-9f2977447157"
      },
      "execution_count": null,
      "outputs": [
        {
          "output_type": "execute_result",
          "data": {
            "text/plain": [
              "     2548  130\n",
              "0    2548  130\n",
              "1    2823  152\n",
              "2    2337  109\n",
              "3    2824  136\n",
              "4    2507  136\n",
              "..    ...  ...\n",
              "199  2952  141\n",
              "200  3049  141\n",
              "201  3012  173\n",
              "202  3217  145\n",
              "203  3062  141\n",
              "\n",
              "[204 rows x 2 columns]"
            ],
            "text/html": [
              "\n",
              "  <div id=\"df-01f82400-ae7e-46c1-bf1a-f7eab05c66d0\">\n",
              "    <div class=\"colab-df-container\">\n",
              "      <div>\n",
              "<style scoped>\n",
              "    .dataframe tbody tr th:only-of-type {\n",
              "        vertical-align: middle;\n",
              "    }\n",
              "\n",
              "    .dataframe tbody tr th {\n",
              "        vertical-align: top;\n",
              "    }\n",
              "\n",
              "    .dataframe thead th {\n",
              "        text-align: right;\n",
              "    }\n",
              "</style>\n",
              "<table border=\"1\" class=\"dataframe\">\n",
              "  <thead>\n",
              "    <tr style=\"text-align: right;\">\n",
              "      <th></th>\n",
              "      <th>2548</th>\n",
              "      <th>130</th>\n",
              "    </tr>\n",
              "  </thead>\n",
              "  <tbody>\n",
              "    <tr>\n",
              "      <th>0</th>\n",
              "      <td>2548</td>\n",
              "      <td>130</td>\n",
              "    </tr>\n",
              "    <tr>\n",
              "      <th>1</th>\n",
              "      <td>2823</td>\n",
              "      <td>152</td>\n",
              "    </tr>\n",
              "    <tr>\n",
              "      <th>2</th>\n",
              "      <td>2337</td>\n",
              "      <td>109</td>\n",
              "    </tr>\n",
              "    <tr>\n",
              "      <th>3</th>\n",
              "      <td>2824</td>\n",
              "      <td>136</td>\n",
              "    </tr>\n",
              "    <tr>\n",
              "      <th>4</th>\n",
              "      <td>2507</td>\n",
              "      <td>136</td>\n",
              "    </tr>\n",
              "    <tr>\n",
              "      <th>...</th>\n",
              "      <td>...</td>\n",
              "      <td>...</td>\n",
              "    </tr>\n",
              "    <tr>\n",
              "      <th>199</th>\n",
              "      <td>2952</td>\n",
              "      <td>141</td>\n",
              "    </tr>\n",
              "    <tr>\n",
              "      <th>200</th>\n",
              "      <td>3049</td>\n",
              "      <td>141</td>\n",
              "    </tr>\n",
              "    <tr>\n",
              "      <th>201</th>\n",
              "      <td>3012</td>\n",
              "      <td>173</td>\n",
              "    </tr>\n",
              "    <tr>\n",
              "      <th>202</th>\n",
              "      <td>3217</td>\n",
              "      <td>145</td>\n",
              "    </tr>\n",
              "    <tr>\n",
              "      <th>203</th>\n",
              "      <td>3062</td>\n",
              "      <td>141</td>\n",
              "    </tr>\n",
              "  </tbody>\n",
              "</table>\n",
              "<p>204 rows × 2 columns</p>\n",
              "</div>\n",
              "      <button class=\"colab-df-convert\" onclick=\"convertToInteractive('df-01f82400-ae7e-46c1-bf1a-f7eab05c66d0')\"\n",
              "              title=\"Convert this dataframe to an interactive table.\"\n",
              "              style=\"display:none;\">\n",
              "        \n",
              "  <svg xmlns=\"http://www.w3.org/2000/svg\" height=\"24px\"viewBox=\"0 0 24 24\"\n",
              "       width=\"24px\">\n",
              "    <path d=\"M0 0h24v24H0V0z\" fill=\"none\"/>\n",
              "    <path d=\"M18.56 5.44l.94 2.06.94-2.06 2.06-.94-2.06-.94-.94-2.06-.94 2.06-2.06.94zm-11 1L8.5 8.5l.94-2.06 2.06-.94-2.06-.94L8.5 2.5l-.94 2.06-2.06.94zm10 10l.94 2.06.94-2.06 2.06-.94-2.06-.94-.94-2.06-.94 2.06-2.06.94z\"/><path d=\"M17.41 7.96l-1.37-1.37c-.4-.4-.92-.59-1.43-.59-.52 0-1.04.2-1.43.59L10.3 9.45l-7.72 7.72c-.78.78-.78 2.05 0 2.83L4 21.41c.39.39.9.59 1.41.59.51 0 1.02-.2 1.41-.59l7.78-7.78 2.81-2.81c.8-.78.8-2.07 0-2.86zM5.41 20L4 18.59l7.72-7.72 1.47 1.35L5.41 20z\"/>\n",
              "  </svg>\n",
              "      </button>\n",
              "      \n",
              "  <style>\n",
              "    .colab-df-container {\n",
              "      display:flex;\n",
              "      flex-wrap:wrap;\n",
              "      gap: 12px;\n",
              "    }\n",
              "\n",
              "    .colab-df-convert {\n",
              "      background-color: #E8F0FE;\n",
              "      border: none;\n",
              "      border-radius: 50%;\n",
              "      cursor: pointer;\n",
              "      display: none;\n",
              "      fill: #1967D2;\n",
              "      height: 32px;\n",
              "      padding: 0 0 0 0;\n",
              "      width: 32px;\n",
              "    }\n",
              "\n",
              "    .colab-df-convert:hover {\n",
              "      background-color: #E2EBFA;\n",
              "      box-shadow: 0px 1px 2px rgba(60, 64, 67, 0.3), 0px 1px 3px 1px rgba(60, 64, 67, 0.15);\n",
              "      fill: #174EA6;\n",
              "    }\n",
              "\n",
              "    [theme=dark] .colab-df-convert {\n",
              "      background-color: #3B4455;\n",
              "      fill: #D2E3FC;\n",
              "    }\n",
              "\n",
              "    [theme=dark] .colab-df-convert:hover {\n",
              "      background-color: #434B5C;\n",
              "      box-shadow: 0px 1px 3px 1px rgba(0, 0, 0, 0.15);\n",
              "      filter: drop-shadow(0px 1px 2px rgba(0, 0, 0, 0.3));\n",
              "      fill: #FFFFFF;\n",
              "    }\n",
              "  </style>\n",
              "\n",
              "      <script>\n",
              "        const buttonEl =\n",
              "          document.querySelector('#df-01f82400-ae7e-46c1-bf1a-f7eab05c66d0 button.colab-df-convert');\n",
              "        buttonEl.style.display =\n",
              "          google.colab.kernel.accessAllowed ? 'block' : 'none';\n",
              "\n",
              "        async function convertToInteractive(key) {\n",
              "          const element = document.querySelector('#df-01f82400-ae7e-46c1-bf1a-f7eab05c66d0');\n",
              "          const dataTable =\n",
              "            await google.colab.kernel.invokeFunction('convertToInteractive',\n",
              "                                                     [key], {});\n",
              "          if (!dataTable) return;\n",
              "\n",
              "          const docLinkHtml = 'Like what you see? Visit the ' +\n",
              "            '<a target=\"_blank\" href=https://colab.research.google.com/notebooks/data_table.ipynb>data table notebook</a>'\n",
              "            + ' to learn more about interactive tables.';\n",
              "          element.innerHTML = '';\n",
              "          dataTable['output_type'] = 'display_data';\n",
              "          await google.colab.output.renderOutput(dataTable, element);\n",
              "          const docLink = document.createElement('div');\n",
              "          docLink.innerHTML = docLinkHtml;\n",
              "          element.appendChild(docLink);\n",
              "        }\n",
              "      </script>\n",
              "    </div>\n",
              "  </div>\n",
              "  "
            ],
            "application/vnd.google.colaboratory.module+javascript": "\n      import \"https://ssl.gstatic.com/colaboratory/data_table/f872b2c2305463fd/data_table.js\";\n\n      window.createDataTable({\n        data: [[{\n            'v': 0,\n            'f': \"0\",\n        },\n{\n            'v': 2548,\n            'f': \"2548\",\n        },\n{\n            'v': 130,\n            'f': \"130\",\n        }],\n [{\n            'v': 1,\n            'f': \"1\",\n        },\n{\n            'v': 2823,\n            'f': \"2823\",\n        },\n{\n            'v': 152,\n            'f': \"152\",\n        }],\n [{\n            'v': 2,\n            'f': \"2\",\n        },\n{\n            'v': 2337,\n            'f': \"2337\",\n        },\n{\n            'v': 109,\n            'f': \"109\",\n        }],\n [{\n            'v': 3,\n            'f': \"3\",\n        },\n{\n            'v': 2824,\n            'f': \"2824\",\n        },\n{\n            'v': 136,\n            'f': \"136\",\n        }],\n [{\n            'v': 4,\n            'f': \"4\",\n        },\n{\n            'v': 2507,\n            'f': \"2507\",\n        },\n{\n            'v': 136,\n            'f': \"136\",\n        }],\n [{\n            'v': 5,\n            'f': \"5\",\n        },\n{\n            'v': 2844,\n            'f': \"2844\",\n        },\n{\n            'v': 136,\n            'f': \"136\",\n        }],\n [{\n            'v': 6,\n            'f': \"6\",\n        },\n{\n            'v': 2954,\n            'f': \"2954\",\n        },\n{\n            'v': 136,\n            'f': \"136\",\n        }],\n [{\n            'v': 7,\n            'f': \"7\",\n        },\n{\n            'v': 3086,\n            'f': \"3086\",\n        },\n{\n            'v': 131,\n            'f': \"131\",\n        }],\n [{\n            'v': 8,\n            'f': \"8\",\n        },\n{\n            'v': 3053,\n            'f': \"3053\",\n        },\n{\n            'v': 131,\n            'f': \"131\",\n        }],\n [{\n            'v': 9,\n            'f': \"9\",\n        },\n{\n            'v': 2395,\n            'f': \"2395\",\n        },\n{\n            'v': 108,\n            'f': \"108\",\n        }],\n [{\n            'v': 10,\n            'f': \"10\",\n        },\n{\n            'v': 2395,\n            'f': \"2395\",\n        },\n{\n            'v': 108,\n            'f': \"108\",\n        }],\n [{\n            'v': 11,\n            'f': \"11\",\n        },\n{\n            'v': 2710,\n            'f': \"2710\",\n        },\n{\n            'v': 164,\n            'f': \"164\",\n        }],\n [{\n            'v': 12,\n            'f': \"12\",\n        },\n{\n            'v': 2765,\n            'f': \"2765\",\n        },\n{\n            'v': 164,\n            'f': \"164\",\n        }],\n [{\n            'v': 13,\n            'f': \"13\",\n        },\n{\n            'v': 3055,\n            'f': \"3055\",\n        },\n{\n            'v': 164,\n            'f': \"164\",\n        }],\n [{\n            'v': 14,\n            'f': \"14\",\n        },\n{\n            'v': 3230,\n            'f': \"3230\",\n        },\n{\n            'v': 209,\n            'f': \"209\",\n        }],\n [{\n            'v': 15,\n            'f': \"15\",\n        },\n{\n            'v': 3380,\n            'f': \"3380\",\n        },\n{\n            'v': 209,\n            'f': \"209\",\n        }],\n [{\n            'v': 16,\n            'f': \"16\",\n        },\n{\n            'v': 3505,\n            'f': \"3505\",\n        },\n{\n            'v': 209,\n            'f': \"209\",\n        }],\n [{\n            'v': 17,\n            'f': \"17\",\n        },\n{\n            'v': 1488,\n            'f': \"1488\",\n        },\n{\n            'v': 61,\n            'f': \"61\",\n        }],\n [{\n            'v': 18,\n            'f': \"18\",\n        },\n{\n            'v': 1874,\n            'f': \"1874\",\n        },\n{\n            'v': 90,\n            'f': \"90\",\n        }],\n [{\n            'v': 19,\n            'f': \"19\",\n        },\n{\n            'v': 1909,\n            'f': \"1909\",\n        },\n{\n            'v': 90,\n            'f': \"90\",\n        }],\n [{\n            'v': 20,\n            'f': \"20\",\n        },\n{\n            'v': 1876,\n            'f': \"1876\",\n        },\n{\n            'v': 90,\n            'f': \"90\",\n        }],\n [{\n            'v': 21,\n            'f': \"21\",\n        },\n{\n            'v': 1876,\n            'f': \"1876\",\n        },\n{\n            'v': 90,\n            'f': \"90\",\n        }],\n [{\n            'v': 22,\n            'f': \"22\",\n        },\n{\n            'v': 2128,\n            'f': \"2128\",\n        },\n{\n            'v': 98,\n            'f': \"98\",\n        }],\n [{\n            'v': 23,\n            'f': \"23\",\n        },\n{\n            'v': 1967,\n            'f': \"1967\",\n        },\n{\n            'v': 90,\n            'f': \"90\",\n        }],\n [{\n            'v': 24,\n            'f': \"24\",\n        },\n{\n            'v': 1989,\n            'f': \"1989\",\n        },\n{\n            'v': 90,\n            'f': \"90\",\n        }],\n [{\n            'v': 25,\n            'f': \"25\",\n        },\n{\n            'v': 1989,\n            'f': \"1989\",\n        },\n{\n            'v': 90,\n            'f': \"90\",\n        }],\n [{\n            'v': 26,\n            'f': \"26\",\n        },\n{\n            'v': 2191,\n            'f': \"2191\",\n        },\n{\n            'v': 98,\n            'f': \"98\",\n        }],\n [{\n            'v': 27,\n            'f': \"27\",\n        },\n{\n            'v': 2535,\n            'f': \"2535\",\n        },\n{\n            'v': 122,\n            'f': \"122\",\n        }],\n [{\n            'v': 28,\n            'f': \"28\",\n        },\n{\n            'v': 2811,\n            'f': \"2811\",\n        },\n{\n            'v': 156,\n            'f': \"156\",\n        }],\n [{\n            'v': 29,\n            'f': \"29\",\n        },\n{\n            'v': 1713,\n            'f': \"1713\",\n        },\n{\n            'v': 92,\n            'f': \"92\",\n        }],\n [{\n            'v': 30,\n            'f': \"30\",\n        },\n{\n            'v': 1819,\n            'f': \"1819\",\n        },\n{\n            'v': 92,\n            'f': \"92\",\n        }],\n [{\n            'v': 31,\n            'f': \"31\",\n        },\n{\n            'v': 1837,\n            'f': \"1837\",\n        },\n{\n            'v': 79,\n            'f': \"79\",\n        }],\n [{\n            'v': 32,\n            'f': \"32\",\n        },\n{\n            'v': 1940,\n            'f': \"1940\",\n        },\n{\n            'v': 92,\n            'f': \"92\",\n        }],\n [{\n            'v': 33,\n            'f': \"33\",\n        },\n{\n            'v': 1956,\n            'f': \"1956\",\n        },\n{\n            'v': 92,\n            'f': \"92\",\n        }],\n [{\n            'v': 34,\n            'f': \"34\",\n        },\n{\n            'v': 2010,\n            'f': \"2010\",\n        },\n{\n            'v': 92,\n            'f': \"92\",\n        }],\n [{\n            'v': 35,\n            'f': \"35\",\n        },\n{\n            'v': 2024,\n            'f': \"2024\",\n        },\n{\n            'v': 92,\n            'f': \"92\",\n        }],\n [{\n            'v': 36,\n            'f': \"36\",\n        },\n{\n            'v': 2236,\n            'f': \"2236\",\n        },\n{\n            'v': 110,\n            'f': \"110\",\n        }],\n [{\n            'v': 37,\n            'f': \"37\",\n        },\n{\n            'v': 2289,\n            'f': \"2289\",\n        },\n{\n            'v': 110,\n            'f': \"110\",\n        }],\n [{\n            'v': 38,\n            'f': \"38\",\n        },\n{\n            'v': 2304,\n            'f': \"2304\",\n        },\n{\n            'v': 110,\n            'f': \"110\",\n        }],\n [{\n            'v': 39,\n            'f': \"39\",\n        },\n{\n            'v': 2372,\n            'f': \"2372\",\n        },\n{\n            'v': 110,\n            'f': \"110\",\n        }],\n [{\n            'v': 40,\n            'f': \"40\",\n        },\n{\n            'v': 2465,\n            'f': \"2465\",\n        },\n{\n            'v': 110,\n            'f': \"110\",\n        }],\n [{\n            'v': 41,\n            'f': \"41\",\n        },\n{\n            'v': 2293,\n            'f': \"2293\",\n        },\n{\n            'v': 110,\n            'f': \"110\",\n        }],\n [{\n            'v': 42,\n            'f': \"42\",\n        },\n{\n            'v': 2337,\n            'f': \"2337\",\n        },\n{\n            'v': 111,\n            'f': \"111\",\n        }],\n [{\n            'v': 43,\n            'f': \"43\",\n        },\n{\n            'v': 1874,\n            'f': \"1874\",\n        },\n{\n            'v': 90,\n            'f': \"90\",\n        }],\n [{\n            'v': 44,\n            'f': \"44\",\n        },\n{\n            'v': 1909,\n            'f': \"1909\",\n        },\n{\n            'v': 90,\n            'f': \"90\",\n        }],\n [{\n            'v': 45,\n            'f': \"45\",\n        },\n{\n            'v': 2734,\n            'f': \"2734\",\n        },\n{\n            'v': 119,\n            'f': \"119\",\n        }],\n [{\n            'v': 46,\n            'f': \"46\",\n        },\n{\n            'v': 4066,\n            'f': \"4066\",\n        },\n{\n            'v': 258,\n            'f': \"258\",\n        }],\n [{\n            'v': 47,\n            'f': \"47\",\n        },\n{\n            'v': 4066,\n            'f': \"4066\",\n        },\n{\n            'v': 258,\n            'f': \"258\",\n        }],\n [{\n            'v': 48,\n            'f': \"48\",\n        },\n{\n            'v': 3950,\n            'f': \"3950\",\n        },\n{\n            'v': 326,\n            'f': \"326\",\n        }],\n [{\n            'v': 49,\n            'f': \"49\",\n        },\n{\n            'v': 1890,\n            'f': \"1890\",\n        },\n{\n            'v': 91,\n            'f': \"91\",\n        }],\n [{\n            'v': 50,\n            'f': \"50\",\n        },\n{\n            'v': 1900,\n            'f': \"1900\",\n        },\n{\n            'v': 91,\n            'f': \"91\",\n        }],\n [{\n            'v': 51,\n            'f': \"51\",\n        },\n{\n            'v': 1905,\n            'f': \"1905\",\n        },\n{\n            'v': 91,\n            'f': \"91\",\n        }],\n [{\n            'v': 52,\n            'f': \"52\",\n        },\n{\n            'v': 1945,\n            'f': \"1945\",\n        },\n{\n            'v': 91,\n            'f': \"91\",\n        }],\n [{\n            'v': 53,\n            'f': \"53\",\n        },\n{\n            'v': 1950,\n            'f': \"1950\",\n        },\n{\n            'v': 91,\n            'f': \"91\",\n        }],\n [{\n            'v': 54,\n            'f': \"54\",\n        },\n{\n            'v': 2380,\n            'f': \"2380\",\n        },\n{\n            'v': 70,\n            'f': \"70\",\n        }],\n [{\n            'v': 55,\n            'f': \"55\",\n        },\n{\n            'v': 2380,\n            'f': \"2380\",\n        },\n{\n            'v': 70,\n            'f': \"70\",\n        }],\n [{\n            'v': 56,\n            'f': \"56\",\n        },\n{\n            'v': 2385,\n            'f': \"2385\",\n        },\n{\n            'v': 70,\n            'f': \"70\",\n        }],\n [{\n            'v': 57,\n            'f': \"57\",\n        },\n{\n            'v': 2500,\n            'f': \"2500\",\n        },\n{\n            'v': 80,\n            'f': \"80\",\n        }],\n [{\n            'v': 58,\n            'f': \"58\",\n        },\n{\n            'v': 2385,\n            'f': \"2385\",\n        },\n{\n            'v': 122,\n            'f': \"122\",\n        }],\n [{\n            'v': 59,\n            'f': \"59\",\n        },\n{\n            'v': 2410,\n            'f': \"2410\",\n        },\n{\n            'v': 122,\n            'f': \"122\",\n        }],\n [{\n            'v': 60,\n            'f': \"60\",\n        },\n{\n            'v': 2385,\n            'f': \"2385\",\n        },\n{\n            'v': 122,\n            'f': \"122\",\n        }],\n [{\n            'v': 61,\n            'f': \"61\",\n        },\n{\n            'v': 2410,\n            'f': \"2410\",\n        },\n{\n            'v': 122,\n            'f': \"122\",\n        }],\n [{\n            'v': 62,\n            'f': \"62\",\n        },\n{\n            'v': 2443,\n            'f': \"2443\",\n        },\n{\n            'v': 122,\n            'f': \"122\",\n        }],\n [{\n            'v': 63,\n            'f': \"63\",\n        },\n{\n            'v': 2425,\n            'f': \"2425\",\n        },\n{\n            'v': 122,\n            'f': \"122\",\n        }],\n [{\n            'v': 64,\n            'f': \"64\",\n        },\n{\n            'v': 2670,\n            'f': \"2670\",\n        },\n{\n            'v': 140,\n            'f': \"140\",\n        }],\n [{\n            'v': 65,\n            'f': \"65\",\n        },\n{\n            'v': 2700,\n            'f': \"2700\",\n        },\n{\n            'v': 134,\n            'f': \"134\",\n        }],\n [{\n            'v': 66,\n            'f': \"66\",\n        },\n{\n            'v': 3515,\n            'f': \"3515\",\n        },\n{\n            'v': 183,\n            'f': \"183\",\n        }],\n [{\n            'v': 67,\n            'f': \"67\",\n        },\n{\n            'v': 3750,\n            'f': \"3750\",\n        },\n{\n            'v': 183,\n            'f': \"183\",\n        }],\n [{\n            'v': 68,\n            'f': \"68\",\n        },\n{\n            'v': 3495,\n            'f': \"3495\",\n        },\n{\n            'v': 183,\n            'f': \"183\",\n        }],\n [{\n            'v': 69,\n            'f': \"69\",\n        },\n{\n            'v': 3770,\n            'f': \"3770\",\n        },\n{\n            'v': 183,\n            'f': \"183\",\n        }],\n [{\n            'v': 70,\n            'f': \"70\",\n        },\n{\n            'v': 3740,\n            'f': \"3740\",\n        },\n{\n            'v': 234,\n            'f': \"234\",\n        }],\n [{\n            'v': 71,\n            'f': \"71\",\n        },\n{\n            'v': 3685,\n            'f': \"3685\",\n        },\n{\n            'v': 234,\n            'f': \"234\",\n        }],\n [{\n            'v': 72,\n            'f': \"72\",\n        },\n{\n            'v': 3900,\n            'f': \"3900\",\n        },\n{\n            'v': 308,\n            'f': \"308\",\n        }],\n [{\n            'v': 73,\n            'f': \"73\",\n        },\n{\n            'v': 3715,\n            'f': \"3715\",\n        },\n{\n            'v': 304,\n            'f': \"304\",\n        }],\n [{\n            'v': 74,\n            'f': \"74\",\n        },\n{\n            'v': 2910,\n            'f': \"2910\",\n        },\n{\n            'v': 140,\n            'f': \"140\",\n        }],\n [{\n            'v': 75,\n            'f': \"75\",\n        },\n{\n            'v': 1918,\n            'f': \"1918\",\n        },\n{\n            'v': 92,\n            'f': \"92\",\n        }],\n [{\n            'v': 76,\n            'f': \"76\",\n        },\n{\n            'v': 1944,\n            'f': \"1944\",\n        },\n{\n            'v': 92,\n            'f': \"92\",\n        }],\n [{\n            'v': 77,\n            'f': \"77\",\n        },\n{\n            'v': 2004,\n            'f': \"2004\",\n        },\n{\n            'v': 92,\n            'f': \"92\",\n        }],\n [{\n            'v': 78,\n            'f': \"78\",\n        },\n{\n            'v': 2145,\n            'f': \"2145\",\n        },\n{\n            'v': 98,\n            'f': \"98\",\n        }],\n [{\n            'v': 79,\n            'f': \"79\",\n        },\n{\n            'v': 2370,\n            'f': \"2370\",\n        },\n{\n            'v': 110,\n            'f': \"110\",\n        }],\n [{\n            'v': 80,\n            'f': \"80\",\n        },\n{\n            'v': 2328,\n            'f': \"2328\",\n        },\n{\n            'v': 122,\n            'f': \"122\",\n        }],\n [{\n            'v': 81,\n            'f': \"81\",\n        },\n{\n            'v': 2833,\n            'f': \"2833\",\n        },\n{\n            'v': 156,\n            'f': \"156\",\n        }],\n [{\n            'v': 82,\n            'f': \"82\",\n        },\n{\n            'v': 2921,\n            'f': \"2921\",\n        },\n{\n            'v': 156,\n            'f': \"156\",\n        }],\n [{\n            'v': 83,\n            'f': \"83\",\n        },\n{\n            'v': 2926,\n            'f': \"2926\",\n        },\n{\n            'v': 156,\n            'f': \"156\",\n        }],\n [{\n            'v': 84,\n            'f': \"84\",\n        },\n{\n            'v': 2365,\n            'f': \"2365\",\n        },\n{\n            'v': 122,\n            'f': \"122\",\n        }],\n [{\n            'v': 85,\n            'f': \"85\",\n        },\n{\n            'v': 2405,\n            'f': \"2405\",\n        },\n{\n            'v': 122,\n            'f': \"122\",\n        }],\n [{\n            'v': 86,\n            'f': \"86\",\n        },\n{\n            'v': 2403,\n            'f': \"2403\",\n        },\n{\n            'v': 110,\n            'f': \"110\",\n        }],\n [{\n            'v': 87,\n            'f': \"87\",\n        },\n{\n            'v': 2403,\n            'f': \"2403\",\n        },\n{\n            'v': 110,\n            'f': \"110\",\n        }],\n [{\n            'v': 88,\n            'f': \"88\",\n        },\n{\n            'v': 1889,\n            'f': \"1889\",\n        },\n{\n            'v': 97,\n            'f': \"97\",\n        }],\n [{\n            'v': 89,\n            'f': \"89\",\n        },\n{\n            'v': 2017,\n            'f': \"2017\",\n        },\n{\n            'v': 103,\n            'f': \"103\",\n        }],\n [{\n            'v': 90,\n            'f': \"90\",\n        },\n{\n            'v': 1918,\n            'f': \"1918\",\n        },\n{\n            'v': 97,\n            'f': \"97\",\n        }],\n [{\n            'v': 91,\n            'f': \"91\",\n        },\n{\n            'v': 1938,\n            'f': \"1938\",\n        },\n{\n            'v': 97,\n            'f': \"97\",\n        }],\n [{\n            'v': 92,\n            'f': \"92\",\n        },\n{\n            'v': 2024,\n            'f': \"2024\",\n        },\n{\n            'v': 97,\n            'f': \"97\",\n        }],\n [{\n            'v': 93,\n            'f': \"93\",\n        },\n{\n            'v': 1951,\n            'f': \"1951\",\n        },\n{\n            'v': 97,\n            'f': \"97\",\n        }],\n [{\n            'v': 94,\n            'f': \"94\",\n        },\n{\n            'v': 2028,\n            'f': \"2028\",\n        },\n{\n            'v': 97,\n            'f': \"97\",\n        }],\n [{\n            'v': 95,\n            'f': \"95\",\n        },\n{\n            'v': 1971,\n            'f': \"1971\",\n        },\n{\n            'v': 97,\n            'f': \"97\",\n        }],\n [{\n            'v': 96,\n            'f': \"96\",\n        },\n{\n            'v': 2037,\n            'f': \"2037\",\n        },\n{\n            'v': 97,\n            'f': \"97\",\n        }],\n [{\n            'v': 97,\n            'f': \"97\",\n        },\n{\n            'v': 2008,\n            'f': \"2008\",\n        },\n{\n            'v': 97,\n            'f': \"97\",\n        }],\n [{\n            'v': 98,\n            'f': \"98\",\n        },\n{\n            'v': 2324,\n            'f': \"2324\",\n        },\n{\n            'v': 120,\n            'f': \"120\",\n        }],\n [{\n            'v': 99,\n            'f': \"99\",\n        },\n{\n            'v': 2302,\n            'f': \"2302\",\n        },\n{\n            'v': 120,\n            'f': \"120\",\n        }],\n [{\n            'v': 100,\n            'f': \"100\",\n        },\n{\n            'v': 3095,\n            'f': \"3095\",\n        },\n{\n            'v': 181,\n            'f': \"181\",\n        }],\n [{\n            'v': 101,\n            'f': \"101\",\n        },\n{\n            'v': 3296,\n            'f': \"3296\",\n        },\n{\n            'v': 181,\n            'f': \"181\",\n        }],\n [{\n            'v': 102,\n            'f': \"102\",\n        },\n{\n            'v': 3060,\n            'f': \"3060\",\n        },\n{\n            'v': 181,\n            'f': \"181\",\n        }],\n [{\n            'v': 103,\n            'f': \"103\",\n        },\n{\n            'v': 3071,\n            'f': \"3071\",\n        },\n{\n            'v': 181,\n            'f': \"181\",\n        }],\n [{\n            'v': 104,\n            'f': \"104\",\n        },\n{\n            'v': 3139,\n            'f': \"3139\",\n        },\n{\n            'v': 181,\n            'f': \"181\",\n        }],\n [{\n            'v': 105,\n            'f': \"105\",\n        },\n{\n            'v': 3139,\n            'f': \"3139\",\n        },\n{\n            'v': 181,\n            'f': \"181\",\n        }],\n [{\n            'v': 106,\n            'f': \"106\",\n        },\n{\n            'v': 3020,\n            'f': \"3020\",\n        },\n{\n            'v': 120,\n            'f': \"120\",\n        }],\n [{\n            'v': 107,\n            'f': \"107\",\n        },\n{\n            'v': 3197,\n            'f': \"3197\",\n        },\n{\n            'v': 152,\n            'f': \"152\",\n        }],\n [{\n            'v': 108,\n            'f': \"108\",\n        },\n{\n            'v': 3230,\n            'f': \"3230\",\n        },\n{\n            'v': 120,\n            'f': \"120\",\n        }],\n [{\n            'v': 109,\n            'f': \"109\",\n        },\n{\n            'v': 3430,\n            'f': \"3430\",\n        },\n{\n            'v': 152,\n            'f': \"152\",\n        }],\n [{\n            'v': 110,\n            'f': \"110\",\n        },\n{\n            'v': 3075,\n            'f': \"3075\",\n        },\n{\n            'v': 120,\n            'f': \"120\",\n        }],\n [{\n            'v': 111,\n            'f': \"111\",\n        },\n{\n            'v': 3252,\n            'f': \"3252\",\n        },\n{\n            'v': 152,\n            'f': \"152\",\n        }],\n [{\n            'v': 112,\n            'f': \"112\",\n        },\n{\n            'v': 3285,\n            'f': \"3285\",\n        },\n{\n            'v': 120,\n            'f': \"120\",\n        }],\n [{\n            'v': 113,\n            'f': \"113\",\n        },\n{\n            'v': 3485,\n            'f': \"3485\",\n        },\n{\n            'v': 152,\n            'f': \"152\",\n        }],\n [{\n            'v': 114,\n            'f': \"114\",\n        },\n{\n            'v': 3075,\n            'f': \"3075\",\n        },\n{\n            'v': 120,\n            'f': \"120\",\n        }],\n [{\n            'v': 115,\n            'f': \"115\",\n        },\n{\n            'v': 3252,\n            'f': \"3252\",\n        },\n{\n            'v': 152,\n            'f': \"152\",\n        }],\n [{\n            'v': 116,\n            'f': \"116\",\n        },\n{\n            'v': 3130,\n            'f': \"3130\",\n        },\n{\n            'v': 134,\n            'f': \"134\",\n        }],\n [{\n            'v': 117,\n            'f': \"117\",\n        },\n{\n            'v': 1918,\n            'f': \"1918\",\n        },\n{\n            'v': 90,\n            'f': \"90\",\n        }],\n [{\n            'v': 118,\n            'f': \"118\",\n        },\n{\n            'v': 2128,\n            'f': \"2128\",\n        },\n{\n            'v': 98,\n            'f': \"98\",\n        }],\n [{\n            'v': 119,\n            'f': \"119\",\n        },\n{\n            'v': 1967,\n            'f': \"1967\",\n        },\n{\n            'v': 90,\n            'f': \"90\",\n        }],\n [{\n            'v': 120,\n            'f': \"120\",\n        },\n{\n            'v': 1989,\n            'f': \"1989\",\n        },\n{\n            'v': 90,\n            'f': \"90\",\n        }],\n [{\n            'v': 121,\n            'f': \"121\",\n        },\n{\n            'v': 2191,\n            'f': \"2191\",\n        },\n{\n            'v': 98,\n            'f': \"98\",\n        }],\n [{\n            'v': 122,\n            'f': \"122\",\n        },\n{\n            'v': 2535,\n            'f': \"2535\",\n        },\n{\n            'v': 122,\n            'f': \"122\",\n        }],\n [{\n            'v': 123,\n            'f': \"123\",\n        },\n{\n            'v': 2818,\n            'f': \"2818\",\n        },\n{\n            'v': 156,\n            'f': \"156\",\n        }],\n [{\n            'v': 124,\n            'f': \"124\",\n        },\n{\n            'v': 2778,\n            'f': \"2778\",\n        },\n{\n            'v': 151,\n            'f': \"151\",\n        }],\n [{\n            'v': 125,\n            'f': \"125\",\n        },\n{\n            'v': 2756,\n            'f': \"2756\",\n        },\n{\n            'v': 194,\n            'f': \"194\",\n        }],\n [{\n            'v': 126,\n            'f': \"126\",\n        },\n{\n            'v': 2756,\n            'f': \"2756\",\n        },\n{\n            'v': 194,\n            'f': \"194\",\n        }],\n [{\n            'v': 127,\n            'f': \"127\",\n        },\n{\n            'v': 2800,\n            'f': \"2800\",\n        },\n{\n            'v': 194,\n            'f': \"194\",\n        }],\n [{\n            'v': 128,\n            'f': \"128\",\n        },\n{\n            'v': 3366,\n            'f': \"3366\",\n        },\n{\n            'v': 203,\n            'f': \"203\",\n        }],\n [{\n            'v': 129,\n            'f': \"129\",\n        },\n{\n            'v': 2579,\n            'f': \"2579\",\n        },\n{\n            'v': 132,\n            'f': \"132\",\n        }],\n [{\n            'v': 130,\n            'f': \"130\",\n        },\n{\n            'v': 2460,\n            'f': \"2460\",\n        },\n{\n            'v': 132,\n            'f': \"132\",\n        }],\n [{\n            'v': 131,\n            'f': \"131\",\n        },\n{\n            'v': 2658,\n            'f': \"2658\",\n        },\n{\n            'v': 121,\n            'f': \"121\",\n        }],\n [{\n            'v': 132,\n            'f': \"132\",\n        },\n{\n            'v': 2695,\n            'f': \"2695\",\n        },\n{\n            'v': 121,\n            'f': \"121\",\n        }],\n [{\n            'v': 133,\n            'f': \"133\",\n        },\n{\n            'v': 2707,\n            'f': \"2707\",\n        },\n{\n            'v': 121,\n            'f': \"121\",\n        }],\n [{\n            'v': 134,\n            'f': \"134\",\n        },\n{\n            'v': 2758,\n            'f': \"2758\",\n        },\n{\n            'v': 121,\n            'f': \"121\",\n        }],\n [{\n            'v': 135,\n            'f': \"135\",\n        },\n{\n            'v': 2808,\n            'f': \"2808\",\n        },\n{\n            'v': 121,\n            'f': \"121\",\n        }],\n [{\n            'v': 136,\n            'f': \"136\",\n        },\n{\n            'v': 2847,\n            'f': \"2847\",\n        },\n{\n            'v': 121,\n            'f': \"121\",\n        }],\n [{\n            'v': 137,\n            'f': \"137\",\n        },\n{\n            'v': 2050,\n            'f': \"2050\",\n        },\n{\n            'v': 97,\n            'f': \"97\",\n        }],\n [{\n            'v': 138,\n            'f': \"138\",\n        },\n{\n            'v': 2120,\n            'f': \"2120\",\n        },\n{\n            'v': 108,\n            'f': \"108\",\n        }],\n [{\n            'v': 139,\n            'f': \"139\",\n        },\n{\n            'v': 2240,\n            'f': \"2240\",\n        },\n{\n            'v': 108,\n            'f': \"108\",\n        }],\n [{\n            'v': 140,\n            'f': \"140\",\n        },\n{\n            'v': 2145,\n            'f': \"2145\",\n        },\n{\n            'v': 108,\n            'f': \"108\",\n        }],\n [{\n            'v': 141,\n            'f': \"141\",\n        },\n{\n            'v': 2190,\n            'f': \"2190\",\n        },\n{\n            'v': 108,\n            'f': \"108\",\n        }],\n [{\n            'v': 142,\n            'f': \"142\",\n        },\n{\n            'v': 2340,\n            'f': \"2340\",\n        },\n{\n            'v': 108,\n            'f': \"108\",\n        }],\n [{\n            'v': 143,\n            'f': \"143\",\n        },\n{\n            'v': 2385,\n            'f': \"2385\",\n        },\n{\n            'v': 108,\n            'f': \"108\",\n        }],\n [{\n            'v': 144,\n            'f': \"144\",\n        },\n{\n            'v': 2510,\n            'f': \"2510\",\n        },\n{\n            'v': 108,\n            'f': \"108\",\n        }],\n [{\n            'v': 145,\n            'f': \"145\",\n        },\n{\n            'v': 2290,\n            'f': \"2290\",\n        },\n{\n            'v': 108,\n            'f': \"108\",\n        }],\n [{\n            'v': 146,\n            'f': \"146\",\n        },\n{\n            'v': 2455,\n            'f': \"2455\",\n        },\n{\n            'v': 108,\n            'f': \"108\",\n        }],\n [{\n            'v': 147,\n            'f': \"147\",\n        },\n{\n            'v': 2420,\n            'f': \"2420\",\n        },\n{\n            'v': 108,\n            'f': \"108\",\n        }],\n [{\n            'v': 148,\n            'f': \"148\",\n        },\n{\n            'v': 2650,\n            'f': \"2650\",\n        },\n{\n            'v': 108,\n            'f': \"108\",\n        }],\n [{\n            'v': 149,\n            'f': \"149\",\n        },\n{\n            'v': 1985,\n            'f': \"1985\",\n        },\n{\n            'v': 92,\n            'f': \"92\",\n        }],\n [{\n            'v': 150,\n            'f': \"150\",\n        },\n{\n            'v': 2040,\n            'f': \"2040\",\n        },\n{\n            'v': 92,\n            'f': \"92\",\n        }],\n [{\n            'v': 151,\n            'f': \"151\",\n        },\n{\n            'v': 2015,\n            'f': \"2015\",\n        },\n{\n            'v': 92,\n            'f': \"92\",\n        }],\n [{\n            'v': 152,\n            'f': \"152\",\n        },\n{\n            'v': 2280,\n            'f': \"2280\",\n        },\n{\n            'v': 92,\n            'f': \"92\",\n        }],\n [{\n            'v': 153,\n            'f': \"153\",\n        },\n{\n            'v': 2290,\n            'f': \"2290\",\n        },\n{\n            'v': 92,\n            'f': \"92\",\n        }],\n [{\n            'v': 154,\n            'f': \"154\",\n        },\n{\n            'v': 3110,\n            'f': \"3110\",\n        },\n{\n            'v': 92,\n            'f': \"92\",\n        }],\n [{\n            'v': 155,\n            'f': \"155\",\n        },\n{\n            'v': 2081,\n            'f': \"2081\",\n        },\n{\n            'v': 98,\n            'f': \"98\",\n        }],\n [{\n            'v': 156,\n            'f': \"156\",\n        },\n{\n            'v': 2109,\n            'f': \"2109\",\n        },\n{\n            'v': 98,\n            'f': \"98\",\n        }],\n [{\n            'v': 157,\n            'f': \"157\",\n        },\n{\n            'v': 2275,\n            'f': \"2275\",\n        },\n{\n            'v': 110,\n            'f': \"110\",\n        }],\n [{\n            'v': 158,\n            'f': \"158\",\n        },\n{\n            'v': 2275,\n            'f': \"2275\",\n        },\n{\n            'v': 110,\n            'f': \"110\",\n        }],\n [{\n            'v': 159,\n            'f': \"159\",\n        },\n{\n            'v': 2094,\n            'f': \"2094\",\n        },\n{\n            'v': 98,\n            'f': \"98\",\n        }],\n [{\n            'v': 160,\n            'f': \"160\",\n        },\n{\n            'v': 2122,\n            'f': \"2122\",\n        },\n{\n            'v': 98,\n            'f': \"98\",\n        }],\n [{\n            'v': 161,\n            'f': \"161\",\n        },\n{\n            'v': 2140,\n            'f': \"2140\",\n        },\n{\n            'v': 98,\n            'f': \"98\",\n        }],\n [{\n            'v': 162,\n            'f': \"162\",\n        },\n{\n            'v': 2169,\n            'f': \"2169\",\n        },\n{\n            'v': 98,\n            'f': \"98\",\n        }],\n [{\n            'v': 163,\n            'f': \"163\",\n        },\n{\n            'v': 2204,\n            'f': \"2204\",\n        },\n{\n            'v': 98,\n            'f': \"98\",\n        }],\n [{\n            'v': 164,\n            'f': \"164\",\n        },\n{\n            'v': 2265,\n            'f': \"2265\",\n        },\n{\n            'v': 98,\n            'f': \"98\",\n        }],\n [{\n            'v': 165,\n            'f': \"165\",\n        },\n{\n            'v': 2300,\n            'f': \"2300\",\n        },\n{\n            'v': 98,\n            'f': \"98\",\n        }],\n [{\n            'v': 166,\n            'f': \"166\",\n        },\n{\n            'v': 2540,\n            'f': \"2540\",\n        },\n{\n            'v': 146,\n            'f': \"146\",\n        }],\n [{\n            'v': 167,\n            'f': \"167\",\n        },\n{\n            'v': 2536,\n            'f': \"2536\",\n        },\n{\n            'v': 146,\n            'f': \"146\",\n        }],\n [{\n            'v': 168,\n            'f': \"168\",\n        },\n{\n            'v': 2551,\n            'f': \"2551\",\n        },\n{\n            'v': 146,\n            'f': \"146\",\n        }],\n [{\n            'v': 169,\n            'f': \"169\",\n        },\n{\n            'v': 2679,\n            'f': \"2679\",\n        },\n{\n            'v': 146,\n            'f': \"146\",\n        }],\n [{\n            'v': 170,\n            'f': \"170\",\n        },\n{\n            'v': 2714,\n            'f': \"2714\",\n        },\n{\n            'v': 146,\n            'f': \"146\",\n        }],\n [{\n            'v': 171,\n            'f': \"171\",\n        },\n{\n            'v': 2975,\n            'f': \"2975\",\n        },\n{\n            'v': 146,\n            'f': \"146\",\n        }],\n [{\n            'v': 172,\n            'f': \"172\",\n        },\n{\n            'v': 2326,\n            'f': \"2326\",\n        },\n{\n            'v': 122,\n            'f': \"122\",\n        }],\n [{\n            'v': 173,\n            'f': \"173\",\n        },\n{\n            'v': 2480,\n            'f': \"2480\",\n        },\n{\n            'v': 110,\n            'f': \"110\",\n        }],\n [{\n            'v': 174,\n            'f': \"174\",\n        },\n{\n            'v': 2414,\n            'f': \"2414\",\n        },\n{\n            'v': 122,\n            'f': \"122\",\n        }],\n [{\n            'v': 175,\n            'f': \"175\",\n        },\n{\n            'v': 2414,\n            'f': \"2414\",\n        },\n{\n            'v': 122,\n            'f': \"122\",\n        }],\n [{\n            'v': 176,\n            'f': \"176\",\n        },\n{\n            'v': 2458,\n            'f': \"2458\",\n        },\n{\n            'v': 122,\n            'f': \"122\",\n        }],\n [{\n            'v': 177,\n            'f': \"177\",\n        },\n{\n            'v': 2976,\n            'f': \"2976\",\n        },\n{\n            'v': 171,\n            'f': \"171\",\n        }],\n [{\n            'v': 178,\n            'f': \"178\",\n        },\n{\n            'v': 3016,\n            'f': \"3016\",\n        },\n{\n            'v': 171,\n            'f': \"171\",\n        }],\n [{\n            'v': 179,\n            'f': \"179\",\n        },\n{\n            'v': 3131,\n            'f': \"3131\",\n        },\n{\n            'v': 171,\n            'f': \"171\",\n        }],\n [{\n            'v': 180,\n            'f': \"180\",\n        },\n{\n            'v': 3151,\n            'f': \"3151\",\n        },\n{\n            'v': 161,\n            'f': \"161\",\n        }],\n [{\n            'v': 181,\n            'f': \"181\",\n        },\n{\n            'v': 2261,\n            'f': \"2261\",\n        },\n{\n            'v': 97,\n            'f': \"97\",\n        }],\n [{\n            'v': 182,\n            'f': \"182\",\n        },\n{\n            'v': 2209,\n            'f': \"2209\",\n        },\n{\n            'v': 109,\n            'f': \"109\",\n        }],\n [{\n            'v': 183,\n            'f': \"183\",\n        },\n{\n            'v': 2264,\n            'f': \"2264\",\n        },\n{\n            'v': 97,\n            'f': \"97\",\n        }],\n [{\n            'v': 184,\n            'f': \"184\",\n        },\n{\n            'v': 2212,\n            'f': \"2212\",\n        },\n{\n            'v': 109,\n            'f': \"109\",\n        }],\n [{\n            'v': 185,\n            'f': \"185\",\n        },\n{\n            'v': 2275,\n            'f': \"2275\",\n        },\n{\n            'v': 109,\n            'f': \"109\",\n        }],\n [{\n            'v': 186,\n            'f': \"186\",\n        },\n{\n            'v': 2319,\n            'f': \"2319\",\n        },\n{\n            'v': 97,\n            'f': \"97\",\n        }],\n [{\n            'v': 187,\n            'f': \"187\",\n        },\n{\n            'v': 2300,\n            'f': \"2300\",\n        },\n{\n            'v': 109,\n            'f': \"109\",\n        }],\n [{\n            'v': 188,\n            'f': \"188\",\n        },\n{\n            'v': 2254,\n            'f': \"2254\",\n        },\n{\n            'v': 109,\n            'f': \"109\",\n        }],\n [{\n            'v': 189,\n            'f': \"189\",\n        },\n{\n            'v': 2221,\n            'f': \"2221\",\n        },\n{\n            'v': 109,\n            'f': \"109\",\n        }],\n [{\n            'v': 190,\n            'f': \"190\",\n        },\n{\n            'v': 2661,\n            'f': \"2661\",\n        },\n{\n            'v': 136,\n            'f': \"136\",\n        }],\n [{\n            'v': 191,\n            'f': \"191\",\n        },\n{\n            'v': 2579,\n            'f': \"2579\",\n        },\n{\n            'v': 97,\n            'f': \"97\",\n        }],\n [{\n            'v': 192,\n            'f': \"192\",\n        },\n{\n            'v': 2563,\n            'f': \"2563\",\n        },\n{\n            'v': 109,\n            'f': \"109\",\n        }],\n [{\n            'v': 193,\n            'f': \"193\",\n        },\n{\n            'v': 2912,\n            'f': \"2912\",\n        },\n{\n            'v': 141,\n            'f': \"141\",\n        }],\n [{\n            'v': 194,\n            'f': \"194\",\n        },\n{\n            'v': 3034,\n            'f': \"3034\",\n        },\n{\n            'v': 141,\n            'f': \"141\",\n        }],\n [{\n            'v': 195,\n            'f': \"195\",\n        },\n{\n            'v': 2935,\n            'f': \"2935\",\n        },\n{\n            'v': 141,\n            'f': \"141\",\n        }],\n [{\n            'v': 196,\n            'f': \"196\",\n        },\n{\n            'v': 3042,\n            'f': \"3042\",\n        },\n{\n            'v': 141,\n            'f': \"141\",\n        }],\n [{\n            'v': 197,\n            'f': \"197\",\n        },\n{\n            'v': 3045,\n            'f': \"3045\",\n        },\n{\n            'v': 130,\n            'f': \"130\",\n        }],\n [{\n            'v': 198,\n            'f': \"198\",\n        },\n{\n            'v': 3157,\n            'f': \"3157\",\n        },\n{\n            'v': 130,\n            'f': \"130\",\n        }],\n [{\n            'v': 199,\n            'f': \"199\",\n        },\n{\n            'v': 2952,\n            'f': \"2952\",\n        },\n{\n            'v': 141,\n            'f': \"141\",\n        }],\n [{\n            'v': 200,\n            'f': \"200\",\n        },\n{\n            'v': 3049,\n            'f': \"3049\",\n        },\n{\n            'v': 141,\n            'f': \"141\",\n        }],\n [{\n            'v': 201,\n            'f': \"201\",\n        },\n{\n            'v': 3012,\n            'f': \"3012\",\n        },\n{\n            'v': 173,\n            'f': \"173\",\n        }],\n [{\n            'v': 202,\n            'f': \"202\",\n        },\n{\n            'v': 3217,\n            'f': \"3217\",\n        },\n{\n            'v': 145,\n            'f': \"145\",\n        }],\n [{\n            'v': 203,\n            'f': \"203\",\n        },\n{\n            'v': 3062,\n            'f': \"3062\",\n        },\n{\n            'v': 141,\n            'f': \"141\",\n        }]],\n        columns: [[\"number\", \"index\"], [\"number\", \"2548\"], [\"number\", \"130\"]],\n        columnOptions: [{\"width\": \"1px\", \"className\": \"index_column\"}],\n        rowsPerPage: 25,\n        helpUrl: \"https://colab.research.google.com/notebooks/data_table.ipynb\",\n        suppressOutputScrolling: true,\n        minimumWidth: undefined,\n      });\n    "
          },
          "metadata": {},
          "execution_count": 115
        }
      ]
    },
    {
      "cell_type": "code",
      "source": [
        "df.rename(columns={'2548': 'POTÊNCIA_DA_FRENAGEM', '130' : 'TAM_MOTOR'}, inplace=True)\n",
        "df.head()"
      ],
      "metadata": {
        "colab": {
          "base_uri": "https://localhost:8080/",
          "height": 196
        },
        "id": "FULZTdx-UITT",
        "outputId": "0305409e-4f4f-4b3a-a355-fc97938944cc"
      },
      "execution_count": null,
      "outputs": [
        {
          "output_type": "execute_result",
          "data": {
            "text/plain": [
              "   POTÊNCIA_DA_FRENAGEM  TAM_MOTOR\n",
              "0                  2548        130\n",
              "1                  2823        152\n",
              "2                  2337        109\n",
              "3                  2824        136\n",
              "4                  2507        136"
            ],
            "text/html": [
              "\n",
              "  <div id=\"df-9925da74-0977-4961-9164-899447d95571\">\n",
              "    <div class=\"colab-df-container\">\n",
              "      <div>\n",
              "<style scoped>\n",
              "    .dataframe tbody tr th:only-of-type {\n",
              "        vertical-align: middle;\n",
              "    }\n",
              "\n",
              "    .dataframe tbody tr th {\n",
              "        vertical-align: top;\n",
              "    }\n",
              "\n",
              "    .dataframe thead th {\n",
              "        text-align: right;\n",
              "    }\n",
              "</style>\n",
              "<table border=\"1\" class=\"dataframe\">\n",
              "  <thead>\n",
              "    <tr style=\"text-align: right;\">\n",
              "      <th></th>\n",
              "      <th>POTÊNCIA_DA_FRENAGEM</th>\n",
              "      <th>TAM_MOTOR</th>\n",
              "    </tr>\n",
              "  </thead>\n",
              "  <tbody>\n",
              "    <tr>\n",
              "      <th>0</th>\n",
              "      <td>2548</td>\n",
              "      <td>130</td>\n",
              "    </tr>\n",
              "    <tr>\n",
              "      <th>1</th>\n",
              "      <td>2823</td>\n",
              "      <td>152</td>\n",
              "    </tr>\n",
              "    <tr>\n",
              "      <th>2</th>\n",
              "      <td>2337</td>\n",
              "      <td>109</td>\n",
              "    </tr>\n",
              "    <tr>\n",
              "      <th>3</th>\n",
              "      <td>2824</td>\n",
              "      <td>136</td>\n",
              "    </tr>\n",
              "    <tr>\n",
              "      <th>4</th>\n",
              "      <td>2507</td>\n",
              "      <td>136</td>\n",
              "    </tr>\n",
              "  </tbody>\n",
              "</table>\n",
              "</div>\n",
              "      <button class=\"colab-df-convert\" onclick=\"convertToInteractive('df-9925da74-0977-4961-9164-899447d95571')\"\n",
              "              title=\"Convert this dataframe to an interactive table.\"\n",
              "              style=\"display:none;\">\n",
              "        \n",
              "  <svg xmlns=\"http://www.w3.org/2000/svg\" height=\"24px\"viewBox=\"0 0 24 24\"\n",
              "       width=\"24px\">\n",
              "    <path d=\"M0 0h24v24H0V0z\" fill=\"none\"/>\n",
              "    <path d=\"M18.56 5.44l.94 2.06.94-2.06 2.06-.94-2.06-.94-.94-2.06-.94 2.06-2.06.94zm-11 1L8.5 8.5l.94-2.06 2.06-.94-2.06-.94L8.5 2.5l-.94 2.06-2.06.94zm10 10l.94 2.06.94-2.06 2.06-.94-2.06-.94-.94-2.06-.94 2.06-2.06.94z\"/><path d=\"M17.41 7.96l-1.37-1.37c-.4-.4-.92-.59-1.43-.59-.52 0-1.04.2-1.43.59L10.3 9.45l-7.72 7.72c-.78.78-.78 2.05 0 2.83L4 21.41c.39.39.9.59 1.41.59.51 0 1.02-.2 1.41-.59l7.78-7.78 2.81-2.81c.8-.78.8-2.07 0-2.86zM5.41 20L4 18.59l7.72-7.72 1.47 1.35L5.41 20z\"/>\n",
              "  </svg>\n",
              "      </button>\n",
              "      \n",
              "  <style>\n",
              "    .colab-df-container {\n",
              "      display:flex;\n",
              "      flex-wrap:wrap;\n",
              "      gap: 12px;\n",
              "    }\n",
              "\n",
              "    .colab-df-convert {\n",
              "      background-color: #E8F0FE;\n",
              "      border: none;\n",
              "      border-radius: 50%;\n",
              "      cursor: pointer;\n",
              "      display: none;\n",
              "      fill: #1967D2;\n",
              "      height: 32px;\n",
              "      padding: 0 0 0 0;\n",
              "      width: 32px;\n",
              "    }\n",
              "\n",
              "    .colab-df-convert:hover {\n",
              "      background-color: #E2EBFA;\n",
              "      box-shadow: 0px 1px 2px rgba(60, 64, 67, 0.3), 0px 1px 3px 1px rgba(60, 64, 67, 0.15);\n",
              "      fill: #174EA6;\n",
              "    }\n",
              "\n",
              "    [theme=dark] .colab-df-convert {\n",
              "      background-color: #3B4455;\n",
              "      fill: #D2E3FC;\n",
              "    }\n",
              "\n",
              "    [theme=dark] .colab-df-convert:hover {\n",
              "      background-color: #434B5C;\n",
              "      box-shadow: 0px 1px 3px 1px rgba(0, 0, 0, 0.15);\n",
              "      filter: drop-shadow(0px 1px 2px rgba(0, 0, 0, 0.3));\n",
              "      fill: #FFFFFF;\n",
              "    }\n",
              "  </style>\n",
              "\n",
              "      <script>\n",
              "        const buttonEl =\n",
              "          document.querySelector('#df-9925da74-0977-4961-9164-899447d95571 button.colab-df-convert');\n",
              "        buttonEl.style.display =\n",
              "          google.colab.kernel.accessAllowed ? 'block' : 'none';\n",
              "\n",
              "        async function convertToInteractive(key) {\n",
              "          const element = document.querySelector('#df-9925da74-0977-4961-9164-899447d95571');\n",
              "          const dataTable =\n",
              "            await google.colab.kernel.invokeFunction('convertToInteractive',\n",
              "                                                     [key], {});\n",
              "          if (!dataTable) return;\n",
              "\n",
              "          const docLinkHtml = 'Like what you see? Visit the ' +\n",
              "            '<a target=\"_blank\" href=https://colab.research.google.com/notebooks/data_table.ipynb>data table notebook</a>'\n",
              "            + ' to learn more about interactive tables.';\n",
              "          element.innerHTML = '';\n",
              "          dataTable['output_type'] = 'display_data';\n",
              "          await google.colab.output.renderOutput(dataTable, element);\n",
              "          const docLink = document.createElement('div');\n",
              "          docLink.innerHTML = docLinkHtml;\n",
              "          element.appendChild(docLink);\n",
              "        }\n",
              "      </script>\n",
              "    </div>\n",
              "  </div>\n",
              "  "
            ],
            "application/vnd.google.colaboratory.module+javascript": "\n      import \"https://ssl.gstatic.com/colaboratory/data_table/f872b2c2305463fd/data_table.js\";\n\n      window.createDataTable({\n        data: [[{\n            'v': 0,\n            'f': \"0\",\n        },\n{\n            'v': 2548,\n            'f': \"2548\",\n        },\n{\n            'v': 130,\n            'f': \"130\",\n        }],\n [{\n            'v': 1,\n            'f': \"1\",\n        },\n{\n            'v': 2823,\n            'f': \"2823\",\n        },\n{\n            'v': 152,\n            'f': \"152\",\n        }],\n [{\n            'v': 2,\n            'f': \"2\",\n        },\n{\n            'v': 2337,\n            'f': \"2337\",\n        },\n{\n            'v': 109,\n            'f': \"109\",\n        }],\n [{\n            'v': 3,\n            'f': \"3\",\n        },\n{\n            'v': 2824,\n            'f': \"2824\",\n        },\n{\n            'v': 136,\n            'f': \"136\",\n        }],\n [{\n            'v': 4,\n            'f': \"4\",\n        },\n{\n            'v': 2507,\n            'f': \"2507\",\n        },\n{\n            'v': 136,\n            'f': \"136\",\n        }]],\n        columns: [[\"number\", \"index\"], [\"number\", \"POT\\u00caNCIA_DA_FRENAGEM\"], [\"number\", \"TAM_MOTOR\"]],\n        columnOptions: [{\"width\": \"1px\", \"className\": \"index_column\"}],\n        rowsPerPage: 25,\n        helpUrl: \"https://colab.research.google.com/notebooks/data_table.ipynb\",\n        suppressOutputScrolling: true,\n        minimumWidth: undefined,\n      });\n    "
          },
          "metadata": {},
          "execution_count": 116
        }
      ]
    },
    {
      "cell_type": "code",
      "source": [
        "X = df\n",
        "y = df.TAM_MOTOR"
      ],
      "metadata": {
        "id": "SjQJuVEMDKIT"
      },
      "execution_count": null,
      "outputs": []
    },
    {
      "cell_type": "markdown",
      "source": [
        "#**GRÁFICO DO COTOVELO**"
      ],
      "metadata": {
        "id": "BZ7zI_MoswmT"
      }
    },
    {
      "cell_type": "code",
      "source": [
        "clusters = range(1,10)\n",
        "sum_of_squared_distances = []\n",
        "\n",
        "for k in clusters:\n",
        "  model = KMeans(n_clusters=k).fit(X)\n",
        "  sum_of_squared_distances.append(model.inertia_)\n",
        "\n",
        "plt.plot(clusters, sum_of_squared_distances, \"x-\")\n",
        "plt.xlabel(\"Clusters\")\n",
        "plt.ylabel(\"Sum of Squared Distances\")\n",
        "plt.title(\"Método de Elbow / Gráfico do cotovelo\")\n",
        "plt.show()"
      ],
      "metadata": {
        "colab": {
          "base_uri": "https://localhost:8080/",
          "height": 294
        },
        "id": "jjvg-5WeEByD",
        "outputId": "bd674d88-eaad-4aa4-84c4-3c387466bb0a"
      },
      "execution_count": null,
      "outputs": [
        {
          "output_type": "display_data",
          "data": {
            "text/plain": [
              "<Figure size 432x288 with 1 Axes>"
            ],
            "image/png": "[encoded data removed]"
          },
          "metadata": {
            "needs_background": "light"
          }
        }
      ]
    },
    {
      "cell_type": "code",
      "source": [
        "for cluster, wcss in enumerate(sum_of_squared_distances):\n",
        "    print(f'{cluster+1} - {wcss}')"
      ],
      "metadata": {
        "colab": {
          "base_uri": "https://localhost:8080/"
        },
        "id": "WEG9EyEbbRVY",
        "outputId": "75534db8-662f-4edd-b052-306967c49adf"
      },
      "execution_count": null,
      "outputs": [
        {
          "output_type": "stream",
          "name": "stdout",
          "text": [
            "1 - 55659698.46568626\n",
            "2 - 16135717.518217407\n",
            "3 - 9352074.577656658\n",
            "4 - 4594688.578978085\n",
            "5 - 2854201.5870484663\n",
            "6 - 2157797.5431000534\n",
            "7 - 1545733.1802049936\n",
            "8 - 1302212.7366713185\n",
            "9 - 1097533.32213962\n"
          ]
        }
      ]
    },
    {
      "cell_type": "code",
      "source": [
        "fig, axes = plt.subplots(2,2, figsize=(12,8))\n",
        "axes = axes.reshape(4)\n",
        "\n",
        "for i, k in enumerate(range(2,6)):\n",
        "  ax = axes[i]\n",
        "  sil = SilhouetteVisualizer(\n",
        "      KMeans(n_clusters=k, random_state=42),\n",
        "      ax=ax,\n",
        "        )\n",
        "  sil.fit(X)\n",
        "  sil.finalize()\n",
        "  ax.set_xlim(-0.2, 0.8)\n",
        "\n",
        "plt.tight_layout"
      ],
      "metadata": {
        "colab": {
          "base_uri": "https://localhost:8080/",
          "height": 515
        },
        "id": "Y3myqpL6WAFM",
        "outputId": "e943cd45-21ec-47e3-9b37-8c22106c292f"
      },
      "execution_count": null,
      "outputs": [
        {
          "output_type": "execute_result",
          "data": {
            "text/plain": [
              "<function matplotlib.pyplot.tight_layout>"
            ]
          },
          "metadata": {},
          "execution_count": 129
        },
        {
          "output_type": "display_data",
          "data": {
            "text/plain": [
              "<Figure size 864x576 with 4 Axes>"
            ],
            "image/png": "[encoded data removed]"
          },
          "metadata": {
            "needs_background": "light"
          }
        }
      ]
    },
    {
      "cell_type": "code",
      "source": [
        "df_kmeans = KMeans(n_clusters=4)"
      ],
      "metadata": {
        "id": "0hAVpPEYYAl6"
      },
      "execution_count": null,
      "outputs": []
    },
    {
      "cell_type": "code",
      "source": [
        "df_kmeans.fit(X)"
      ],
      "metadata": {
        "colab": {
          "base_uri": "https://localhost:8080/"
        },
        "id": "XkdQfMyYYR6S",
        "outputId": "3abc2391-636e-40c8-e59e-b15b93560f77"
      },
      "execution_count": null,
      "outputs": [
        {
          "output_type": "execute_result",
          "data": {
            "text/plain": [
              "KMeans(n_clusters=4)"
            ]
          },
          "metadata": {},
          "execution_count": 133
        }
      ]
    },
    {
      "cell_type": "code",
      "source": [
        "labels = df_kmeans.predict(X)\n",
        "print(labels)"
      ],
      "metadata": {
        "colab": {
          "base_uri": "https://localhost:8080/"
        },
        "id": "cukNXYx2YG8A",
        "outputId": "c917544b-db91-4622-e6a3-9dee7d3f13e8"
      },
      "execution_count": null,
      "outputs": [
        {
          "output_type": "stream",
          "name": "stdout",
          "text": [
            "[1 2 1 2 1 2 2 2 2 1 1 2 2 2 2 0 0 3 3 3 3 3 3 3 3 3 1 1 2 3 3 3 3 3 3 3 1\n",
            " 1 1 1 1 1 1 3 3 2 0 0 0 3 3 3 3 3 1 1 1 1 1 1 1 1 1 1 1 2 0 0 0 0 0 0 0 0\n",
            " 2 3 3 3 3 1 1 2 2 2 1 1 1 1 3 3 3 3 3 3 3 3 3 3 1 1 2 2 2 2 2 2 2 2 2 0 2\n",
            " 2 2 0 2 2 2 3 3 3 3 1 1 2 2 2 2 2 0 1 1 1 2 2 2 2 2 3 3 1 3 1 1 1 1 1 1 1\n",
            " 1 3 3 3 1 1 2 3 3 1 1 3 3 3 3 1 1 1 1 1 1 1 2 2 1 1 1 1 1 2 2 2 2 1 1 1 1\n",
            " 1 1 1 1 1 1 1 1 2 2 2 2 2 2 2 2 2 2 2]\n"
          ]
        }
      ]
    },
    {
      "cell_type": "code",
      "source": [
        "centroids = df_kmeans.cluster_centers_\n",
        "centroids\n"
      ],
      "metadata": {
        "colab": {
          "base_uri": "https://localhost:8080/"
        },
        "id": "E10nyS9mZGEu",
        "outputId": "a9c2c8b4-c7e2-4bee-b5e8-5b947b6300db"
      },
      "execution_count": null,
      "outputs": [
        {
          "output_type": "execute_result",
          "data": {
            "text/plain": [
              "array([[3676.125     ,  223.6875    ],\n",
              "       [2389.13333333,  112.32      ],\n",
              "       [2978.46666667,  148.88333333],\n",
              "       [1974.18867925,   93.39622642]])"
            ]
          },
          "metadata": {},
          "execution_count": 139
        }
      ]
    },
    {
      "cell_type": "code",
      "source": [
        "s = metrics.silhouette_score(X,labels, metric=\"euclidean\")\n",
        "print(f\"Silhouette Coefficient for the Dataset Clusters: {s:.2f}\")"
      ],
      "metadata": {
        "colab": {
          "base_uri": "https://localhost:8080/"
        },
        "id": "lig0oP8JZLzg",
        "outputId": "390ad2ba-fd88-4440-cf27-bd899a14c4cc"
      },
      "execution_count": null,
      "outputs": [
        {
          "output_type": "stream",
          "name": "stdout",
          "text": [
            "Silhouette Coefficient for the Dataset Clusters: 0.59\n"
          ]
        }
      ]
    },
    {
      "cell_type": "code",
      "source": [
        "X = df"
      ],
      "metadata": {
        "id": "gHejUmi9crX0"
      },
      "execution_count": null,
      "outputs": []
    },
    {
      "cell_type": "markdown",
      "source": [
        "#**Treinamento do k-means**"
      ],
      "metadata": {
        "id": "YbZUx5JAjaYX"
      }
    },
    {
      "cell_type": "code",
      "source": [
        "#training the K-means model on a dataset  \n",
        "kmeans = KMeans(n_clusters=4, init='k-means++', random_state= 42)  \n",
        "y_predict= kmeans.fit_predict(X)  "
      ],
      "metadata": {
        "id": "-ezQqwmFbRSi"
      },
      "execution_count": null,
      "outputs": []
    },
    {
      "cell_type": "code",
      "source": [
        "from IPython.core.pylabtools import figsize\n",
        "#visulaizing the clusters  \n",
        "plt.scatter(X[y_predict == 0]['POTÊNCIA_DA_FRENAGEM'], X[y_predict == 0]['TAM_MOTOR'],  c = 'blue', label = 'Cluster 1')   \n",
        "plt.scatter(X[y_predict == 1]['POTÊNCIA_DA_FRENAGEM'], X[y_predict == 1]['TAM_MOTOR'],  c = 'green', label = 'Cluster 2')   \n",
        "plt.scatter(X[y_predict == 2]['POTÊNCIA_DA_FRENAGEM'], X[y_predict == 2]['TAM_MOTOR'],  label = 'Cluster 3') \n",
        "plt.scatter(X[y_predict == 3]['POTÊNCIA_DA_FRENAGEM'], X[y_predict == 3]['TAM_MOTOR'],  label = 'Cluster 4')\n",
        " \n",
        "\n",
        "\n",
        "\n",
        "plt.scatter(kmeans.cluster_centers_[:, 0], kmeans.cluster_centers_[:, 1], s = 300, c = 'yellow', label = 'Centroid')   \n",
        "\n",
        "plt.title('CARRO')  \n",
        "plt.xlabel('TAMANHO DO MOTOR')  \n",
        "plt.ylabel('POTÊNCIA NA FRENAGEM')  \n",
        "plt.legend()  \n",
        "plt.show()\n",
        "\n"
      ],
      "metadata": {
        "colab": {
          "base_uri": "https://localhost:8080/",
          "height": 294
        },
        "id": "C5_7QoOPbRQA",
        "outputId": "a7b9bf6e-4507-4224-d640-1449c17e8554"
      },
      "execution_count": null,
      "outputs": [
        {
          "output_type": "display_data",
          "data": {
            "text/plain": [
              "<Figure size 432x288 with 1 Axes>"
            ],
            "image/png": "[encoded data removed]"
          },
          "metadata": {
            "needs_background": "light"
          }
        }
      ]
    },
    {
      "cell_type": "code",
      "source": [
        ""
      ],
      "metadata": {
        "id": "nyzCloQK9MKT"
      },
      "execution_count": null,
      "outputs": []
    },
    {
      "cell_type": "markdown",
      "source": [
        "#**DBSCAN**"
      ],
      "metadata": {
        "id": "ulvV3ch_gcxh"
      }
    },
    {
      "cell_type": "code",
      "source": [
        "from sklearn.cluster import DBSCAN"
      ],
      "metadata": {
        "id": "NBqwMjhrgb5V"
      },
      "execution_count": null,
      "outputs": []
    },
    {
      "cell_type": "markdown",
      "source": [
        "#**Aqui foi decidido colocar a quantidade mínimas de pontos como 3 para ser considerado cluster, pois os pontos da gente eram muito distantes um do outro.**"
      ],
      "metadata": {
        "id": "E-pBnn5ynJ_M"
      }
    },
    {
      "cell_type": "code",
      "source": [
        "df_dbscan = DBSCAN(eps=0.5, min_samples=3)"
      ],
      "metadata": {
        "id": "CJynrq8Egi2l"
      },
      "execution_count": null,
      "outputs": []
    },
    {
      "cell_type": "code",
      "source": [
        "df_dbscan.fit(X)"
      ],
      "metadata": {
        "colab": {
          "base_uri": "https://localhost:8080/"
        },
        "id": "2tdMwhiVg1Fs",
        "outputId": "ae2580eb-4128-4c28-9ef6-765f8b21e2af"
      },
      "execution_count": null,
      "outputs": [
        {
          "output_type": "execute_result",
          "data": {
            "text/plain": [
              "DBSCAN(min_samples=3)"
            ]
          },
          "metadata": {},
          "execution_count": 227
        }
      ]
    },
    {
      "cell_type": "code",
      "source": [
        "labels = df_dbscan.labels_"
      ],
      "metadata": {
        "id": "4up5wiLEg3w0"
      },
      "execution_count": null,
      "outputs": []
    },
    {
      "cell_type": "code",
      "source": [
        "labels"
      ],
      "metadata": {
        "colab": {
          "base_uri": "https://localhost:8080/"
        },
        "id": "8NYl1icHg7Vt",
        "outputId": "b7ce0d71-717c-4b43-f49c-2a4f5caa754e"
      },
      "execution_count": null,
      "outputs": [
        {
          "output_type": "execute_result",
          "data": {
            "text/plain": [
              "array([-1, -1, -1, -1, -1, -1, -1, -1, -1, -1, -1, -1, -1, -1, -1, -1, -1,\n",
              "       -1, -1, -1, -1, -1, -1, -1,  0,  0, -1, -1, -1, -1, -1, -1, -1, -1,\n",
              "       -1, -1, -1, -1, -1, -1, -1, -1, -1, -1, -1, -1, -1, -1, -1, -1, -1,\n",
              "       -1, -1, -1, -1, -1,  1, -1,  1, -1,  1, -1, -1, -1, -1, -1, -1, -1,\n",
              "       -1, -1, -1, -1, -1, -1, -1,  2, -1, -1, -1, -1, -1, -1, -1, -1, -1,\n",
              "       -1, -1, -1, -1, -1,  2, -1, -1, -1, -1, -1, -1, -1, -1, -1, -1, -1,\n",
              "       -1, -1, -1, -1, -1, -1, -1, -1, -1, -1, -1, -1, -1, -1, -1,  2, -1,\n",
              "       -1,  0, -1, -1, -1, -1, -1, -1, -1, -1, -1, -1, -1, -1, -1, -1, -1,\n",
              "       -1, -1, -1, -1, -1, -1, -1,  1, -1, -1, -1, -1, -1, -1, -1, -1, -1,\n",
              "       -1, -1, -1, -1,  3,  3, -1, -1, -1, -1, -1, -1, -1, -1, -1, -1, -1,\n",
              "       -1, -1, -1, -1, -1, -1, -1, -1, -1, -1, -1, -1, -1, -1, -1,  3, -1,\n",
              "       -1, -1, -1, -1, -1, -1, -1, -1, -1, -1, -1, -1, -1, -1, -1, -1, -1])"
            ]
          },
          "metadata": {},
          "execution_count": 229
        }
      ]
    },
    {
      "cell_type": "code",
      "source": [
        "set(labels)"
      ],
      "metadata": {
        "colab": {
          "base_uri": "https://localhost:8080/"
        },
        "id": "0c-XCQrLg8kU",
        "outputId": "92d14eb8-4d53-4d16-9701-6578174c8ab4"
      },
      "execution_count": null,
      "outputs": [
        {
          "output_type": "execute_result",
          "data": {
            "text/plain": [
              "{-1, 0, 1, 2, 3}"
            ]
          },
          "metadata": {},
          "execution_count": 230
        }
      ]
    },
    {
      "cell_type": "code",
      "source": [
        "core_samples_mask = np.zeros_like(labels, dtype=bool)\n",
        "core_samples_mask"
      ],
      "metadata": {
        "colab": {
          "base_uri": "https://localhost:8080/"
        },
        "id": "7gY2pUJYhIIV",
        "outputId": "6e3149da-fa2a-4a60-b1f7-6b06d1499ae4"
      },
      "execution_count": null,
      "outputs": [
        {
          "output_type": "execute_result",
          "data": {
            "text/plain": [
              "array([False, False, False, False, False, False, False, False, False,\n",
              "       False, False, False, False, False, False, False, False, False,\n",
              "       False, False, False, False, False, False, False, False, False,\n",
              "       False, False, False, False, False, False, False, False, False,\n",
              "       False, False, False, False, False, False, False, False, False,\n",
              "       False, False, False, False, False, False, False, False, False,\n",
              "       False, False, False, False, False, False, False, False, False,\n",
              "       False, False, False, False, False, False, False, False, False,\n",
              "       False, False, False, False, False, False, False, False, False,\n",
              "       False, False, False, False, False, False, False, False, False,\n",
              "       False, False, False, False, False, False, False, False, False,\n",
              "       False, False, False, False, False, False, False, False, False,\n",
              "       False, False, False, False, False, False, False, False, False,\n",
              "       False, False, False, False, False, False, False, False, False,\n",
              "       False, False, False, False, False, False, False, False, False,\n",
              "       False, False, False, False, False, False, False, False, False,\n",
              "       False, False, False, False, False, False, False, False, False,\n",
              "       False, False, False, False, False, False, False, False, False,\n",
              "       False, False, False, False, False, False, False, False, False,\n",
              "       False, False, False, False, False, False, False, False, False,\n",
              "       False, False, False, False, False, False, False, False, False,\n",
              "       False, False, False, False, False, False, False, False, False,\n",
              "       False, False, False, False, False, False])"
            ]
          },
          "metadata": {},
          "execution_count": 231
        }
      ]
    },
    {
      "cell_type": "code",
      "source": [
        "core_samples_mask[df_dbscan.core_sample_indices_] = True\n",
        "core_samples_mask"
      ],
      "metadata": {
        "colab": {
          "base_uri": "https://localhost:8080/"
        },
        "id": "Y4GkUxmwhVDT",
        "outputId": "be874fff-6103-45e3-eb7c-01ef00835b39"
      },
      "execution_count": null,
      "outputs": [
        {
          "output_type": "execute_result",
          "data": {
            "text/plain": [
              "array([False, False, False, False, False, False, False, False, False,\n",
              "       False, False, False, False, False, False, False, False, False,\n",
              "       False, False, False, False, False, False,  True,  True, False,\n",
              "       False, False, False, False, False, False, False, False, False,\n",
              "       False, False, False, False, False, False, False, False, False,\n",
              "       False, False, False, False, False, False, False, False, False,\n",
              "       False, False,  True, False,  True, False,  True, False, False,\n",
              "       False, False, False, False, False, False, False, False, False,\n",
              "       False, False, False,  True, False, False, False, False, False,\n",
              "       False, False, False, False, False, False, False, False, False,\n",
              "        True, False, False, False, False, False, False, False, False,\n",
              "       False, False, False, False, False, False, False, False, False,\n",
              "       False, False, False, False, False, False, False, False, False,\n",
              "        True, False, False,  True, False, False, False, False, False,\n",
              "       False, False, False, False, False, False, False, False, False,\n",
              "       False, False, False, False, False, False, False, False,  True,\n",
              "       False, False, False, False, False, False, False, False, False,\n",
              "       False, False, False, False,  True,  True, False, False, False,\n",
              "       False, False, False, False, False, False, False, False, False,\n",
              "       False, False, False, False, False, False, False, False, False,\n",
              "       False, False, False, False, False,  True, False, False, False,\n",
              "       False, False, False, False, False, False, False, False, False,\n",
              "       False, False, False, False, False, False])"
            ]
          },
          "metadata": {},
          "execution_count": 232
        }
      ]
    },
    {
      "cell_type": "code",
      "source": [
        "n_clusters = len(set(labels)) - (1 if -1 in labels else 0)\n",
        "n_noise = list(labels).count(-1)"
      ],
      "metadata": {
        "id": "dRVFiQfMhn_q"
      },
      "execution_count": null,
      "outputs": []
    },
    {
      "cell_type": "code",
      "source": [
        "print(f\"Número estimado de clusters : {n_clusters}\")\n",
        "print(f\"Número estmiado de outliers: {n_noise}\")"
      ],
      "metadata": {
        "colab": {
          "base_uri": "https://localhost:8080/"
        },
        "id": "UiTtQp9iisNw",
        "outputId": "7e61a49f-6265-4db6-8367-950b7dfab74a"
      },
      "execution_count": null,
      "outputs": [
        {
          "output_type": "stream",
          "name": "stdout",
          "text": [
            "Número estimado de clusters : 4\n",
            "Número estmiado de outliers: 191\n"
          ]
        }
      ]
    },
    {
      "cell_type": "code",
      "source": [
        "s = metrics.silhouette_score(X, df_dbscan.labels_)"
      ],
      "metadata": {
        "id": "i-3uxyuijAzz"
      },
      "execution_count": null,
      "outputs": []
    },
    {
      "cell_type": "code",
      "source": [
        "print(f\"Coeficiente de Silhouette for the Dataset Clusters: {s:.2f}\")"
      ],
      "metadata": {
        "colab": {
          "base_uri": "https://localhost:8080/"
        },
        "id": "HRCnZ-nTjIXc",
        "outputId": "0cfbe0ff-433b-4ac8-f077-d7bb8f3ea6e4"
      },
      "execution_count": null,
      "outputs": [
        {
          "output_type": "stream",
          "name": "stdout",
          "text": [
            "Coeficiente de Silhouette for the Dataset Clusters: -0.41\n"
          ]
        }
      ]
    },
    {
      "cell_type": "markdown",
      "source": [
        "#**A partir desse ponto não conseguimos prosseguir por conta do erro de coluna, as colunas não estão sendo identificadas.**"
      ],
      "metadata": {
        "id": "JpbnNRStmyOU"
      }
    },
    {
      "cell_type": "code",
      "source": [
        "unique_labels = set(labels)\n",
        "colors = plt.cm.Spectral(np.linspace(0, 1, len(unique_labels)))\n",
        "for k, col in zip(unique_labels, colors):\n",
        "  if k == 1:\n",
        "    col = \"k\"\n",
        "\n",
        "  class_member_mask = (labels == k)\n",
        "  xy = X[class_member_mask & core_samples_mask]\n",
        "  plt.plot(xy[:, 0], xy[:, 1], \"o\", markerfacecolor=col,\n",
        "  markeredgecolor=\"k\", markersize='0')\n",
        "  xy = X[class_member_mask & -core_samples_mask]\n",
        "  plt.plot(xy[:, 0], xy[:, 1], \"o\", markerfacecolor=col,\n",
        "  markeredgecolor=\"k\", markersize=5)\n",
        "plt.title(\"Número estimados de Clusters: %d\" % n_clusters)\n",
        "plt.show()"
      ],
      "metadata": {
        "colab": {
          "base_uri": "https://localhost:8080/",
          "height": 323
        },
        "id": "R5i86sEIjPur",
        "outputId": "d7888288-6037-4751-8514-356911bbf32d"
      },
      "execution_count": null,
      "outputs": [
        {
          "output_type": "error",
          "ename": "TypeError",
          "evalue": "ignored",
          "traceback": [
            "\u001b[0;31m---------------------------------------------------------------------------\u001b[0m",
            "\u001b[0;31mTypeError\u001b[0m                                 Traceback (most recent call last)",
            "\u001b[0;32m<ipython-input-244-473b18acc029>\u001b[0m in \u001b[0;36m<module>\u001b[0;34m()\u001b[0m\n\u001b[1;32m      7\u001b[0m   \u001b[0mclass_member_mask\u001b[0m \u001b[0;34m=\u001b[0m \u001b[0;34m(\u001b[0m\u001b[0mlabels\u001b[0m \u001b[0;34m==\u001b[0m \u001b[0mk\u001b[0m\u001b[0;34m)\u001b[0m\u001b[0;34m\u001b[0m\u001b[0;34m\u001b[0m\u001b[0m\n\u001b[1;32m      8\u001b[0m   \u001b[0mxy\u001b[0m \u001b[0;34m=\u001b[0m \u001b[0mX\u001b[0m\u001b[0;34m[\u001b[0m\u001b[0mclass_member_mask\u001b[0m \u001b[0;34m&\u001b[0m \u001b[0mcore_samples_mask\u001b[0m\u001b[0;34m]\u001b[0m\u001b[0;34m\u001b[0m\u001b[0;34m\u001b[0m\u001b[0m\n\u001b[0;32m----> 9\u001b[0;31m   plt.plot(xy[:, 0], xy[:, 1], \"o\", markerfacecolor=col,\n\u001b[0m\u001b[1;32m     10\u001b[0m   markeredgecolor=\"k\", markersize='0')\n\u001b[1;32m     11\u001b[0m   \u001b[0mxy\u001b[0m \u001b[0;34m=\u001b[0m \u001b[0mX\u001b[0m\u001b[0;34m[\u001b[0m\u001b[0mclass_member_mask\u001b[0m \u001b[0;34m&\u001b[0m \u001b[0;34m-\u001b[0m\u001b[0mcore_samples_mask\u001b[0m\u001b[0;34m]\u001b[0m\u001b[0;34m\u001b[0m\u001b[0;34m\u001b[0m\u001b[0m\n",
            "\u001b[0;32m/usr/local/lib/python3.7/dist-packages/pandas/core/frame.py\u001b[0m in \u001b[0;36m__getitem__\u001b[0;34m(self, key)\u001b[0m\n\u001b[1;32m   3456\u001b[0m             \u001b[0;32mif\u001b[0m \u001b[0mself\u001b[0m\u001b[0;34m.\u001b[0m\u001b[0mcolumns\u001b[0m\u001b[0;34m.\u001b[0m\u001b[0mnlevels\u001b[0m \u001b[0;34m>\u001b[0m \u001b[0;36m1\u001b[0m\u001b[0;34m:\u001b[0m\u001b[0;34m\u001b[0m\u001b[0;34m\u001b[0m\u001b[0m\n\u001b[1;32m   3457\u001b[0m                 \u001b[0;32mreturn\u001b[0m \u001b[0mself\u001b[0m\u001b[0;34m.\u001b[0m\u001b[0m_getitem_multilevel\u001b[0m\u001b[0;34m(\u001b[0m\u001b[0mkey\u001b[0m\u001b[0;34m)\u001b[0m\u001b[0;34m\u001b[0m\u001b[0;34m\u001b[0m\u001b[0m\n\u001b[0;32m-> 3458\u001b[0;31m             \u001b[0mindexer\u001b[0m \u001b[0;34m=\u001b[0m \u001b[0mself\u001b[0m\u001b[0;34m.\u001b[0m\u001b[0mcolumns\u001b[0m\u001b[0;34m.\u001b[0m\u001b[0mget_loc\u001b[0m\u001b[0;34m(\u001b[0m\u001b[0mkey\u001b[0m\u001b[0;34m)\u001b[0m\u001b[0;34m\u001b[0m\u001b[0;34m\u001b[0m\u001b[0m\n\u001b[0m\u001b[1;32m   3459\u001b[0m             \u001b[0;32mif\u001b[0m \u001b[0mis_integer\u001b[0m\u001b[0;34m(\u001b[0m\u001b[0mindexer\u001b[0m\u001b[0;34m)\u001b[0m\u001b[0;34m:\u001b[0m\u001b[0;34m\u001b[0m\u001b[0;34m\u001b[0m\u001b[0m\n\u001b[1;32m   3460\u001b[0m                 \u001b[0mindexer\u001b[0m \u001b[0;34m=\u001b[0m \u001b[0;34m[\u001b[0m\u001b[0mindexer\u001b[0m\u001b[0;34m]\u001b[0m\u001b[0;34m\u001b[0m\u001b[0;34m\u001b[0m\u001b[0m\n",
            "\u001b[0;32m/usr/local/lib/python3.7/dist-packages/pandas/core/indexes/base.py\u001b[0m in \u001b[0;36mget_loc\u001b[0;34m(self, key, method, tolerance)\u001b[0m\n\u001b[1;32m   3359\u001b[0m             \u001b[0mcasted_key\u001b[0m \u001b[0;34m=\u001b[0m \u001b[0mself\u001b[0m\u001b[0;34m.\u001b[0m\u001b[0m_maybe_cast_indexer\u001b[0m\u001b[0;34m(\u001b[0m\u001b[0mkey\u001b[0m\u001b[0;34m)\u001b[0m\u001b[0;34m\u001b[0m\u001b[0;34m\u001b[0m\u001b[0m\n\u001b[1;32m   3360\u001b[0m             \u001b[0;32mtry\u001b[0m\u001b[0;34m:\u001b[0m\u001b[0;34m\u001b[0m\u001b[0;34m\u001b[0m\u001b[0m\n\u001b[0;32m-> 3361\u001b[0;31m                 \u001b[0;32mreturn\u001b[0m \u001b[0mself\u001b[0m\u001b[0;34m.\u001b[0m\u001b[0m_engine\u001b[0m\u001b[0;34m.\u001b[0m\u001b[0mget_loc\u001b[0m\u001b[0;34m(\u001b[0m\u001b[0mcasted_key\u001b[0m\u001b[0;34m)\u001b[0m\u001b[0;34m\u001b[0m\u001b[0;34m\u001b[0m\u001b[0m\n\u001b[0m\u001b[1;32m   3362\u001b[0m             \u001b[0;32mexcept\u001b[0m \u001b[0mKeyError\u001b[0m \u001b[0;32mas\u001b[0m \u001b[0merr\u001b[0m\u001b[0;34m:\u001b[0m\u001b[0;34m\u001b[0m\u001b[0;34m\u001b[0m\u001b[0m\n\u001b[1;32m   3363\u001b[0m                 \u001b[0;32mraise\u001b[0m \u001b[0mKeyError\u001b[0m\u001b[0;34m(\u001b[0m\u001b[0mkey\u001b[0m\u001b[0;34m)\u001b[0m \u001b[0;32mfrom\u001b[0m \u001b[0merr\u001b[0m\u001b[0;34m\u001b[0m\u001b[0;34m\u001b[0m\u001b[0m\n",
            "\u001b[0;32m/usr/local/lib/python3.7/dist-packages/pandas/_libs/index.pyx\u001b[0m in \u001b[0;36mpandas._libs.index.IndexEngine.get_loc\u001b[0;34m()\u001b[0m\n",
            "\u001b[0;32m/usr/local/lib/python3.7/dist-packages/pandas/_libs/index.pyx\u001b[0m in \u001b[0;36mpandas._libs.index.IndexEngine.get_loc\u001b[0;34m()\u001b[0m\n",
            "\u001b[0;31mTypeError\u001b[0m: '(slice(None, None, None), 0)' is an invalid key"
          ]
        }
      ]
    },
    {
      "cell_type": "code",
      "source": [
        ""
      ],
      "metadata": {
        "id": "yiKnVxVxmUs0"
      },
      "execution_count": null,
      "outputs": []
    }
  ]
}