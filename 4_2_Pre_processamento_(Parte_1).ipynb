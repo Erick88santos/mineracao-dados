{
  "nbformat": 4,
  "nbformat_minor": 0,
  "metadata": {
    "colab": {
      "name": "4.2 Pre-processamento (Parte 1)",
      "private_outputs": true,
      "provenance": [],
      "collapsed_sections": [],
      "authorship_tag": "ABX9TyNExUyah9A+os9AKAy1F/BY",
      "include_colab_link": true
    },
    "kernelspec": {
      "name": "python3",
      "display_name": "Python 3"
    },
    "language_info": {
      "name": "python"
    }
  },
  "cells": [
    {
      "cell_type": "markdown",
      "metadata": {
        "id": "view-in-github",
        "colab_type": "text"
      },
      "source": [
        "<a href=\"https://colab.research.google.com/github/rodrigoclira/mineracao-dados/blob/main/4_2_Pre_processamento_(Parte_1).ipynb\" target=\"_parent\"><img src=\"https://colab.research.google.com/assets/colab-badge.svg\" alt=\"Open In Colab\"/></a>"
      ]
    },
    {
      "cell_type": "markdown",
      "metadata": {
        "id": "ISJ3HOWk4VzZ"
      },
      "source": [
        "#Pré-processamento (Parte 1)\n"
      ]
    },
    {
      "cell_type": "markdown",
      "metadata": {
        "id": "ZlptMKkN8ClB"
      },
      "source": [
        "https://archive.ics.uci.edu/ml/datasets/breast+cancer+wisconsin+%28diagnostic%29"
      ]
    },
    {
      "cell_type": "code",
      "metadata": {
        "id": "cWaTtpVjyZso"
      },
      "source": [
        "import pandas as pd\n",
        "import numpy as np\n",
        "import seaborn as sns \n",
        "import matplotlib.pyplot as plt\n",
        "sns.set_style(\"whitegrid\")"
      ],
      "execution_count": null,
      "outputs": []
    },
    {
      "cell_type": "code",
      "metadata": {
        "id": "EpEEkokQznH5"
      },
      "source": [
        "dados = pd.read_csv('https://raw.githubusercontent.com/rodrigoclira/mineracao-dados/main/datasets/breast-cancer/breast_cancer.csv')"
      ],
      "execution_count": null,
      "outputs": []
    },
    {
      "cell_type": "code",
      "metadata": {
        "id": "Sr3OIx0h0G6g"
      },
      "source": [
        "dados.head()"
      ],
      "execution_count": null,
      "outputs": []
    },
    {
      "cell_type": "code",
      "metadata": {
        "id": "4Nx1IBhe8ERn"
      },
      "source": [
        "dados.describe()"
      ],
      "execution_count": null,
      "outputs": []
    },
    {
      "cell_type": "code",
      "metadata": {
        "id": "5jamZv-w8IgA"
      },
      "source": [
        "dados.shape"
      ],
      "execution_count": null,
      "outputs": []
    },
    {
      "cell_type": "markdown",
      "metadata": {
        "id": "Zi5Yao5e8bYs"
      },
      "source": [
        "## Eliminação manual de atributos"
      ]
    },
    {
      "cell_type": "code",
      "metadata": {
        "id": "YyYaCJ3q8Vss"
      },
      "source": [
        "# removendo a coluna sample_id, a qual nao eh necessaria\n",
        "# para realizar o diagnostico\n",
        "del dados['sample_id']"
      ],
      "execution_count": null,
      "outputs": []
    },
    {
      "cell_type": "markdown",
      "metadata": {
        "id": "Zfs7YQTx8eYV"
      },
      "source": [
        "## Amostragem"
      ]
    },
    {
      "cell_type": "markdown",
      "metadata": {
        "id": "m_nRHEo18-my"
      },
      "source": [
        "### Amostragens simples"
      ]
    },
    {
      "cell_type": "code",
      "metadata": {
        "id": "Tee1E-4I8g-2"
      },
      "source": [
        "# gerando uma amostra aleatoria simples de 100 elementos\n",
        "# da base breast cancer, sem reposicao (o objeto escolhido é removido do conjunto)\n",
        "dados.sample(100)"
      ],
      "execution_count": null,
      "outputs": []
    },
    {
      "cell_type": "code",
      "metadata": {
        "id": "oDAGV8MS8mCp"
      },
      "source": [
        "# gerando uma amostra aleatoria simples de 100 elementos\n",
        "# da base breast cancer, com reposicao (o objeto pode aparecer mais de uma vez)\n",
        "dados.sample(100, replace=True)"
      ],
      "execution_count": null,
      "outputs": []
    },
    {
      "cell_type": "markdown",
      "metadata": {
        "id": "bGSwrEh69CEi"
      },
      "source": [
        "### Amostragem Estratificada"
      ]
    },
    {
      "cell_type": "code",
      "metadata": {
        "id": "nbbP-Xnb-U4s"
      },
      "source": [
        "sns.histplot(dados['diagnosis'])"
      ],
      "execution_count": null,
      "outputs": []
    },
    {
      "cell_type": "markdown",
      "metadata": {
        "id": "gPJQEM_y-POp"
      },
      "source": [
        "O subconjunto a ser extraído contém a mesma quantidade de objetos para cada classe. "
      ]
    },
    {
      "cell_type": "code",
      "metadata": {
        "id": "EP5KMr4U9Ifp"
      },
      "source": [
        "# tamanho da amostra estratificada\n",
        "tamanho_amostra = 100\n",
        "# obtendo as classes da base de dados\n",
        "classes = dados['diagnosis'].unique()\n",
        "# calculando a quantidade de amostras por classe\n",
        "# neste exemplo, serao amostradas as mesmas\n",
        "# quantidades para cada classe\n",
        "qtde_por_classe = round(tamanho_amostra / len(classes))\n",
        "# nesta lista armazenaremos, para cada classe, um\n",
        "# pandas.DataFrame com suas amostras\n",
        "amostras_por_classe = []\n",
        "\n",
        "for c in classes:\n",
        "  # obtendo os indices do DataFrame\n",
        "  # cujas instancias pertencem a classe c\n",
        "  indices_c = dados['diagnosis'] == c\n",
        "  # extraindo do DataFrame original as observacoes da\n",
        "  # classe c (obs_c sera um DataFrame tambem)\n",
        "  obs_c = dados[indices_c]\n",
        "  # extraindo a amostra da classe c\n",
        "  # caso deseje-se realizar amostragem com reposicao\n",
        "  # ou caso len(obs_c) < qtde_por_classe, pode-se\n",
        "  # informar o parametro replace=True\n",
        "  amostra_c = obs_c.sample(qtde_por_classe)\n",
        "  # armazenando a amostra_c na lista de amostras\n",
        "  amostras_por_classe.append(amostra_c)\n",
        "  \n",
        "# concatenando as amostras de cada classe em\n",
        "# um único DataFrame\n",
        "amostra_estratificada = pd.concat(amostras_por_classe)"
      ],
      "execution_count": null,
      "outputs": []
    },
    {
      "cell_type": "code",
      "metadata": {
        "id": "3kc9ndCH9uho"
      },
      "source": [
        "amostra_estratificada"
      ],
      "execution_count": null,
      "outputs": []
    },
    {
      "cell_type": "code",
      "metadata": {
        "id": "P8vp6RqP92d6"
      },
      "source": [
        "sns.histplot(amostra_estratificada['diagnosis'])"
      ],
      "execution_count": null,
      "outputs": []
    },
    {
      "cell_type": "markdown",
      "metadata": {
        "id": "21gkbt1A-dEW"
      },
      "source": [
        "Na segunda abordagem, a amostra gerada do conjunto de dados original mantém\n",
        "as mesmas proporções de objetos da base de dados original em cada classe"
      ]
    },
    {
      "cell_type": "code",
      "metadata": {
        "id": "9URudf4q-gXG"
      },
      "source": [
        "# tamanho da amostra estratificada\n",
        "tamanho_amostra = 100\n",
        "# obtendo as classes da base de dados\n",
        "classes = dados['diagnosis'].unique()\n",
        "# nesta lista armazenaremos, para cada classe, um\n",
        "# pandas.DataFrame com suas amostras\n",
        "amostras_por_classe = []\n",
        "for c in classes:\n",
        "  # obtendo os indices do DataFrame\n",
        "  # cujas instancias pertencem a classe c\n",
        "  indices_c = dados['diagnosis'] == c\n",
        "  # extraindo do DataFrame original as observacoes da\n",
        "  # classe c (obs_c sera um DataFrame tambem)\n",
        "  obs_c = dados[indices_c]\n",
        "  # calculando a proporcao de elementos da classe c\n",
        "  # no DataFrame original\n",
        "  proporcao_c = len(obs_c) / len(dados)\n",
        "  # calculando a quantidade de elementos da classe\n",
        "  # c que estarao contidos na amostra estratificada\n",
        "  qtde_c = round(proporcao_c * tamanho_amostra)\n",
        "  # extraindo a amostra da classe c\n",
        "  # caso deseje-se realizar amostra com reposicao ou,\n",
        "  # caso len(obs_c) < qtde_c, pode-se\n",
        "  # informar o parametro replace=True\n",
        "  amostra_c = obs_c.sample(qtde_c)\n",
        "  # armazenando a amostra_c na lista de amostras\n",
        "  amostras_por_classe.append(amostra_c)\n",
        "  \n",
        "# concatenando as amostras de cada classe em\n",
        "# um único DataFrame\n",
        "amostra_estratificada = pd.concat(amostras_por_classe)"
      ],
      "execution_count": null,
      "outputs": []
    },
    {
      "cell_type": "code",
      "metadata": {
        "id": "PBpsN_0p-oYp"
      },
      "source": [
        "amostra_estratificada"
      ],
      "execution_count": null,
      "outputs": []
    },
    {
      "cell_type": "code",
      "metadata": {
        "id": "LVLUz20R-vEz"
      },
      "source": [
        "sns.histplot(amostra_estratificada['diagnosis'])"
      ],
      "execution_count": null,
      "outputs": []
    },
    {
      "cell_type": "markdown",
      "metadata": {
        "id": "GvxIcld3_JI6"
      },
      "source": [
        "https://scikit-learn.org/stable/modules/generated/sklearn.model_selection.train_test_split.html"
      ]
    }
  ]
}