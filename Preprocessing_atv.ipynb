{
  "cells": [
    {
      "cell_type": "markdown",
      "metadata": {
        "id": "view-in-github",
        "colab_type": "text"
      },
      "source": [
        "<a href=\"https://colab.research.google.com/github/rodrigoclira/mineracao-dados/blob/main/Preprocessing_atv.ipynb\" target=\"_parent\"><img src=\"https://colab.research.google.com/assets/colab-badge.svg\" alt=\"Open In Colab\"/></a>"
      ]
    },
    {
      "cell_type": "markdown",
      "metadata": {
        "id": "Iem_4I8etNIa"
      },
      "source": [
        "# Atividade Processamento de Dados\n",
        "\n",
        "O tutorial a seguir contém exemplos de Python para pré-processamento de dados. O pré-processamento de dados consiste em um amplo conjunto de técnicas para limpar, selecionar e transformar dados para melhorar a análise de mineração de dados. Leia atentamente as instruções passo a passo abaixo. Para executar o código, clique na célula correspondente e pressione as teclas SHIFT-ENTER simultaneamente."
      ]
    },
    {
      "cell_type": "markdown",
      "metadata": {
        "id": "lptzk2IktNIe"
      },
      "source": [
        "## Problemas de qualidade de dados\n",
        "\n",
        "A má qualidade dos dados pode ter um efeito adverso na mineração de dados. Entre os problemas comuns de qualidade de dados incluem ruído, valores discrepantes, valores ausentes e dados duplicados. Esta seção apresenta exemplos de código Python para aliviar alguns desses problemas de qualidade de dados. Começamos com um conjunto de dados de exemplo do repositório de aprendizado de máquina da UCI contendo informações sobre pacientes com câncer de mama. Primeiro faremos o download do conjunto de dados usando a função read_csv() do Pandas e exibiremos uma amostra com as primeiras 5 instâncias.\n",
        "\n",
        "**<font color=\"red\">Code:</font>**"
      ]
    },
    {
      "cell_type": "code",
      "source": [
        "import pandas as pd\n",
        "# Baixe o arquivo breast-cancer-wisconsin.data e transforme-o em um dataframe. Salve esse dataframe na variável data \n",
        "# Link do arquivo 'https://archive.ics.uci.edu/ml/machine-learning-databases/breast-cancer-wisconsin/breast-cancer-wisconsin.data'\n",
        "\n",
        "data = # código aqui"
      ],
      "metadata": {
        "id": "PQqV5DLC74VP"
      },
      "execution_count": null,
      "outputs": []
    },
    {
      "cell_type": "code",
      "execution_count": null,
      "metadata": {
        "id": "eOeU5VxytNIf"
      },
      "outputs": [],
      "source": [
        "\n",
        "data.columns = ['Sample code', 'Clump Thickness', 'Uniformity of Cell Size', 'Uniformity of Cell Shape',\n",
        "                'Marginal Adhesion', 'Single Epithelial Cell Size', 'Bare Nuclei', 'Bland Chromatin',\n",
        "                'Normal Nucleoli', 'Mitoses','Class']\n",
        "data.head()"
      ]
    },
    {
      "cell_type": "code",
      "source": [
        "# Remova a coluna 'Sample code' do dataset \n",
        "data = # código aqui"
      ],
      "metadata": {
        "id": "JF3Eo8WO7DQW"
      },
      "execution_count": null,
      "outputs": []
    },
    {
      "cell_type": "code",
      "source": [
        "# obtenha a quantidade de instâncias e armazene na variável instances\n",
        "instances = # código aqui"
      ],
      "metadata": {
        "id": "jTpLXUbx7RB7"
      },
      "execution_count": null,
      "outputs": []
    },
    {
      "cell_type": "code",
      "source": [
        "# obtenha a quantidade de atributos e amrmazene na variável atributes\n",
        "atributes = # código aqui"
      ],
      "metadata": {
        "id": "x5sWH8vd7flm"
      },
      "execution_count": null,
      "outputs": []
    },
    {
      "cell_type": "code",
      "source": [
        "print('Número de instâncias  = %d' % (instances))\n",
        "print('Número de atributos = %d' % (atributes))"
      ],
      "metadata": {
        "id": "a1bzGW0U7iFs"
      },
      "execution_count": null,
      "outputs": []
    },
    {
      "cell_type": "markdown",
      "metadata": {
        "id": "Rh1Fw6QZtNIg"
      },
      "source": [
        "## Valores ausentes\n",
        "\n",
        "Não é incomum que um objeto esteja faltando um ou mais valores de atributo. Em alguns casos, as informações não foram coletadas; enquanto em outros casos, alguns atributos são inaplicáveis às instâncias de dados. Esta seção apresenta exemplos sobre as diferentes abordagens para lidar com valores ausentes.\n",
        "\n",
        "De acordo com a descrição dos dados (https://archive.ics.uci.edu/ml/datasets/breast+cancer+wisconsin+(original), os valores ausentes são codificados como '?' nos dados originais. Nossa primeira tarefa é converter os valores ausentes em NaNs. Podemos então contar o número de valores ausentes em cada coluna dos dados.\n",
        "**<font color=\"red\">Code:</font>**"
      ]
    },
    {
      "cell_type": "code",
      "execution_count": null,
      "metadata": {
        "id": "8arM3Ha-tNIh"
      },
      "outputs": [],
      "source": [
        "import numpy as np\n",
        "data = data.replace('?',np.NaN)"
      ]
    },
    {
      "cell_type": "code",
      "source": [
        "# Imprima a quantidade de dados ausentes por coluna. Salve na variável ausentes_col a quantidade de ausentes da coluna atual (iteração do for).\n",
        "print('Número de valores ausentes:')\n",
        "for col in data.columns:\n",
        "  ausentes_col = # código aqui\n",
        "  print('\\t%s: %d' % (col, ausentes_col))"
      ],
      "metadata": {
        "id": "BzjxKSPQ8lB0"
      },
      "execution_count": null,
      "outputs": []
    },
    {
      "cell_type": "markdown",
      "metadata": {
        "id": "eQl9AhXmtNIh"
      },
      "source": [
        "Observe que apenas a coluna 'Bare Nuclei' contém valores ausentes. No exemplo a seguir, os valores ausentes na coluna 'Bare Nuclei' são substituídos pelo valor mediano dessa coluna. Os valores antes e depois da substituição são mostrados para um subconjunto dos pontos de dados.\n",
        "\n",
        "**<font color=\"red\">Code:</font>**"
      ]
    },
    {
      "cell_type": "code",
      "source": [
        "# Como vimos anteriormente, a único atributo que possui dados ausentes é a 'Bare Nuclei'. \n",
        "# Obtenha todos os valores desse atributo e armazene na variável data2\n",
        "\n",
        "data2 = #código aqui"
      ],
      "metadata": {
        "id": "qILMgLwu9mVG"
      },
      "execution_count": null,
      "outputs": []
    },
    {
      "cell_type": "markdown",
      "source": [
        "Agora vamos visualizar uma fatia desses dados. "
      ],
      "metadata": {
        "id": "Q7By2JEf98bX"
      }
    },
    {
      "cell_type": "code",
      "execution_count": null,
      "metadata": {
        "id": "nKlztpZvtNIi"
      },
      "outputs": [],
      "source": [
        "\n",
        "print('Antes de substituir valores ausentes:')\n",
        "print(data2[20:25])"
      ]
    },
    {
      "cell_type": "markdown",
      "source": [
        "Podemos ver que há dados ausentes nessa fatia. Vamos 'inputar' novos dados onde for ausentes. No exemplo abaixo vamos usar a mediana da coluna para substituir os dados que são ausentes. "
      ],
      "metadata": {
        "id": "xEUQplZw-D0U"
      }
    },
    {
      "cell_type": "code",
      "source": [
        "# Preencha os dados ausentes com a mediana da coluna. \n",
        "data2 = # Código aqui"
      ],
      "metadata": {
        "id": "8JFj0SLF9JwD"
      },
      "execution_count": null,
      "outputs": []
    },
    {
      "cell_type": "code",
      "source": [
        "print('\\nDepois de substituir os valores ausentes:')\n",
        "print(data2[20:25])"
      ],
      "metadata": {
        "id": "HoxrwYAp9L4P"
      },
      "execution_count": null,
      "outputs": []
    },
    {
      "cell_type": "markdown",
      "metadata": {
        "id": "6WgTzheltNIj"
      },
      "source": [
        "Em vez de substituir os valores ausentes, outra abordagem comum é descartar os pontos de dados que contêm valores ausentes. Isso pode ser feito facilmente aplicando a função dropna() ao quadro de dados.\n",
        "\n",
        "**<font color=\"red\">Code:</font>**"
      ]
    },
    {
      "cell_type": "code",
      "execution_count": null,
      "metadata": {
        "id": "0EuETGfntNIj"
      },
      "outputs": [],
      "source": [
        "print('Número de linhas nos dados originais = %d' % (data.shape[0]))"
      ]
    },
    {
      "cell_type": "code",
      "source": [
        "#Remova todas as instâncias que possuam algum atributo com dado ausente. \n",
        "data2 = # código aqui"
      ],
      "metadata": {
        "id": "2CmDEjhL-c3F"
      },
      "execution_count": null,
      "outputs": []
    },
    {
      "cell_type": "code",
      "source": [
        "print('Número de linhas após descartar valores ausentes = %d' % (data2.shape[0]))"
      ],
      "metadata": {
        "id": "7qt8FWAH-dVy"
      },
      "execution_count": null,
      "outputs": []
    },
    {
      "cell_type": "markdown",
      "metadata": {
        "id": "5YRSW4dJtNIk"
      },
      "source": [
        "## Outliers\n",
        "\n",
        "Outliers são instâncias de dados com características consideravelmente diferentes do restante do conjunto de dados. No código de exemplo abaixo, desenharemos um boxplot para identificar as colunas na tabela que contêm valores discrepantes. Observe que os valores em todas as colunas (exceto para 'Bare Nuclei') são originalmente armazenados como 'int64' enquanto os valores na coluna 'Bare Nuclei' são armazenados como objetos string (já que a coluna inicialmente contém strings como '?' representando valores ausentes). Assim, devemos primeiro converter a coluna em valores numéricos antes de criar o boxplot. Caso contrário, a coluna não será exibida ao desenhar o boxplot.\n",
        "\n",
        "**<font color=\"red\">Code:</font>**"
      ]
    },
    {
      "cell_type": "code",
      "execution_count": null,
      "metadata": {
        "id": "ro9Ta0HetNIk"
      },
      "outputs": [],
      "source": [
        "%matplotlib inline\n",
        "\n",
        "data2 = data.drop(['Class'],axis=1)\n",
        "data2['Bare Nuclei'] = pd.to_numeric(data2['Bare Nuclei'])\n",
        "data2.boxplot(figsize=(20,3))"
      ]
    },
    {
      "cell_type": "markdown",
      "source": [
        "Note que na figura alguns boxplots possuem círculos na parte superior (poderia ser na inferior também). Isso significa que esses dados fogem do padrão. Os dados 'normais' (que não são outliers) estão dentro dos limites do boxplot. "
      ],
      "metadata": {
        "id": "OBa8s0mh-wxD"
      }
    },
    {
      "cell_type": "markdown",
      "metadata": {
        "id": "RArGi6tUtNIk"
      },
      "source": [
        "Os boxplots sugerem que apenas 5 das colunas (Marginal Adhesion, Single Epithelial Cell Size, Bland Chromatin, Normal Nuceoli e Mitoses) contêm valores anormalmente altos (outliers). Para descartar os outliers, podemos calcular o Z-score para cada atributo e remover as instâncias que contêm atributos com Z-score anormalmente alto ou baixo (por exemplo, se Z > 3 ou Z <= -3).\n",
        "\n",
        "**<font color=\"red\">Code:</font>**\n",
        "\n",
        "O código a seguir mostra os resultados da padronização das colunas dos dados. Observe que os valores omissos (NaN) não são afetados pelo processo de padronização."
      ]
    },
    {
      "cell_type": "code",
      "execution_count": null,
      "metadata": {
        "id": "zDa0n2nktNIl"
      },
      "outputs": [],
      "source": [
        "# Calcule o Z-Score para o dataset armazenado na variável 'data2' e armazene na variável Z  \n",
        "Z = #código aqui"
      ]
    },
    {
      "cell_type": "code",
      "source": [
        "Z[20:25]"
      ],
      "metadata": {
        "id": "ckB0c1yk_pQz"
      },
      "execution_count": null,
      "outputs": []
    },
    {
      "cell_type": "markdown",
      "metadata": {
        "id": "HtvvkY0HtNIl"
      },
      "source": [
        "**<font color=\"red\">Code:</font>**\n",
        "\n",
        "O código a seguir mostra os resultados do descarte de colunas com Z > 3 ou Z <= -3."
      ]
    },
    {
      "cell_type": "code",
      "execution_count": null,
      "metadata": {
        "id": "7wFI-rqmtNIl"
      },
      "outputs": [],
      "source": [
        "print('Número de linhas antes de descartar valores discrepantes = %d' % (Z.shape[0]))\n",
        "\n",
        "Z2 = Z.loc[((Z > -3).sum(axis=1)==9) & ((Z <= 3).sum(axis=1)==9),:]\n",
        "print('Número de linhas depois de descartar valores discrepantes = %d' % (Z2.shape[0]))"
      ]
    },
    {
      "cell_type": "code",
      "source": [
        "Z2.describe()"
      ],
      "metadata": {
        "id": "qGfMdQeCv7ed"
      },
      "execution_count": null,
      "outputs": []
    },
    {
      "cell_type": "markdown",
      "metadata": {
        "id": "_XMq9yVZtNIm"
      },
      "source": [
        "## Dados duplicados\n",
        "\n",
        "Alguns conjuntos de dados, especialmente aqueles obtidos pela mesclagem de várias fontes de dados, podem conter duplicatas ou instâncias quase duplicadas. O termo desduplicação é frequentemente usado para se referir ao processo de lidar com problemas de dados duplicados.\n",
        "\n",
        "**<font color=\"red\">Code:</font>**\n",
        "\n",
        "No exemplo a seguir, primeiro verificamos se há instâncias duplicadas no conjunto de dados de câncer de mama."
      ]
    },
    {
      "cell_type": "code",
      "execution_count": null,
      "metadata": {
        "id": "Rh94BC8ZtNIm"
      },
      "outputs": [],
      "source": [
        "# Calcule a quantidade de dados duplicados no dataset salvo na variável 'data'\n",
        "dups = # código aqui"
      ]
    },
    {
      "cell_type": "code",
      "source": [
        "print('Número de linhas duplicadas = %d' % (dups.sum()))\n",
        "data.loc[[11,28]]"
      ],
      "metadata": {
        "id": "p71t4ILeAH5H"
      },
      "execution_count": null,
      "outputs": []
    },
    {
      "cell_type": "markdown",
      "metadata": {
        "id": "7H4o_LWptNIm"
      },
      "source": [
        "A função utilizada retornará uma matriz booleana que indica se cada linha é uma duplicata de uma linha anterior na tabela. Os resultados sugerem que há 236 linhas duplicadas no conjunto de dados de câncer de mama. Por exemplo, a instância com índice de linha 11 tem valores de atributo idênticos à instância com índice de linha 28. Embora essas linhas duplicadas possam corresponder a amostras de indivíduos diferentes, neste exemplo hipotético, assumimos que as duplicatas são amostras retiradas do mesmo indivíduo e ilustre abaixo como remover as linhas duplicadas.\n",
        "\n",
        "**<font color=\"red\">Code:</font>**"
      ]
    },
    {
      "cell_type": "code",
      "execution_count": null,
      "metadata": {
        "id": "Y9vhD0l7tNIm"
      },
      "outputs": [],
      "source": [
        "print('Número de linhas antes de descartar duplicatas = %d' % (data.shape[0]))"
      ]
    },
    {
      "cell_type": "code",
      "source": [
        "# Remova as instâncias de dados duplicados do dataset definido na variável 'data' e salve o novo dataset na variável 'data2'\n",
        "data2 = # código aqui"
      ],
      "metadata": {
        "id": "1QS8kdwYAZaC"
      },
      "execution_count": null,
      "outputs": []
    },
    {
      "cell_type": "code",
      "source": [
        "print('Número de linhas depois de descartar duplicatass = %d' % (data2.shape[0]))"
      ],
      "metadata": {
        "id": "kgcit66WAZkc"
      },
      "execution_count": null,
      "outputs": []
    },
    {
      "cell_type": "markdown",
      "metadata": {
        "id": "Aa2jNTc3tNIn"
      },
      "source": [
        "## Agregação\n",
        "\n",
        "A agregação de dados é uma tarefa de pré-processamento em que os valores de dois ou mais objetos são combinados em um único objeto. A motivação para a agregação inclui (1) reduzir o tamanho dos dados a serem processados, (2) alterar a granularidade da análise (de escala fina para escala mais grossa) e (3) melhorar a estabilidade dos dados.\n",
        "\n",
        "No exemplo abaixo, usaremos os dados da série temporal diária de precipitação para uma estação meteorológica localizada no Detroit Metro Airport. Os dados brutos foram obtidos do site Climate Data Online (https://www.ncdc.noaa.gov/cdo-web/). A série temporal diária de precipitação será comparada com seus valores mensais..\n",
        "\n",
        "**<font color=\"red\">Code:</font>**\n",
        "\n",
        "O código abaixo carregará os dados da série temporal de precipitação e desenhará um gráfico de linha de sua série temporal diária."
      ]
    },
    {
      "cell_type": "code",
      "execution_count": null,
      "metadata": {
        "id": "6Ck9We2StNIn"
      },
      "outputs": [],
      "source": [
        "daily = pd.read_csv('https://raw.githubusercontent.com/rodrigoclira/mineracao-dados/main/datasets/DTW_prec.csv', header='infer')\n",
        "daily.index = pd.to_datetime(daily['DATE'])"
      ]
    },
    {
      "cell_type": "code",
      "source": [
        "# Obtenha apenas os dados da coluna 'PRCP' do dataset definido na variável 'PRCP'\n",
        "daily = # código aqui\n",
        "daily"
      ],
      "metadata": {
        "id": "c2C-ZqWFAwG5"
      },
      "execution_count": null,
      "outputs": []
    },
    {
      "cell_type": "code",
      "source": [
        "ax = daily.plot(kind='line',figsize=(15,3))\n",
        "ax.set_title('Precipitação Diária (variância = %.4f)' % (daily.var()))"
      ],
      "metadata": {
        "id": "2HZMgwNIyeW8"
      },
      "execution_count": null,
      "outputs": []
    },
    {
      "cell_type": "markdown",
      "metadata": {
        "id": "xhOTER1TtNIn"
      },
      "source": [
        "Observe que as séries temporais diárias parecem ser bastante caóticas e variam significativamente de um passo de tempo para outro. As séries temporais podem ser agrupadas e agregadas por mês para obter os valores totais mensais de precipitação. A série temporal resultante parece variar mais suavemente em comparação com a série temporal diária.\n",
        "\n",
        "**<font color=\"red\">Code:</font>**"
      ]
    },
    {
      "cell_type": "code",
      "source": [
        "# Agrupe agora usando o 'Pandas.Grouper' os dados diários em dados mensais. Ver parâmetro 'freq' de Pandas.Grouper. \n",
        "group = # código aqui\n",
        "monthly = daily.groupby(group).sum()\n",
        "monthly"
      ],
      "metadata": {
        "id": "0xeK6qs8BGXP"
      },
      "execution_count": null,
      "outputs": []
    },
    {
      "cell_type": "code",
      "execution_count": null,
      "metadata": {
        "id": "kiKv-cmVtNIn"
      },
      "outputs": [],
      "source": [
        "ax = monthly.plot(kind='line',figsize=(15,3))\n",
        "ax.set_title('Precipitação Mensal (variância = %.4f)' % (monthly.var()))"
      ]
    },
    {
      "cell_type": "markdown",
      "metadata": {
        "id": "mD-_9bBLtNIo"
      },
      "source": [
        "No exemplo abaixo, as séries temporais de precipitação diária são agrupadas e agregadas por ano para obter os valores anuais de precipitação.\n",
        "\n",
        "**<font color=\"red\">Code:</font>**"
      ]
    },
    {
      "cell_type": "code",
      "execution_count": null,
      "metadata": {
        "id": "Lhi_tf9ctNIo"
      },
      "outputs": [],
      "source": [
        "# Agrupe agora usando o 'Pandas.Grouper' e 'Pandas.groupby' os dados diários em dados anualmente. Ver parâmetro 'freq' de Pandas.Grouper. \n",
        "annual = # código aqui\n",
        "ax = annual.plot(kind='line',figsize=(15,3))\n",
        "ax.set_title('Precipitação Anual (variância = %.4f)' % (annual.var()))"
      ]
    },
    {
      "cell_type": "markdown",
      "metadata": {
        "id": "XBl-MR_ZtNIo"
      },
      "source": [
        "## Amostragem\n",
        "\n",
        "A amostragem é uma abordagem comumente usada para facilitar (1) a redução de dados para análise exploratória de dados e ampliação de algoritmos para aplicativos de big data e (2) quantificar incertezas devido a distribuições de dados variáveis. Existem vários métodos disponíveis para amostragem de dados, como amostragem sem reposição, onde cada instância selecionada é removida do conjunto de dados, e amostragem com reposição, onde cada instância selecionada não é removida, permitindo assim que seja selecionada mais de uma vez na amostra .\n",
        "\n",
        "No exemplo abaixo, aplicaremos a amostragem com substituição e sem substituição ao conjunto de dados de câncer de mama obtido do repositório de aprendizado de máquina da UCI.\n",
        "\n",
        "**<font color=\"red\">Code:</font>**\n",
        "\n",
        "Inicialmente exibimos os primeiros cinco registros da tabela."
      ]
    },
    {
      "cell_type": "code",
      "execution_count": null,
      "metadata": {
        "id": "IEmW2dNNtNIo"
      },
      "outputs": [],
      "source": [
        "data.head()"
      ]
    },
    {
      "cell_type": "markdown",
      "metadata": {
        "id": "BOO5L476tNIo"
      },
      "source": [
        "No código a seguir, uma amostra de tamanho 3 é selecionada aleatoriamente (sem reposição) dos dados originais.\n",
        "\n",
        "**<font color=\"red\">Code:</font>**"
      ]
    },
    {
      "cell_type": "code",
      "execution_count": null,
      "metadata": {
        "id": "80KfCucKtNIo"
      },
      "outputs": [],
      "source": [
        "# Obtenha 3 amostra usando uma amostragem simples sem reposição (ou substituição) \n",
        "sample = # código aqui\n",
        "sample"
      ]
    },
    {
      "cell_type": "markdown",
      "metadata": {
        "id": "ltG59YaitNIo"
      },
      "source": [
        "No próximo exemplo, selecionamos aleatoriamente 1% dos dados (sem substituição) e exibimos as amostras selecionadas. O argumento random_state da função especifica o valor inicial do gerador de números aleatórios.\n",
        "\n",
        "**<font color=\"red\">Code:</font>**"
      ]
    },
    {
      "cell_type": "code",
      "execution_count": null,
      "metadata": {
        "id": "bQ1AQ3NTtNIp"
      },
      "outputs": [],
      "source": [
        "sample = data.sample(frac=0.01, random_state=1)\n",
        "sample"
      ]
    },
    {
      "cell_type": "markdown",
      "metadata": {
        "id": "hAKG9e5CtNIp"
      },
      "source": [
        "Agora realizaremos uma amostragem com reposição para criar uma amostra cujo tamanho seja igual a 1% de todos os dados. Você deve ser capaz de observar instâncias duplicadas na amostra aumentando o tamanho da amostra.\n",
        "\n",
        "**<font color=\"red\">Code:</font>**"
      ]
    },
    {
      "cell_type": "code",
      "execution_count": null,
      "metadata": {
        "id": "0-T4AutDtNIp"
      },
      "outputs": [],
      "source": [
        "# Calcule uma amostragem de 1% com reposição usando o random_state igual a 1. \n",
        "sample = # código aqui\n",
        "sample"
      ]
    },
    {
      "cell_type": "markdown",
      "source": [
        "Por fim, realize uma amostragem estratificada mantendo a propoção das classes. Primeiro calcule a proporção das classes "
      ],
      "metadata": {
        "id": "ki8Uv0c803WQ"
      }
    },
    {
      "cell_type": "code",
      "source": [
        "import seaborn as sns\n",
        "data['Class'].value_counts()/data['Class'].count() # divisão das classes"
      ],
      "metadata": {
        "id": "zrMF1m9p023i"
      },
      "execution_count": null,
      "outputs": []
    },
    {
      "cell_type": "markdown",
      "source": [
        "Agora pege uma amostra com **20** instâncias mantendo a proporção inicial entre as classes."
      ],
      "metadata": {
        "id": "-kbQJ4Yt3pQc"
      }
    },
    {
      "cell_type": "code",
      "source": [
        "# Obtenha 20 amostras mantendo a proporção (estratificada) das classes. \n",
        "# Armazene as amostras na variável 'amostra_estratificada'\n",
        "tamanho_amostra = 20\n",
        "\n",
        "#\n",
        "# Código AQUI \n",
        "#\n",
        "\n",
        "amostra_estratificada"
      ],
      "metadata": {
        "id": "BKyOd08Z282F"
      },
      "execution_count": null,
      "outputs": []
    },
    {
      "cell_type": "markdown",
      "source": [
        "Por fim, cheque se a amostra estratificada mantem a mesma proporção inicial."
      ],
      "metadata": {
        "id": "YknP5QJX31iq"
      }
    },
    {
      "cell_type": "code",
      "source": [
        "amostra_estratificada['Class'].value_counts()/amostra_estratificada['Class'].count() # divisão das classes"
      ],
      "metadata": {
        "id": "6XEUdHSg3OPH"
      },
      "execution_count": null,
      "outputs": []
    },
    {
      "cell_type": "markdown",
      "metadata": {
        "id": "dnBK9rVetNIp"
      },
      "source": [
        "## Discretização\n",
        "\n",
        "A discretização é uma etapa de pré-processamento de dados que geralmente é usada para transformar um atributo de valor contínuo em um atributo categórico. O exemplo abaixo ilustra dois métodos de discretização não supervisionados simples, mas amplamente utilizados (largura igual e profundidade igual) aplicados ao atributo 'Glump Thickness' do conjunto de dados de câncer de mama."
      ]
    },
    {
      "cell_type": "markdown",
      "metadata": {
        "id": "l5BJCLWCtNIp"
      },
      "source": [
        "Primeiro, traçamos um histograma que mostra a distribuição dos valores dos atributos. A função value_counts() também pode ser aplicada para contar a frequência de cada valor de atributo.\n",
        "\n",
        "**<font color=\"red\">Code:</font>**"
      ]
    },
    {
      "cell_type": "code",
      "execution_count": null,
      "metadata": {
        "id": "C_T01oDTtNIp"
      },
      "outputs": [],
      "source": [
        "col_name = 'Clump Thickness'\n",
        "data[col_name].hist(bins=10)\n",
        "data[col_name].value_counts(sort=False)"
      ]
    },
    {
      "cell_type": "markdown",
      "metadata": {
        "id": "Drhjv0x8tNIq"
      },
      "source": [
        "Para o método de largura igual, podemos aplicar uma função do pandas para discretizar o atributo em 4 caixas de larguras de intervalo semelhantes. Depois, a função value_counts() pode ser usada para determinar o número de instâncias em cada bin.\n",
        "\n",
        "**<font color=\"red\">Code:</font>**"
      ]
    },
    {
      "cell_type": "code",
      "execution_count": null,
      "metadata": {
        "id": "nyX9TSjrtNIq"
      },
      "outputs": [],
      "source": [
        "# Discretize os atributos da coluna 'Clump Thickness' em 4 faixas e salve-os em na variável 'bin'\n",
        "bins = # código aqui\n",
        "\n",
        "bins.value_counts(sort=False)"
      ]
    },
    {
      "cell_type": "markdown",
      "metadata": {
        "id": "a8_2kmaEtNIq"
      },
      "source": [
        "Para o método de frequência igual, a função qcut() pode ser usada para particionar os valores em 4 compartimentos, de modo que cada compartimento tenha quase o mesmo número de instâncias.\n",
        "\n",
        "**<font color=\"red\">Code:</font>**"
      ]
    },
    {
      "cell_type": "code",
      "execution_count": null,
      "metadata": {
        "id": "wAU-YGwatNIq"
      },
      "outputs": [],
      "source": [
        "bins = pd.qcut(data[col_name], 4)\n",
        "bins.value_counts(sort=False)"
      ]
    },
    {
      "cell_type": "markdown",
      "metadata": {
        "id": "vYRaIBaVtNIq"
      },
      "source": [
        "## Principal Component Analysis\n",
        "\n",
        "A análise de componentes principais (PCA) é um método clássico para reduzir o número de atributos nos dados, projetando os dados de seu espaço original de alta dimensão em um espaço de dimensão inferior. Os novos atributos (também conhecidos como componentes) criados pelo PCA têm as seguintes propriedades: (1) são combinações lineares dos atributos originais, (2) são ortogonais (perpendiculares) entre si e (3) capturam o máximo quantidade de variação nos dados.\n",
        "\n",
        "O exemplo abaixo ilustra a aplicação do PCA a um conjunto de dados de imagem. Existem 16 arquivos RGB, cada um com um tamanho de 111 x 111 pixels. O código de exemplo abaixo lerá cada arquivo de imagem e converterá a imagem RGB em valores de recurso de 111 x 111 x 3 = 36963. Isso criará uma matriz de dados de tamanho 16 x 36963.\n",
        "\n",
        "**<font color=\"red\">Code:</font>**"
      ]
    },
    {
      "cell_type": "markdown",
      "source": [
        "Como preparação do código que será executado, você precisar fazer um upload de um conjunto de imagens que estão disponíveis no arquivo 'pics.zip' (https://github.com/rodrigoclira/mineracao-dados/raw/main/datasets/pics.zip). \n",
        "\n",
        "Após baixá-lo, clique na aba lateral do colab e faça o upload, como indicado na imagem abaixo. (1) aba de arquivos, (2) ação de upload, (3) arquivo 'pic.zip' no colab. Certifique-se que o 'pics.zip' esteja aparecendo. Ao lado do botão upload tem um botão de 'refresh' para atualização da exibição dos arquivos que estão disponíveis. Só execute o comando de 'unzip' quando o pacote de zipado estiver disponível. "
      ],
      "metadata": {
        "id": "gwo_06_q4X5T"
      }
    },
    {
      "cell_type": "markdown",
      "source": [
        "\n",
        "![image.png](data:image/png;base64,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)"
      ],
      "metadata": {
        "id": "eVUjz3Fs5X0q"
      }
    },
    {
      "cell_type": "code",
      "source": [
        "!unzip pics.zip"
      ],
      "metadata": {
        "id": "43Zj19ut4GDh"
      },
      "execution_count": null,
      "outputs": []
    },
    {
      "cell_type": "code",
      "execution_count": null,
      "metadata": {
        "id": "6kdbzuBXtNIq"
      },
      "outputs": [],
      "source": [
        "%matplotlib inline\n",
        "import matplotlib.pyplot as plt\n",
        "import matplotlib.image as mpimg\n",
        "import numpy as np\n",
        "\n",
        "numImages = 16\n",
        "fig = plt.figure(figsize=(7,7))\n",
        "imgData = np.zeros(shape=(numImages,36963))\n",
        "\n",
        "for i in range(1,numImages+1):\n",
        "    filename = 'pics/Picture'+str(i)+'.jpg'\n",
        "    img = mpimg.imread(filename)\n",
        "    ax = fig.add_subplot(4,4,i)\n",
        "    plt.imshow(img)\n",
        "    plt.axis('off')\n",
        "    ax.set_title(str(i))\n",
        "    imgData[i-1] = np.array(img.flatten()).reshape(1,img.shape[0]*img.shape[1]*img.shape[2])"
      ]
    },
    {
      "cell_type": "code",
      "source": [
        "imgData"
      ],
      "metadata": {
        "id": "_6uycFyLE_mP"
      },
      "execution_count": null,
      "outputs": []
    },
    {
      "cell_type": "markdown",
      "metadata": {
        "id": "94_GgpUktNIr"
      },
      "source": [
        "\n",
        "Usando PCA, a matriz de dados é projetada para seus dois (**2**) primeiros componentes principais. Os valores projetados dos dados da imagem original são armazenados em um objeto DataFrame do pandas chamado projected.\n",
        "\n",
        "**<font color=\"red\">Code:</font>**"
      ]
    },
    {
      "cell_type": "code",
      "execution_count": null,
      "metadata": {
        "id": "yYBgK04etNIr"
      },
      "outputs": [],
      "source": [
        "import pandas as pd\n",
        "from sklearn.decomposition import PCA\n",
        "\n",
        "# Implemente um PCA que irá extarir os dois componentes principais que representam\n",
        "# os dados contidos na variável imgData. Esses dois componentes devem ser armazenados\n",
        "# na variável 'projected'\n",
        "numComponents = 2\n",
        "\n",
        "#\n",
        "# PCA AQUI\n",
        "#\n",
        "\n",
        "# Armazenar os dados projetos em projected \n",
        "projected = # código aqui"
      ]
    },
    {
      "cell_type": "code",
      "source": [
        "projected = pd.DataFrame(projected,columns=['pc1','pc2'],index=range(1,numImages+1))\n",
        "\n",
        "# Definindo as classes\n",
        "projected['food'] = ['burger', 'burger', 'burger', 'burger', 'drink', 'drink', 'drink', 'drink',\n",
        "                      'pasta', 'pasta', 'pasta', 'pasta', 'chicken', 'chicken', 'chicken', 'chicken']\n",
        "projected"
      ],
      "metadata": {
        "id": "FFEZgxvwFkNY"
      },
      "execution_count": null,
      "outputs": []
    },
    {
      "cell_type": "markdown",
      "metadata": {
        "id": "qjWW-RW-tNIr"
      },
      "source": [
        "Por fim, desenhamos um gráfico de dispersão para exibir os valores projetados. Observe que as imagens de hambúrgueres, bebidas e massas são todas projetadas para a mesma região. No entanto, as imagens de frango frito (mostradas como quadrados pretos no diagrama) são mais difíceis de discriminar.\n",
        "\n",
        "**<font color=\"red\">Code:</font>**"
      ]
    },
    {
      "cell_type": "code",
      "execution_count": null,
      "metadata": {
        "id": "0tPhtNeztNIr"
      },
      "outputs": [],
      "source": [
        "import matplotlib.pyplot as plt\n",
        "\n",
        "colors = {'burger':'b', 'drink':'r', 'pasta':'g', 'chicken':'k'}\n",
        "markerTypes = {'burger':'+', 'drink':'x', 'pasta':'o', 'chicken':'s'}\n",
        "\n",
        "for foodType in markerTypes:\n",
        "    d = projected[projected['food']==foodType]\n",
        "    plt.scatter(d['pc1'],d['pc2'],c=colors[foodType],s=60,marker=markerTypes[foodType])"
      ]
    },
    {
      "cell_type": "markdown",
      "metadata": {
        "id": "VLQ9QOhZtNIr"
      },
      "source": [
        "## Resumo\n",
        "\n",
        "Este tutorial apresenta exemplos de programação Python para pré-processamento de dados, incluindo limpeza de dados (para lidar com valores ausentes e remover valores discrepantes, bem como dados duplicados), agregação, amostragem, discretização e redução de dimensionalidade usando análise de componentes principais.\n",
        "\n",
        "**<font color='blue'>References:</font>**\n",
        "\n",
        "1. Lichman, M. (2013). UCI Machine Learning Repository [http://archive.ics.uci.edu/ml]. Irvine, CA: University of California, School of Information and Computer Science. \n",
        "\n",
        "2. Mangasarian, O.L. and Wolberg, W. H. (1990). \"Cancer diagnosis via linear programming\", SIAM News, Volume 23, Number 5, pp 1 & 18.\n",
        "\n",
        "3. Wolberg, W.H. and Mangasarian, O.L. (1990). \"Multisurface method of pattern separation for medical diagnosis applied to breast cytology\", Proceedings of the National Academy of Sciences, U.S.A., Volume 87, pp 9193-9196. \n",
        "\n",
        "4. Climate Data Online [https://www.ncdc.noaa.gov/cdo-web/]. "
      ]
    }
  ],
  "metadata": {
    "kernelspec": {
      "display_name": "Python 3",
      "language": "python",
      "name": "python3"
    },
    "language_info": {
      "codemirror_mode": {
        "name": "ipython",
        "version": 3
      },
      "file_extension": ".py",
      "mimetype": "text/x-python",
      "name": "python",
      "nbconvert_exporter": "python",
      "pygments_lexer": "ipython3",
      "version": "3.6.4"
    },
    "colab": {
      "name": "Preprocessing-atv.ipynb",
      "provenance": [],
      "collapsed_sections": [],
      "include_colab_link": true
    }
  },
  "nbformat": 4,
  "nbformat_minor": 0
}