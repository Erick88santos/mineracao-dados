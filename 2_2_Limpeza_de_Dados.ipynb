{
  "nbformat": 4,
  "nbformat_minor": 0,
  "metadata": {
    "colab": {
      "name": "2.2 - Limpeza de Dados.ipynb",
      "private_outputs": true,
      "provenance": [],
      "collapsed_sections": [],
      "authorship_tag": "ABX9TyOYDDPd22BRWoPSMgYmu5i1",
      "include_colab_link": true
    },
    "kernelspec": {
      "name": "python3",
      "display_name": "Python 3"
    },
    "language_info": {
      "name": "python"
    }
  },
  "cells": [
    {
      "cell_type": "markdown",
      "metadata": {
        "id": "view-in-github",
        "colab_type": "text"
      },
      "source": [
        "<a href=\"https://colab.research.google.com/github/rodrigoclira/mineracao-dados/blob/main/2_2_Limpeza_de_Dados.ipynb\" target=\"_parent\"><img src=\"https://colab.research.google.com/assets/colab-badge.svg\" alt=\"Open In Colab\"/></a>"
      ]
    },
    {
      "cell_type": "markdown",
      "metadata": {
        "id": "Ly1JY9Cv97KT"
      },
      "source": [
        "#Limpeza de Dados\n",
        "\n",
        "https://pyjanitor-devs.github.io/pyjanitor/index.html"
      ]
    },
    {
      "cell_type": "code",
      "metadata": {
        "id": "x3qGZt6T-WM0"
      },
      "source": [
        "!pip3 install pyjanitor\n",
        "!pip3 install ConfigParser"
      ],
      "execution_count": null,
      "outputs": []
    },
    {
      "cell_type": "code",
      "metadata": {
        "id": "RiRn55vb9umS"
      },
      "source": [
        "import janitor as jn\n",
        "import pandas as pd"
      ],
      "execution_count": null,
      "outputs": []
    },
    {
      "cell_type": "code",
      "metadata": {
        "id": "1u5Jb6fK-AnT"
      },
      "source": [
        "bad_dataframe = pd.DataFrame({\n",
        "    \"A\" : [1, None, 3], \n",
        "    \" sales numbers \" : [20.0, 30.0, None],} )"
      ],
      "execution_count": null,
      "outputs": []
    },
    {
      "cell_type": "code",
      "metadata": {
        "id": "YTAjWBMFAf4h"
      },
      "source": [
        "jn.clean_names(bad_dataframe)"
      ],
      "execution_count": null,
      "outputs": []
    },
    {
      "cell_type": "markdown",
      "metadata": {
        "id": "XnugeXASAyUo"
      },
      "source": [
        "Removendo espaços"
      ]
    },
    {
      "cell_type": "code",
      "metadata": {
        "id": "KSTNlouVAxTm"
      },
      "source": [
        "def clean_col(name):\n",
        "  return name.strip().lower().replace(\" \", \"_\")"
      ],
      "execution_count": null,
      "outputs": []
    },
    {
      "cell_type": "code",
      "metadata": {
        "id": "kL3N-ANSA8yL"
      },
      "source": [
        "bad_dataframe_renamed = bad_dataframe.rename(columns = clean_col)"
      ],
      "execution_count": null,
      "outputs": []
    },
    {
      "cell_type": "code",
      "metadata": {
        "id": "riXZ8TwjDMSL"
      },
      "source": [
        "bad_dataframe_renamed"
      ],
      "execution_count": null,
      "outputs": []
    },
    {
      "cell_type": "markdown",
      "metadata": {
        "id": "FDtGDgPHBN0T"
      },
      "source": [
        "Usando janitor para substituir valores ausentes"
      ]
    },
    {
      "cell_type": "code",
      "metadata": {
        "id": "r23nsuA0BRJj"
      },
      "source": [
        "jn.coalesce(bad_dataframe, \"A\", \" sales numbers \", target_column_name = \"val\")"
      ],
      "execution_count": null,
      "outputs": []
    },
    {
      "cell_type": "markdown",
      "metadata": {
        "id": "I6u6EKOWq06a"
      },
      "source": [
        "Imputando dados com PyJanitor"
      ]
    },
    {
      "cell_type": "code",
      "metadata": {
        "id": "9ToPVCIBq0VK"
      },
      "source": [
        "jn.fill_empty(bad_dataframe, [ \"A\", \" sales numbers \"], value = 10)"
      ],
      "execution_count": null,
      "outputs": []
    },
    {
      "cell_type": "code",
      "metadata": {
        "id": "HW2t2x8PrWHn"
      },
      "source": [
        "bad_dataframe.isna()"
      ],
      "execution_count": null,
      "outputs": []
    },
    {
      "cell_type": "code",
      "metadata": {
        "id": "vqz5k9bQrgJD"
      },
      "source": [
        "bad_dataframe.isna().any()"
      ],
      "execution_count": null,
      "outputs": []
    },
    {
      "cell_type": "code",
      "metadata": {
        "id": "_jPJ0aZ2rpJP"
      },
      "source": [
        "bad_dataframe.isna().any().any()"
      ],
      "execution_count": null,
      "outputs": []
    }
  ]
}